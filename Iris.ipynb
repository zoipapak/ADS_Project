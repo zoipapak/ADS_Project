{
 "cells": [
  {
   "cell_type": "code",
   "execution_count": 48,
   "id": "3b2c154d",
   "metadata": {},
   "outputs": [],
   "source": [
    "#Import libraries\n",
    "\n",
    "import pandas as pd \n",
    "import numpy as np\n",
    "import matplotlib.pyplot as plt\n",
    "from sklearn import datasets\n",
    "import seaborn as sns"
   ]
  },
  {
   "cell_type": "code",
   "execution_count": 49,
   "id": "58ed4ab6",
   "metadata": {},
   "outputs": [],
   "source": [
    "#Load dataset\n",
    "iris = datasets.load_iris()\n",
    "df = pd.DataFrame(data=iris.data, columns=iris.feature_names) # convert breast cancer data to Dataframe\n",
    "df[\"target\"]=iris.target"
   ]
  },
  {
   "cell_type": "code",
   "execution_count": 50,
   "id": "5aeae6fa",
   "metadata": {},
   "outputs": [
    {
     "data": {
      "text/html": [
       "<div>\n",
       "<style scoped>\n",
       "    .dataframe tbody tr th:only-of-type {\n",
       "        vertical-align: middle;\n",
       "    }\n",
       "\n",
       "    .dataframe tbody tr th {\n",
       "        vertical-align: top;\n",
       "    }\n",
       "\n",
       "    .dataframe thead th {\n",
       "        text-align: right;\n",
       "    }\n",
       "</style>\n",
       "<table border=\"1\" class=\"dataframe\">\n",
       "  <thead>\n",
       "    <tr style=\"text-align: right;\">\n",
       "      <th></th>\n",
       "      <th>sepal length (cm)</th>\n",
       "      <th>sepal width (cm)</th>\n",
       "      <th>petal length (cm)</th>\n",
       "      <th>petal width (cm)</th>\n",
       "      <th>target</th>\n",
       "    </tr>\n",
       "  </thead>\n",
       "  <tbody>\n",
       "    <tr>\n",
       "      <th>0</th>\n",
       "      <td>5.1</td>\n",
       "      <td>3.5</td>\n",
       "      <td>1.4</td>\n",
       "      <td>0.2</td>\n",
       "      <td>0</td>\n",
       "    </tr>\n",
       "    <tr>\n",
       "      <th>1</th>\n",
       "      <td>4.9</td>\n",
       "      <td>3.0</td>\n",
       "      <td>1.4</td>\n",
       "      <td>0.2</td>\n",
       "      <td>0</td>\n",
       "    </tr>\n",
       "    <tr>\n",
       "      <th>2</th>\n",
       "      <td>4.7</td>\n",
       "      <td>3.2</td>\n",
       "      <td>1.3</td>\n",
       "      <td>0.2</td>\n",
       "      <td>0</td>\n",
       "    </tr>\n",
       "    <tr>\n",
       "      <th>3</th>\n",
       "      <td>4.6</td>\n",
       "      <td>3.1</td>\n",
       "      <td>1.5</td>\n",
       "      <td>0.2</td>\n",
       "      <td>0</td>\n",
       "    </tr>\n",
       "    <tr>\n",
       "      <th>4</th>\n",
       "      <td>5.0</td>\n",
       "      <td>3.6</td>\n",
       "      <td>1.4</td>\n",
       "      <td>0.2</td>\n",
       "      <td>0</td>\n",
       "    </tr>\n",
       "  </tbody>\n",
       "</table>\n",
       "</div>"
      ],
      "text/plain": [
       "   sepal length (cm)  sepal width (cm)  petal length (cm)  petal width (cm)  \\\n",
       "0                5.1               3.5                1.4               0.2   \n",
       "1                4.9               3.0                1.4               0.2   \n",
       "2                4.7               3.2                1.3               0.2   \n",
       "3                4.6               3.1                1.5               0.2   \n",
       "4                5.0               3.6                1.4               0.2   \n",
       "\n",
       "   target  \n",
       "0       0  \n",
       "1       0  \n",
       "2       0  \n",
       "3       0  \n",
       "4       0  "
      ]
     },
     "execution_count": 50,
     "metadata": {},
     "output_type": "execute_result"
    }
   ],
   "source": [
    "df.head()"
   ]
  },
  {
   "cell_type": "code",
   "execution_count": 51,
   "id": "07257ef0",
   "metadata": {},
   "outputs": [
    {
     "data": {
      "text/plain": [
       "sepal length (cm)    float64\n",
       "sepal width (cm)     float64\n",
       "petal length (cm)    float64\n",
       "petal width (cm)     float64\n",
       "target                 int32\n",
       "dtype: object"
      ]
     },
     "execution_count": 51,
     "metadata": {},
     "output_type": "execute_result"
    }
   ],
   "source": [
    "df.dtypes"
   ]
  },
  {
   "cell_type": "code",
   "execution_count": 52,
   "id": "d5b4275d",
   "metadata": {},
   "outputs": [
    {
     "data": {
      "text/html": [
       "<div>\n",
       "<style scoped>\n",
       "    .dataframe tbody tr th:only-of-type {\n",
       "        vertical-align: middle;\n",
       "    }\n",
       "\n",
       "    .dataframe tbody tr th {\n",
       "        vertical-align: top;\n",
       "    }\n",
       "\n",
       "    .dataframe thead th {\n",
       "        text-align: right;\n",
       "    }\n",
       "</style>\n",
       "<table border=\"1\" class=\"dataframe\">\n",
       "  <thead>\n",
       "    <tr style=\"text-align: right;\">\n",
       "      <th></th>\n",
       "      <th>sepal length (cm)</th>\n",
       "      <th>sepal width (cm)</th>\n",
       "      <th>petal length (cm)</th>\n",
       "      <th>petal width (cm)</th>\n",
       "      <th>target</th>\n",
       "    </tr>\n",
       "  </thead>\n",
       "  <tbody>\n",
       "    <tr>\n",
       "      <th>count</th>\n",
       "      <td>150.000000</td>\n",
       "      <td>150.000000</td>\n",
       "      <td>150.000000</td>\n",
       "      <td>150.000000</td>\n",
       "      <td>150.000000</td>\n",
       "    </tr>\n",
       "    <tr>\n",
       "      <th>mean</th>\n",
       "      <td>5.843333</td>\n",
       "      <td>3.057333</td>\n",
       "      <td>3.758000</td>\n",
       "      <td>1.199333</td>\n",
       "      <td>1.000000</td>\n",
       "    </tr>\n",
       "    <tr>\n",
       "      <th>std</th>\n",
       "      <td>0.828066</td>\n",
       "      <td>0.435866</td>\n",
       "      <td>1.765298</td>\n",
       "      <td>0.762238</td>\n",
       "      <td>0.819232</td>\n",
       "    </tr>\n",
       "    <tr>\n",
       "      <th>min</th>\n",
       "      <td>4.300000</td>\n",
       "      <td>2.000000</td>\n",
       "      <td>1.000000</td>\n",
       "      <td>0.100000</td>\n",
       "      <td>0.000000</td>\n",
       "    </tr>\n",
       "    <tr>\n",
       "      <th>25%</th>\n",
       "      <td>5.100000</td>\n",
       "      <td>2.800000</td>\n",
       "      <td>1.600000</td>\n",
       "      <td>0.300000</td>\n",
       "      <td>0.000000</td>\n",
       "    </tr>\n",
       "    <tr>\n",
       "      <th>50%</th>\n",
       "      <td>5.800000</td>\n",
       "      <td>3.000000</td>\n",
       "      <td>4.350000</td>\n",
       "      <td>1.300000</td>\n",
       "      <td>1.000000</td>\n",
       "    </tr>\n",
       "    <tr>\n",
       "      <th>75%</th>\n",
       "      <td>6.400000</td>\n",
       "      <td>3.300000</td>\n",
       "      <td>5.100000</td>\n",
       "      <td>1.800000</td>\n",
       "      <td>2.000000</td>\n",
       "    </tr>\n",
       "    <tr>\n",
       "      <th>max</th>\n",
       "      <td>7.900000</td>\n",
       "      <td>4.400000</td>\n",
       "      <td>6.900000</td>\n",
       "      <td>2.500000</td>\n",
       "      <td>2.000000</td>\n",
       "    </tr>\n",
       "  </tbody>\n",
       "</table>\n",
       "</div>"
      ],
      "text/plain": [
       "       sepal length (cm)  sepal width (cm)  petal length (cm)  \\\n",
       "count         150.000000        150.000000         150.000000   \n",
       "mean            5.843333          3.057333           3.758000   \n",
       "std             0.828066          0.435866           1.765298   \n",
       "min             4.300000          2.000000           1.000000   \n",
       "25%             5.100000          2.800000           1.600000   \n",
       "50%             5.800000          3.000000           4.350000   \n",
       "75%             6.400000          3.300000           5.100000   \n",
       "max             7.900000          4.400000           6.900000   \n",
       "\n",
       "       petal width (cm)      target  \n",
       "count        150.000000  150.000000  \n",
       "mean           1.199333    1.000000  \n",
       "std            0.762238    0.819232  \n",
       "min            0.100000    0.000000  \n",
       "25%            0.300000    0.000000  \n",
       "50%            1.300000    1.000000  \n",
       "75%            1.800000    2.000000  \n",
       "max            2.500000    2.000000  "
      ]
     },
     "execution_count": 52,
     "metadata": {},
     "output_type": "execute_result"
    }
   ],
   "source": [
    "df.describe()"
   ]
  },
  {
   "cell_type": "code",
   "execution_count": 53,
   "id": "b505c304",
   "metadata": {},
   "outputs": [
    {
     "data": {
      "text/plain": [
       "0    50\n",
       "1    50\n",
       "2    50\n",
       "Name: target, dtype: int64"
      ]
     },
     "execution_count": 53,
     "metadata": {},
     "output_type": "execute_result"
    }
   ],
   "source": [
    "df.target.value_counts()"
   ]
  },
  {
   "cell_type": "code",
   "execution_count": 54,
   "id": "8de0f548",
   "metadata": {},
   "outputs": [
    {
     "data": {
      "image/png": "[encoded data removed]",
      "text/plain": [
       "<Figure size 1440x1440 with 6 Axes>"
      ]
     },
     "metadata": {},
     "output_type": "display_data"
    }
   ],
   "source": [
    "plt.rcParams[\"figure.figsize\"] = (20,20)\n",
    "df.hist()\n",
    "plt.show()"
   ]
  },
  {
   "cell_type": "code",
   "execution_count": 55,
   "id": "adb26382",
   "metadata": {},
   "outputs": [
    {
     "data": {
      "image/png": "[encoded data removed]",
      "text/plain": [
       "<Figure size 1440x1440 with 35 Axes>"
      ]
     },
     "metadata": {},
     "output_type": "display_data"
    }
   ],
   "source": [
    "df.plot(kind='density', subplots=True, layout=(5,7), sharex=False)\n",
    "plt.show()"
   ]
  },
  {
   "cell_type": "code",
   "execution_count": 56,
   "id": "ffb513bb",
   "metadata": {},
   "outputs": [
    {
     "data": {
      "text/plain": [
       "sepal length (cm)    0\n",
       "sepal width (cm)     0\n",
       "petal length (cm)    0\n",
       "petal width (cm)     0\n",
       "target               0\n",
       "dtype: int64"
      ]
     },
     "execution_count": 56,
     "metadata": {},
     "output_type": "execute_result"
    }
   ],
   "source": [
    "df.isnull().sum()"
   ]
  },
  {
   "cell_type": "code",
   "execution_count": 57,
   "id": "53a17f5e",
   "metadata": {},
   "outputs": [
    {
     "data": {
      "text/plain": [
       "sepal length (cm)    0\n",
       "sepal width (cm)     0\n",
       "petal length (cm)    0\n",
       "petal width (cm)     0\n",
       "target               0\n",
       "dtype: int64"
      ]
     },
     "execution_count": 57,
     "metadata": {},
     "output_type": "execute_result"
    }
   ],
   "source": [
    "df.isna().sum()"
   ]
  },
  {
   "cell_type": "code",
   "execution_count": 58,
   "id": "9cb74c01",
   "metadata": {},
   "outputs": [
    {
     "data": {
      "text/html": [
       "<div>\n",
       "<style scoped>\n",
       "    .dataframe tbody tr th:only-of-type {\n",
       "        vertical-align: middle;\n",
       "    }\n",
       "\n",
       "    .dataframe tbody tr th {\n",
       "        vertical-align: top;\n",
       "    }\n",
       "\n",
       "    .dataframe thead th {\n",
       "        text-align: right;\n",
       "    }\n",
       "</style>\n",
       "<table border=\"1\" class=\"dataframe\">\n",
       "  <thead>\n",
       "    <tr style=\"text-align: right;\">\n",
       "      <th></th>\n",
       "      <th>sepal length (cm)</th>\n",
       "      <th>sepal width (cm)</th>\n",
       "      <th>petal length (cm)</th>\n",
       "      <th>petal width (cm)</th>\n",
       "      <th>target</th>\n",
       "    </tr>\n",
       "  </thead>\n",
       "  <tbody>\n",
       "    <tr>\n",
       "      <th>142</th>\n",
       "      <td>5.8</td>\n",
       "      <td>2.7</td>\n",
       "      <td>5.1</td>\n",
       "      <td>1.9</td>\n",
       "      <td>2</td>\n",
       "    </tr>\n",
       "  </tbody>\n",
       "</table>\n",
       "</div>"
      ],
      "text/plain": [
       "     sepal length (cm)  sepal width (cm)  petal length (cm)  petal width (cm)  \\\n",
       "142                5.8               2.7                5.1               1.9   \n",
       "\n",
       "     target  \n",
       "142       2  "
      ]
     },
     "execution_count": 58,
     "metadata": {},
     "output_type": "execute_result"
    }
   ],
   "source": [
    "duplicate_values = df[df.duplicated()]\n",
    "duplicate_values"
   ]
  },
  {
   "cell_type": "code",
   "execution_count": 59,
   "id": "9b232fd1",
   "metadata": {},
   "outputs": [],
   "source": [
    "df.drop_duplicates(keep='first', inplace=True)"
   ]
  },
  {
   "cell_type": "code",
   "execution_count": 60,
   "id": "bd4d305c",
   "metadata": {},
   "outputs": [
    {
     "data": {
      "text/html": [
       "<div>\n",
       "<style scoped>\n",
       "    .dataframe tbody tr th:only-of-type {\n",
       "        vertical-align: middle;\n",
       "    }\n",
       "\n",
       "    .dataframe tbody tr th {\n",
       "        vertical-align: top;\n",
       "    }\n",
       "\n",
       "    .dataframe thead th {\n",
       "        text-align: right;\n",
       "    }\n",
       "</style>\n",
       "<table border=\"1\" class=\"dataframe\">\n",
       "  <thead>\n",
       "    <tr style=\"text-align: right;\">\n",
       "      <th></th>\n",
       "      <th>sepal length (cm)</th>\n",
       "      <th>sepal width (cm)</th>\n",
       "      <th>petal length (cm)</th>\n",
       "      <th>petal width (cm)</th>\n",
       "      <th>target</th>\n",
       "    </tr>\n",
       "  </thead>\n",
       "  <tbody>\n",
       "  </tbody>\n",
       "</table>\n",
       "</div>"
      ],
      "text/plain": [
       "Empty DataFrame\n",
       "Columns: [sepal length (cm), sepal width (cm), petal length (cm), petal width (cm), target]\n",
       "Index: []"
      ]
     },
     "execution_count": 60,
     "metadata": {},
     "output_type": "execute_result"
    }
   ],
   "source": [
    "duplicate_values = df[df.duplicated()]\n",
    "duplicate_values"
   ]
  },
  {
   "cell_type": "code",
   "execution_count": 61,
   "id": "710d6646",
   "metadata": {},
   "outputs": [
    {
     "data": {
      "image/png": "[encoded data removed]",
      "text/plain": [
       "<Figure size 1440x1440 with 35 Axes>"
      ]
     },
     "metadata": {},
     "output_type": "display_data"
    }
   ],
   "source": [
    "df.plot(kind='box', subplots=True, layout=(5,7), sharex=False, sharey=False)\n",
    "plt.show()"
   ]
  },
  {
   "cell_type": "code",
   "execution_count": 62,
   "id": "85f383e0",
   "metadata": {},
   "outputs": [
    {
     "data": {
      "text/plain": [
       "Index(['target', 'petal width (cm)', 'petal length (cm)', 'sepal length (cm)',\n",
       "       'sepal width (cm)'],\n",
       "      dtype='object')"
      ]
     },
     "execution_count": 62,
     "metadata": {},
     "output_type": "execute_result"
    }
   ],
   "source": [
    "correlation = df.corr(method='spearman')\n",
    "columns = correlation.nlargest(5,'target').index\n",
    "columns"
   ]
  },
  {
   "cell_type": "code",
   "execution_count": 63,
   "id": "12ff68e5",
   "metadata": {},
   "outputs": [
    {
     "data": {
      "image/png": "[encoded data removed]",
      "text/plain": [
       "<Figure size 1440x720 with 2 Axes>"
      ]
     },
     "metadata": {},
     "output_type": "display_data"
    }
   ],
   "source": [
    "f = plt.figure(figsize=(20, 10))\n",
    "correlation_map = np.corrcoef(df[columns].values.T)\n",
    "sns.set(font_scale=1.0)\n",
    "heatmap = sns.heatmap(correlation_map, cbar=True, annot=True, square=True, fmt='.2f', yticklabels=columns.values, xticklabels=columns.values)\n",
    "\n",
    "plt.show()"
   ]
  },
  {
   "cell_type": "markdown",
   "id": "84739e59",
   "metadata": {},
   "source": [
    "##### Seperate dataset into features and output "
   ]
  },
  {
   "cell_type": "code",
   "execution_count": 64,
   "id": "285aad82",
   "metadata": {},
   "outputs": [],
   "source": [
    "values = df.values\n",
    "\n",
    "X = values[:,0:4]\n",
    "Y = values[:,4]"
   ]
  },
  {
   "cell_type": "markdown",
   "id": "1a086153",
   "metadata": {},
   "source": [
    "##### Feature Scaling "
   ]
  },
  {
   "cell_type": "code",
   "execution_count": 65,
   "id": "0572577f",
   "metadata": {},
   "outputs": [],
   "source": [
    "from sklearn.preprocessing import StandardScaler\n",
    "scaler = StandardScaler() # initialize scaler \n",
    "scaler.fit(X) # learn the necessary info from data \n",
    "X_scaled  = scaler.fit_transform(X) # apply scaling "
   ]
  },
  {
   "cell_type": "code",
   "execution_count": 66,
   "id": "3a7673f9",
   "metadata": {},
   "outputs": [],
   "source": [
    "df_scaled = pd.DataFrame(X_scaled)"
   ]
  },
  {
   "cell_type": "code",
   "execution_count": 67,
   "id": "110aac58",
   "metadata": {},
   "outputs": [
    {
     "data": {
      "image/png": "[encoded data removed]",
      "text/plain": [
       "<Figure size 1440x1440 with 4 Axes>"
      ]
     },
     "metadata": {},
     "output_type": "display_data"
    }
   ],
   "source": [
    "plt.rcParams[\"figure.figsize\"] = (20,20)\n",
    "df_scaled.hist()\n",
    "plt.show()"
   ]
  },
  {
   "cell_type": "code",
   "execution_count": 68,
   "id": "ef793e7d",
   "metadata": {},
   "outputs": [
    {
     "name": "stdout",
     "output_type": "stream",
     "text": [
      " LR: 0.908008 (+/- 0.075431)\n",
      "LDA: 0.979690 (+/- 0.033781)\n",
      "kNN: 0.955421 (+/- 0.047810)\n",
      " DT: 0.949815 (+/- 0.053712)\n",
      " NB: 0.953859 (+/- 0.053100)\n",
      "SVM: 0.960176 (+/- 0.051577)\n",
      " RF: 0.956522 (+/- 0.048388)\n",
      " GB: 0.952425 (+/- 0.051175)\n",
      "XGB: 0.953590 (+/- 0.045997)\n",
      "AdaBoost: 0.945580 (+/- 0.054301)\n",
      "ANN: 0.952694 (+/- 0.048891)\n"
     ]
    }
   ],
   "source": [
    "#Evaluation metric for 13 algorithms\n",
    "\n",
    "from sklearn.model_selection import cross_val_score\n",
    "from sklearn.model_selection import RepeatedStratifiedKFold\n",
    "from sklearn.pipeline import Pipeline\n",
    "from sklearn.linear_model import LogisticRegression\n",
    "from sklearn.discriminant_analysis import LinearDiscriminantAnalysis # LDA\n",
    "from sklearn.neighbors import KNeighborsClassifier #KNN\n",
    "from sklearn.naive_bayes import GaussianNB  # Naive Bayes\n",
    "from sklearn.tree import DecisionTreeClassifier # Decision Tree\n",
    "from sklearn.svm import SVC # SVM\n",
    "from sklearn.ensemble import RandomForestClassifier\n",
    "from sklearn.ensemble import GradientBoostingClassifier\n",
    "import xgboost as xgb\n",
    "from sklearn.ensemble import AdaBoostClassifier\n",
    "from sklearn.neural_network import MLPClassifier \n",
    "from sklearn.metrics import f1_score # We choose f1 score because the data are unbalanced and f1 takes the combination of precision and recall\n",
    "\n",
    "\n",
    "\n",
    "models = []\n",
    "models.append(('LR',  LogisticRegression(solver='liblinear')))\n",
    "models.append(('LDA', LinearDiscriminantAnalysis()))\n",
    "models.append(('kNN', KNeighborsClassifier()))\n",
    "models.append(('DT',  DecisionTreeClassifier()))\n",
    "models.append(('NB',  GaussianNB()))\n",
    "models.append(('SVM', SVC(kernel=\"linear\", gamma='auto')))\n",
    "models.append(('RF',  RandomForestClassifier()))\n",
    "models.append(('GB',  GradientBoostingClassifier()))\n",
    "models.append(('XGB', xgb.XGBClassifier()))\n",
    "models.append(('AdaBoost',  AdaBoostClassifier()))\n",
    "models.append(('ANN', MLPClassifier()))\n",
    "\n",
    "\n",
    "cv = RepeatedStratifiedKFold(n_splits=10, n_repeats=5, random_state=1)\n",
    "scoring = \"f1_macro\"\n",
    "\n",
    "results_no_noise={}\n",
    "\n",
    "results = []\n",
    "names   = []\n",
    "for i, model in models:\n",
    "    cv_results = cross_val_score(model, X_scaled, Y, cv=cv, n_jobs=-1, scoring=scoring)\n",
    "    results.append(cv_results)\n",
    "    names.append(i)\n",
    "    print(\"%03s: %f (+/- %f)\" % (i, cv_results.mean(), cv_results.std()))\n",
    "    results_no_noise[i]=cv_results.mean()"
   ]
  },
  {
   "cell_type": "code",
   "execution_count": 69,
   "id": "218dd9e5",
   "metadata": {},
   "outputs": [],
   "source": [
    "# Multiple results from cross validation for statistical tests"
   ]
  },
  {
   "cell_type": "code",
   "execution_count": 70,
   "id": "cea35988",
   "metadata": {},
   "outputs": [],
   "source": [
    "# Create a function that assembles cross validation results\n",
    "\n",
    "def cv_res (results):  \n",
    "    \n",
    "    a = [5,10,15,20,25,30,35,40,45,50]\n",
    "\n",
    "    x = []\n",
    "\n",
    "    sum = 0\n",
    "\n",
    "    for i , result in enumerate(results):\n",
    "       \n",
    "        sum += result\n",
    "\n",
    "        if i+1 in a: \n",
    "            x.append(sum/5)\n",
    "            sum=0\n",
    "    return x"
   ]
  },
  {
   "cell_type": "code",
   "execution_count": 71,
   "id": "2d16cf11",
   "metadata": {},
   "outputs": [
    {
     "data": {
      "text/html": [
       "<div>\n",
       "<style scoped>\n",
       "    .dataframe tbody tr th:only-of-type {\n",
       "        vertical-align: middle;\n",
       "    }\n",
       "\n",
       "    .dataframe tbody tr th {\n",
       "        vertical-align: top;\n",
       "    }\n",
       "\n",
       "    .dataframe thead th {\n",
       "        text-align: right;\n",
       "    }\n",
       "</style>\n",
       "<table border=\"1\" class=\"dataframe\">\n",
       "  <thead>\n",
       "    <tr style=\"text-align: right;\">\n",
       "      <th></th>\n",
       "      <th>LR</th>\n",
       "      <th>LDA</th>\n",
       "      <th>kNN</th>\n",
       "      <th>DT</th>\n",
       "      <th>NB</th>\n",
       "      <th>SVM</th>\n",
       "      <th>RF</th>\n",
       "      <th>GB</th>\n",
       "      <th>XGB</th>\n",
       "      <th>AdaBoost</th>\n",
       "      <th>ANN</th>\n",
       "    </tr>\n",
       "  </thead>\n",
       "  <tbody>\n",
       "    <tr>\n",
       "      <th>0</th>\n",
       "      <td>0.946263</td>\n",
       "      <td>0.986532</td>\n",
       "      <td>0.973064</td>\n",
       "      <td>0.973064</td>\n",
       "      <td>0.986532</td>\n",
       "      <td>0.958754</td>\n",
       "      <td>0.973064</td>\n",
       "      <td>0.973064</td>\n",
       "      <td>0.973064</td>\n",
       "      <td>0.973064</td>\n",
       "      <td>0.959865</td>\n",
       "    </tr>\n",
       "    <tr>\n",
       "      <th>1</th>\n",
       "      <td>0.890909</td>\n",
       "      <td>0.971717</td>\n",
       "      <td>0.959596</td>\n",
       "      <td>0.930471</td>\n",
       "      <td>0.931582</td>\n",
       "      <td>0.958249</td>\n",
       "      <td>0.944781</td>\n",
       "      <td>0.930471</td>\n",
       "      <td>0.944781</td>\n",
       "      <td>0.930471</td>\n",
       "      <td>0.944781</td>\n",
       "    </tr>\n",
       "    <tr>\n",
       "      <th>2</th>\n",
       "      <td>0.932660</td>\n",
       "      <td>0.973333</td>\n",
       "      <td>0.933199</td>\n",
       "      <td>0.959865</td>\n",
       "      <td>0.946397</td>\n",
       "      <td>0.946128</td>\n",
       "      <td>0.946667</td>\n",
       "      <td>0.959865</td>\n",
       "      <td>0.959865</td>\n",
       "      <td>0.946397</td>\n",
       "      <td>0.946667</td>\n",
       "    </tr>\n",
       "    <tr>\n",
       "      <th>3</th>\n",
       "      <td>0.885640</td>\n",
       "      <td>0.986532</td>\n",
       "      <td>0.944012</td>\n",
       "      <td>0.944281</td>\n",
       "      <td>0.956638</td>\n",
       "      <td>0.957480</td>\n",
       "      <td>0.970948</td>\n",
       "      <td>0.957749</td>\n",
       "      <td>0.944281</td>\n",
       "      <td>0.957749</td>\n",
       "      <td>0.957480</td>\n",
       "    </tr>\n",
       "    <tr>\n",
       "      <th>4</th>\n",
       "      <td>0.906162</td>\n",
       "      <td>0.986532</td>\n",
       "      <td>0.959865</td>\n",
       "      <td>0.932929</td>\n",
       "      <td>0.946128</td>\n",
       "      <td>0.986532</td>\n",
       "      <td>0.959865</td>\n",
       "      <td>0.945556</td>\n",
       "      <td>0.945556</td>\n",
       "      <td>0.932088</td>\n",
       "      <td>0.947138</td>\n",
       "    </tr>\n",
       "    <tr>\n",
       "      <th>5</th>\n",
       "      <td>0.903805</td>\n",
       "      <td>0.973064</td>\n",
       "      <td>0.946397</td>\n",
       "      <td>0.946397</td>\n",
       "      <td>0.959865</td>\n",
       "      <td>0.958754</td>\n",
       "      <td>0.946397</td>\n",
       "      <td>0.946397</td>\n",
       "      <td>0.959596</td>\n",
       "      <td>0.946397</td>\n",
       "      <td>0.946397</td>\n",
       "    </tr>\n",
       "    <tr>\n",
       "      <th>6</th>\n",
       "      <td>0.905892</td>\n",
       "      <td>0.973064</td>\n",
       "      <td>0.959596</td>\n",
       "      <td>0.946128</td>\n",
       "      <td>0.959596</td>\n",
       "      <td>0.945286</td>\n",
       "      <td>0.946128</td>\n",
       "      <td>0.946128</td>\n",
       "      <td>0.946128</td>\n",
       "      <td>0.931818</td>\n",
       "      <td>0.946128</td>\n",
       "    </tr>\n",
       "    <tr>\n",
       "      <th>7</th>\n",
       "      <td>0.902660</td>\n",
       "      <td>0.986532</td>\n",
       "      <td>0.973333</td>\n",
       "      <td>0.959865</td>\n",
       "      <td>0.946128</td>\n",
       "      <td>0.973064</td>\n",
       "      <td>0.973064</td>\n",
       "      <td>0.959865</td>\n",
       "      <td>0.957480</td>\n",
       "      <td>0.946128</td>\n",
       "      <td>0.959865</td>\n",
       "    </tr>\n",
       "    <tr>\n",
       "      <th>8</th>\n",
       "      <td>0.945286</td>\n",
       "      <td>0.986532</td>\n",
       "      <td>0.973064</td>\n",
       "      <td>0.959596</td>\n",
       "      <td>0.973064</td>\n",
       "      <td>0.944444</td>\n",
       "      <td>0.958754</td>\n",
       "      <td>0.959596</td>\n",
       "      <td>0.959596</td>\n",
       "      <td>0.959596</td>\n",
       "      <td>0.973064</td>\n",
       "    </tr>\n",
       "    <tr>\n",
       "      <th>9</th>\n",
       "      <td>0.860808</td>\n",
       "      <td>0.973064</td>\n",
       "      <td>0.932088</td>\n",
       "      <td>0.945556</td>\n",
       "      <td>0.932660</td>\n",
       "      <td>0.973064</td>\n",
       "      <td>0.945556</td>\n",
       "      <td>0.945556</td>\n",
       "      <td>0.945556</td>\n",
       "      <td>0.932088</td>\n",
       "      <td>0.945556</td>\n",
       "    </tr>\n",
       "  </tbody>\n",
       "</table>\n",
       "</div>"
      ],
      "text/plain": [
       "         LR       LDA       kNN        DT        NB       SVM        RF  \\\n",
       "0  0.946263  0.986532  0.973064  0.973064  0.986532  0.958754  0.973064   \n",
       "1  0.890909  0.971717  0.959596  0.930471  0.931582  0.958249  0.944781   \n",
       "2  0.932660  0.973333  0.933199  0.959865  0.946397  0.946128  0.946667   \n",
       "3  0.885640  0.986532  0.944012  0.944281  0.956638  0.957480  0.970948   \n",
       "4  0.906162  0.986532  0.959865  0.932929  0.946128  0.986532  0.959865   \n",
       "5  0.903805  0.973064  0.946397  0.946397  0.959865  0.958754  0.946397   \n",
       "6  0.905892  0.973064  0.959596  0.946128  0.959596  0.945286  0.946128   \n",
       "7  0.902660  0.986532  0.973333  0.959865  0.946128  0.973064  0.973064   \n",
       "8  0.945286  0.986532  0.973064  0.959596  0.973064  0.944444  0.958754   \n",
       "9  0.860808  0.973064  0.932088  0.945556  0.932660  0.973064  0.945556   \n",
       "\n",
       "         GB       XGB  AdaBoost       ANN  \n",
       "0  0.973064  0.973064  0.973064  0.959865  \n",
       "1  0.930471  0.944781  0.930471  0.944781  \n",
       "2  0.959865  0.959865  0.946397  0.946667  \n",
       "3  0.957749  0.944281  0.957749  0.957480  \n",
       "4  0.945556  0.945556  0.932088  0.947138  \n",
       "5  0.946397  0.959596  0.946397  0.946397  \n",
       "6  0.946128  0.946128  0.931818  0.946128  \n",
       "7  0.959865  0.957480  0.946128  0.959865  \n",
       "8  0.959596  0.959596  0.959596  0.973064  \n",
       "9  0.945556  0.945556  0.932088  0.945556  "
      ]
     },
     "execution_count": 71,
     "metadata": {},
     "output_type": "execute_result"
    }
   ],
   "source": [
    "m =[]\n",
    "for i in models:\n",
    "    m.append(i[0])\n",
    "\n",
    "f1_results = pd.DataFrame()\n",
    "\n",
    "\n",
    "for i, m in enumerate(m):\n",
    "    f1_results[str(m)] = cv_res(results[i])\n",
    "\n",
    "f1_results    "
   ]
  },
  {
   "cell_type": "code",
   "execution_count": 72,
   "id": "b34fc9af",
   "metadata": {},
   "outputs": [
    {
     "data": {
      "text/plain": [
       "0    0.970327\n",
       "1    0.940734\n",
       "2    0.950465\n",
       "3    0.950504\n",
       "4    0.951626\n",
       "5    0.948707\n",
       "6    0.947407\n",
       "7    0.959186\n",
       "8    0.963300\n",
       "9    0.939946\n",
       "dtype: float64"
      ]
     },
     "execution_count": 72,
     "metadata": {},
     "output_type": "execute_result"
    }
   ],
   "source": [
    "# Initial results without the AdaBoost algorithm\n",
    "f1_results_other_algorithms=f1_results.drop(columns=['AdaBoost']).mean(axis=1)\n",
    "f1_results_other_algorithms"
   ]
  },
  {
   "cell_type": "markdown",
   "id": "ea6f0b58",
   "metadata": {},
   "source": [
    "## Noise without noisify "
   ]
  },
  {
   "cell_type": "code",
   "execution_count": 73,
   "id": "eb9b33a2",
   "metadata": {},
   "outputs": [],
   "source": [
    "# Create a function to add noise    \n",
    "def add_noise(X,p):\n",
    "    if p>0:\n",
    "        X_n = pd.DataFrame(X)\n",
    "        a,b = X.shape\n",
    "        c = round(a*p)\n",
    "\n",
    "        for k in range(b):\n",
    "            mean = X_n[k].mean()\n",
    "            sd = X_n[k].std()\n",
    "\n",
    "            for i in range(0,a,int(a/c)):\n",
    "                X_n.iloc[i,k] = np.random.normal(mean,sd)\n",
    "\n",
    "        return X_n.values\n",
    "\n",
    "    else:\n",
    "        return X"
   ]
  },
  {
   "cell_type": "markdown",
   "id": "342b798c",
   "metadata": {},
   "source": [
    "#### Add noise 5%"
   ]
  },
  {
   "cell_type": "code",
   "execution_count": 74,
   "id": "344ad268",
   "metadata": {},
   "outputs": [],
   "source": [
    "X2_noise1 = add_noise(X_scaled, p=0.05)"
   ]
  },
  {
   "cell_type": "code",
   "execution_count": 75,
   "id": "584f69c1",
   "metadata": {},
   "outputs": [
    {
     "name": "stdout",
     "output_type": "stream",
     "text": [
      " LR: 0.873716 (+/- 0.072906)\n",
      "LDA: 0.922442 (+/- 0.070942)\n",
      "kNN: 0.914882 (+/- 0.066406)\n",
      " DT: 0.910528 (+/- 0.066969)\n",
      " NB: 0.918559 (+/- 0.065119)\n",
      "SVM: 0.938047 (+/- 0.058171)\n",
      " RF: 0.926149 (+/- 0.058942)\n",
      " GB: 0.909860 (+/- 0.068302)\n",
      "XGB: 0.919405 (+/- 0.067261)\n",
      "AdaBoost: 0.591292 (+/- 0.125043)\n",
      "ANN: 0.925706 (+/- 0.059061)\n"
     ]
    }
   ],
   "source": [
    "from sklearn.model_selection import cross_val_score\n",
    "from sklearn.model_selection import RepeatedStratifiedKFold\n",
    "from sklearn.pipeline import Pipeline\n",
    "from sklearn.linear_model import LogisticRegression\n",
    "from sklearn.discriminant_analysis import LinearDiscriminantAnalysis # LDA\n",
    "from sklearn.neighbors import KNeighborsClassifier #KNN\n",
    "from sklearn.naive_bayes import GaussianNB  # Naive Bayes\n",
    "from sklearn.tree import DecisionTreeClassifier # Decision Tree\n",
    "from sklearn.svm import SVC # SVM\n",
    "from sklearn.ensemble import RandomForestClassifier\n",
    "from sklearn.ensemble import GradientBoostingClassifier\n",
    "import xgboost as xgb\n",
    "from sklearn.ensemble import AdaBoostClassifier\n",
    "from sklearn.neural_network import MLPClassifier \n",
    "from sklearn.metrics import f1_score # We choose f1 score because the data are unbalanced and f1 takes the combination of precision and recall\n",
    "\n",
    "\n",
    "\n",
    "models = []\n",
    "models.append(('LR',  LogisticRegression(solver='liblinear')))\n",
    "models.append(('LDA', LinearDiscriminantAnalysis()))\n",
    "models.append(('kNN', KNeighborsClassifier()))\n",
    "models.append(('DT',  DecisionTreeClassifier()))\n",
    "models.append(('NB',  GaussianNB()))\n",
    "models.append(('SVM', SVC(kernel=\"linear\", gamma='auto')))\n",
    "models.append(('RF',  RandomForestClassifier()))\n",
    "models.append(('GB',  GradientBoostingClassifier()))\n",
    "models.append(('XGB', xgb.XGBClassifier()))\n",
    "models.append(('AdaBoost',  AdaBoostClassifier()))\n",
    "models.append(('ANN', MLPClassifier()))\n",
    "\n",
    "\n",
    "cv = RepeatedStratifiedKFold(n_splits=10, n_repeats=5, random_state=1)\n",
    "scoring = \"f1_macro\"\n",
    "\n",
    "\n",
    "results_noise2_1={}\n",
    "\n",
    "results = []\n",
    "names   = []\n",
    "for i, model in models:\n",
    "    cv_results = cross_val_score(model, X2_noise1, Y, cv=cv, n_jobs=-1, scoring=scoring)\n",
    "    results.append(cv_results)\n",
    "    names.append(i)\n",
    "    print(\"%03s: %f (+/- %f)\" % (i, cv_results.mean(), cv_results.std()))\n",
    "    results_noise2_1[i]=cv_results.mean()"
   ]
  },
  {
   "cell_type": "code",
   "execution_count": 76,
   "id": "7bd1ab58",
   "metadata": {},
   "outputs": [
    {
     "data": {
      "text/html": [
       "<div>\n",
       "<style scoped>\n",
       "    .dataframe tbody tr th:only-of-type {\n",
       "        vertical-align: middle;\n",
       "    }\n",
       "\n",
       "    .dataframe tbody tr th {\n",
       "        vertical-align: top;\n",
       "    }\n",
       "\n",
       "    .dataframe thead th {\n",
       "        text-align: right;\n",
       "    }\n",
       "</style>\n",
       "<table border=\"1\" class=\"dataframe\">\n",
       "  <thead>\n",
       "    <tr style=\"text-align: right;\">\n",
       "      <th></th>\n",
       "      <th>LR</th>\n",
       "      <th>LDA</th>\n",
       "      <th>kNN</th>\n",
       "      <th>DT</th>\n",
       "      <th>NB</th>\n",
       "      <th>SVM</th>\n",
       "      <th>RF</th>\n",
       "      <th>GB</th>\n",
       "      <th>XGB</th>\n",
       "      <th>AdaBoost</th>\n",
       "      <th>ANN</th>\n",
       "    </tr>\n",
       "  </thead>\n",
       "  <tbody>\n",
       "    <tr>\n",
       "      <th>0</th>\n",
       "      <td>0.877609</td>\n",
       "      <td>0.931077</td>\n",
       "      <td>0.932088</td>\n",
       "      <td>0.945286</td>\n",
       "      <td>0.944276</td>\n",
       "      <td>0.918350</td>\n",
       "      <td>0.959596</td>\n",
       "      <td>0.944276</td>\n",
       "      <td>0.959596</td>\n",
       "      <td>0.692088</td>\n",
       "      <td>0.918889</td>\n",
       "    </tr>\n",
       "    <tr>\n",
       "      <th>1</th>\n",
       "      <td>0.879057</td>\n",
       "      <td>0.916691</td>\n",
       "      <td>0.918021</td>\n",
       "      <td>0.925974</td>\n",
       "      <td>0.919125</td>\n",
       "      <td>0.958249</td>\n",
       "      <td>0.918249</td>\n",
       "      <td>0.904512</td>\n",
       "      <td>0.904512</td>\n",
       "      <td>0.527029</td>\n",
       "      <td>0.945791</td>\n",
       "    </tr>\n",
       "    <tr>\n",
       "      <th>2</th>\n",
       "      <td>0.867071</td>\n",
       "      <td>0.907205</td>\n",
       "      <td>0.907003</td>\n",
       "      <td>0.917980</td>\n",
       "      <td>0.892391</td>\n",
       "      <td>0.934141</td>\n",
       "      <td>0.917980</td>\n",
       "      <td>0.904007</td>\n",
       "      <td>0.891178</td>\n",
       "      <td>0.608381</td>\n",
       "      <td>0.919596</td>\n",
       "    </tr>\n",
       "    <tr>\n",
       "      <th>3</th>\n",
       "      <td>0.872441</td>\n",
       "      <td>0.946128</td>\n",
       "      <td>0.905156</td>\n",
       "      <td>0.917345</td>\n",
       "      <td>0.943170</td>\n",
       "      <td>0.946667</td>\n",
       "      <td>0.944281</td>\n",
       "      <td>0.904752</td>\n",
       "      <td>0.944281</td>\n",
       "      <td>0.653199</td>\n",
       "      <td>0.944012</td>\n",
       "    </tr>\n",
       "    <tr>\n",
       "      <th>4</th>\n",
       "      <td>0.866434</td>\n",
       "      <td>0.904882</td>\n",
       "      <td>0.906902</td>\n",
       "      <td>0.878822</td>\n",
       "      <td>0.906027</td>\n",
       "      <td>0.946128</td>\n",
       "      <td>0.917508</td>\n",
       "      <td>0.904310</td>\n",
       "      <td>0.904882</td>\n",
       "      <td>0.604986</td>\n",
       "      <td>0.920137</td>\n",
       "    </tr>\n",
       "    <tr>\n",
       "      <th>5</th>\n",
       "      <td>0.863030</td>\n",
       "      <td>0.919731</td>\n",
       "      <td>0.919731</td>\n",
       "      <td>0.919327</td>\n",
       "      <td>0.933199</td>\n",
       "      <td>0.919731</td>\n",
       "      <td>0.918249</td>\n",
       "      <td>0.918249</td>\n",
       "      <td>0.931448</td>\n",
       "      <td>0.526503</td>\n",
       "      <td>0.946128</td>\n",
       "    </tr>\n",
       "    <tr>\n",
       "      <th>6</th>\n",
       "      <td>0.906734</td>\n",
       "      <td>0.959596</td>\n",
       "      <td>0.959596</td>\n",
       "      <td>0.946128</td>\n",
       "      <td>0.959596</td>\n",
       "      <td>0.973064</td>\n",
       "      <td>0.946128</td>\n",
       "      <td>0.933670</td>\n",
       "      <td>0.946128</td>\n",
       "      <td>0.543146</td>\n",
       "      <td>0.933670</td>\n",
       "    </tr>\n",
       "    <tr>\n",
       "      <th>7</th>\n",
       "      <td>0.862424</td>\n",
       "      <td>0.889731</td>\n",
       "      <td>0.876267</td>\n",
       "      <td>0.831789</td>\n",
       "      <td>0.878215</td>\n",
       "      <td>0.919360</td>\n",
       "      <td>0.875392</td>\n",
       "      <td>0.848492</td>\n",
       "      <td>0.862230</td>\n",
       "      <td>0.585742</td>\n",
       "      <td>0.905051</td>\n",
       "    </tr>\n",
       "    <tr>\n",
       "      <th>8</th>\n",
       "      <td>0.930976</td>\n",
       "      <td>0.973064</td>\n",
       "      <td>0.959865</td>\n",
       "      <td>0.930808</td>\n",
       "      <td>0.945286</td>\n",
       "      <td>0.958754</td>\n",
       "      <td>0.957744</td>\n",
       "      <td>0.944276</td>\n",
       "      <td>0.957744</td>\n",
       "      <td>0.543146</td>\n",
       "      <td>0.973064</td>\n",
       "    </tr>\n",
       "    <tr>\n",
       "      <th>9</th>\n",
       "      <td>0.811380</td>\n",
       "      <td>0.876316</td>\n",
       "      <td>0.864195</td>\n",
       "      <td>0.891818</td>\n",
       "      <td>0.864310</td>\n",
       "      <td>0.906027</td>\n",
       "      <td>0.906364</td>\n",
       "      <td>0.892054</td>\n",
       "      <td>0.892054</td>\n",
       "      <td>0.628704</td>\n",
       "      <td>0.850727</td>\n",
       "    </tr>\n",
       "  </tbody>\n",
       "</table>\n",
       "</div>"
      ],
      "text/plain": [
       "         LR       LDA       kNN        DT        NB       SVM        RF  \\\n",
       "0  0.877609  0.931077  0.932088  0.945286  0.944276  0.918350  0.959596   \n",
       "1  0.879057  0.916691  0.918021  0.925974  0.919125  0.958249  0.918249   \n",
       "2  0.867071  0.907205  0.907003  0.917980  0.892391  0.934141  0.917980   \n",
       "3  0.872441  0.946128  0.905156  0.917345  0.943170  0.946667  0.944281   \n",
       "4  0.866434  0.904882  0.906902  0.878822  0.906027  0.946128  0.917508   \n",
       "5  0.863030  0.919731  0.919731  0.919327  0.933199  0.919731  0.918249   \n",
       "6  0.906734  0.959596  0.959596  0.946128  0.959596  0.973064  0.946128   \n",
       "7  0.862424  0.889731  0.876267  0.831789  0.878215  0.919360  0.875392   \n",
       "8  0.930976  0.973064  0.959865  0.930808  0.945286  0.958754  0.957744   \n",
       "9  0.811380  0.876316  0.864195  0.891818  0.864310  0.906027  0.906364   \n",
       "\n",
       "         GB       XGB  AdaBoost       ANN  \n",
       "0  0.944276  0.959596  0.692088  0.918889  \n",
       "1  0.904512  0.904512  0.527029  0.945791  \n",
       "2  0.904007  0.891178  0.608381  0.919596  \n",
       "3  0.904752  0.944281  0.653199  0.944012  \n",
       "4  0.904310  0.904882  0.604986  0.920137  \n",
       "5  0.918249  0.931448  0.526503  0.946128  \n",
       "6  0.933670  0.946128  0.543146  0.933670  \n",
       "7  0.848492  0.862230  0.585742  0.905051  \n",
       "8  0.944276  0.957744  0.543146  0.973064  \n",
       "9  0.892054  0.892054  0.628704  0.850727  "
      ]
     },
     "execution_count": 76,
     "metadata": {},
     "output_type": "execute_result"
    }
   ],
   "source": [
    "m =[]\n",
    "for i in models:\n",
    "    m.append(i[0])\n",
    "\n",
    "f1_results_noise_1 = pd.DataFrame()\n",
    "\n",
    "\n",
    "for i, m in enumerate(m):\n",
    "    f1_results_noise_1[str(m)] = cv_res(results[i])\n",
    "\n",
    "f1_results_noise_1"
   ]
  },
  {
   "cell_type": "code",
   "execution_count": 77,
   "id": "941eb042",
   "metadata": {},
   "outputs": [
    {
     "data": {
      "text/plain": [
       "0    0.933104\n",
       "1    0.919018\n",
       "2    0.905855\n",
       "3    0.926823\n",
       "4    0.905603\n",
       "5    0.918882\n",
       "6    0.946431\n",
       "7    0.874895\n",
       "8    0.953158\n",
       "9    0.875524\n",
       "dtype: float64"
      ]
     },
     "execution_count": 77,
     "metadata": {},
     "output_type": "execute_result"
    }
   ],
   "source": [
    "# Results with noise 5% without the AdaBoost algorithm\n",
    "f1_results_noise_1_other_algorithms=f1_results_noise_1.drop(columns=['AdaBoost']).mean(axis=1)\n",
    "f1_results_noise_1_other_algorithms"
   ]
  },
  {
   "cell_type": "markdown",
   "id": "b5c85ac4",
   "metadata": {},
   "source": [
    "#### Add noise 10%"
   ]
  },
  {
   "cell_type": "code",
   "execution_count": 78,
   "id": "1278dd31",
   "metadata": {},
   "outputs": [],
   "source": [
    "X2_noise2 = add_noise(X_scaled,p=.1)"
   ]
  },
  {
   "cell_type": "code",
   "execution_count": 79,
   "id": "1a76b6cb",
   "metadata": {},
   "outputs": [
    {
     "name": "stdout",
     "output_type": "stream",
     "text": [
      " LR: 0.776574 (+/- 0.102614)\n",
      "LDA: 0.830424 (+/- 0.088090)\n",
      "kNN: 0.839006 (+/- 0.087351)\n",
      " DT: 0.845925 (+/- 0.093616)\n",
      " NB: 0.811841 (+/- 0.091344)\n",
      "SVM: 0.869928 (+/- 0.086608)\n",
      " RF: 0.845845 (+/- 0.084057)\n",
      " GB: 0.834677 (+/- 0.089700)\n",
      "XGB: 0.849702 (+/- 0.084259)\n",
      "AdaBoost: 0.753420 (+/- 0.153586)\n",
      "ANN: 0.854282 (+/- 0.083839)\n"
     ]
    }
   ],
   "source": [
    "from sklearn.model_selection import cross_val_score\n",
    "from sklearn.model_selection import RepeatedStratifiedKFold\n",
    "from sklearn.pipeline import Pipeline\n",
    "from sklearn.linear_model import LogisticRegression\n",
    "from sklearn.discriminant_analysis import LinearDiscriminantAnalysis # LDA\n",
    "from sklearn.neighbors import KNeighborsClassifier #KNN\n",
    "from sklearn.naive_bayes import GaussianNB  # Naive Bayes\n",
    "from sklearn.tree import DecisionTreeClassifier # Decision Tree\n",
    "from sklearn.svm import SVC # SVM\n",
    "from sklearn.ensemble import RandomForestClassifier\n",
    "from sklearn.ensemble import GradientBoostingClassifier\n",
    "import xgboost as xgb\n",
    "from sklearn.ensemble import AdaBoostClassifier\n",
    "from sklearn.neural_network import MLPClassifier \n",
    "from sklearn.metrics import f1_score # We choose f1 score because the data are unbalanced and f1 takes the combination of precision and recall\n",
    "\n",
    "\n",
    "\n",
    "models = []\n",
    "models.append(('LR',  LogisticRegression(solver='liblinear')))\n",
    "models.append(('LDA', LinearDiscriminantAnalysis()))\n",
    "models.append(('kNN', KNeighborsClassifier()))\n",
    "models.append(('DT',  DecisionTreeClassifier()))\n",
    "models.append(('NB',  GaussianNB()))\n",
    "models.append(('SVM', SVC(kernel=\"linear\", gamma='auto')))\n",
    "models.append(('RF',  RandomForestClassifier()))\n",
    "models.append(('GB',  GradientBoostingClassifier()))\n",
    "models.append(('XGB', xgb.XGBClassifier()))\n",
    "models.append(('AdaBoost',  AdaBoostClassifier()))\n",
    "models.append(('ANN', MLPClassifier()))\n",
    "\n",
    "\n",
    "cv = RepeatedStratifiedKFold(n_splits=10, n_repeats=5, random_state=1)\n",
    "scoring = \"f1_macro\"\n",
    "\n",
    "\n",
    "results_noise2_2={}\n",
    "\n",
    "results = []\n",
    "names   = []\n",
    "for i, model in models:\n",
    "    cv_results = cross_val_score(model, X2_noise2, Y, cv=cv, n_jobs=-1, scoring=scoring)\n",
    "    results.append(cv_results)\n",
    "    names.append(i)\n",
    "    print(\"%03s: %f (+/- %f)\" % (i, cv_results.mean(), cv_results.std()))\n",
    "    results_noise2_2[i]=cv_results.mean()"
   ]
  },
  {
   "cell_type": "code",
   "execution_count": 80,
   "id": "3a4bac6e",
   "metadata": {},
   "outputs": [
    {
     "data": {
      "text/html": [
       "<div>\n",
       "<style scoped>\n",
       "    .dataframe tbody tr th:only-of-type {\n",
       "        vertical-align: middle;\n",
       "    }\n",
       "\n",
       "    .dataframe tbody tr th {\n",
       "        vertical-align: top;\n",
       "    }\n",
       "\n",
       "    .dataframe thead th {\n",
       "        text-align: right;\n",
       "    }\n",
       "</style>\n",
       "<table border=\"1\" class=\"dataframe\">\n",
       "  <thead>\n",
       "    <tr style=\"text-align: right;\">\n",
       "      <th></th>\n",
       "      <th>LR</th>\n",
       "      <th>LDA</th>\n",
       "      <th>kNN</th>\n",
       "      <th>DT</th>\n",
       "      <th>NB</th>\n",
       "      <th>SVM</th>\n",
       "      <th>RF</th>\n",
       "      <th>GB</th>\n",
       "      <th>XGB</th>\n",
       "      <th>AdaBoost</th>\n",
       "      <th>ANN</th>\n",
       "    </tr>\n",
       "  </thead>\n",
       "  <tbody>\n",
       "    <tr>\n",
       "      <th>0</th>\n",
       "      <td>0.741919</td>\n",
       "      <td>0.784209</td>\n",
       "      <td>0.825758</td>\n",
       "      <td>0.825693</td>\n",
       "      <td>0.792124</td>\n",
       "      <td>0.838687</td>\n",
       "      <td>0.824007</td>\n",
       "      <td>0.822206</td>\n",
       "      <td>0.836970</td>\n",
       "      <td>0.711128</td>\n",
       "      <td>0.811347</td>\n",
       "    </tr>\n",
       "    <tr>\n",
       "      <th>1</th>\n",
       "      <td>0.805705</td>\n",
       "      <td>0.845402</td>\n",
       "      <td>0.871484</td>\n",
       "      <td>0.879057</td>\n",
       "      <td>0.802552</td>\n",
       "      <td>0.889495</td>\n",
       "      <td>0.851080</td>\n",
       "      <td>0.824157</td>\n",
       "      <td>0.836128</td>\n",
       "      <td>0.739490</td>\n",
       "      <td>0.891684</td>\n",
       "    </tr>\n",
       "    <tr>\n",
       "      <th>2</th>\n",
       "      <td>0.733838</td>\n",
       "      <td>0.783552</td>\n",
       "      <td>0.786076</td>\n",
       "      <td>0.828687</td>\n",
       "      <td>0.783855</td>\n",
       "      <td>0.811818</td>\n",
       "      <td>0.828687</td>\n",
       "      <td>0.817609</td>\n",
       "      <td>0.854141</td>\n",
       "      <td>0.825051</td>\n",
       "      <td>0.784175</td>\n",
       "    </tr>\n",
       "    <tr>\n",
       "      <th>3</th>\n",
       "      <td>0.796138</td>\n",
       "      <td>0.920471</td>\n",
       "      <td>0.879432</td>\n",
       "      <td>0.862660</td>\n",
       "      <td>0.857862</td>\n",
       "      <td>0.946263</td>\n",
       "      <td>0.877138</td>\n",
       "      <td>0.876263</td>\n",
       "      <td>0.890471</td>\n",
       "      <td>0.813771</td>\n",
       "      <td>0.930813</td>\n",
       "    </tr>\n",
       "    <tr>\n",
       "      <th>4</th>\n",
       "      <td>0.784529</td>\n",
       "      <td>0.839801</td>\n",
       "      <td>0.812136</td>\n",
       "      <td>0.839899</td>\n",
       "      <td>0.785282</td>\n",
       "      <td>0.854521</td>\n",
       "      <td>0.836142</td>\n",
       "      <td>0.809375</td>\n",
       "      <td>0.828653</td>\n",
       "      <td>0.736400</td>\n",
       "      <td>0.841453</td>\n",
       "    </tr>\n",
       "    <tr>\n",
       "      <th>5</th>\n",
       "      <td>0.791650</td>\n",
       "      <td>0.823030</td>\n",
       "      <td>0.866734</td>\n",
       "      <td>0.836229</td>\n",
       "      <td>0.837576</td>\n",
       "      <td>0.905286</td>\n",
       "      <td>0.866162</td>\n",
       "      <td>0.866162</td>\n",
       "      <td>0.866734</td>\n",
       "      <td>0.765219</td>\n",
       "      <td>0.878855</td>\n",
       "    </tr>\n",
       "    <tr>\n",
       "      <th>6</th>\n",
       "      <td>0.801481</td>\n",
       "      <td>0.854478</td>\n",
       "      <td>0.866599</td>\n",
       "      <td>0.853605</td>\n",
       "      <td>0.864781</td>\n",
       "      <td>0.881818</td>\n",
       "      <td>0.853201</td>\n",
       "      <td>0.853706</td>\n",
       "      <td>0.851785</td>\n",
       "      <td>0.737747</td>\n",
       "      <td>0.853266</td>\n",
       "    </tr>\n",
       "    <tr>\n",
       "      <th>7</th>\n",
       "      <td>0.761919</td>\n",
       "      <td>0.803872</td>\n",
       "      <td>0.807650</td>\n",
       "      <td>0.820072</td>\n",
       "      <td>0.765892</td>\n",
       "      <td>0.859562</td>\n",
       "      <td>0.831419</td>\n",
       "      <td>0.789125</td>\n",
       "      <td>0.829461</td>\n",
       "      <td>0.785286</td>\n",
       "      <td>0.850067</td>\n",
       "    </tr>\n",
       "    <tr>\n",
       "      <th>8</th>\n",
       "      <td>0.851448</td>\n",
       "      <td>0.851650</td>\n",
       "      <td>0.907003</td>\n",
       "      <td>0.894346</td>\n",
       "      <td>0.877778</td>\n",
       "      <td>0.919731</td>\n",
       "      <td>0.880174</td>\n",
       "      <td>0.880174</td>\n",
       "      <td>0.864228</td>\n",
       "      <td>0.754841</td>\n",
       "      <td>0.892795</td>\n",
       "    </tr>\n",
       "    <tr>\n",
       "      <th>9</th>\n",
       "      <td>0.697110</td>\n",
       "      <td>0.797778</td>\n",
       "      <td>0.767182</td>\n",
       "      <td>0.819004</td>\n",
       "      <td>0.750707</td>\n",
       "      <td>0.792095</td>\n",
       "      <td>0.810438</td>\n",
       "      <td>0.807994</td>\n",
       "      <td>0.838451</td>\n",
       "      <td>0.665272</td>\n",
       "      <td>0.808367</td>\n",
       "    </tr>\n",
       "  </tbody>\n",
       "</table>\n",
       "</div>"
      ],
      "text/plain": [
       "         LR       LDA       kNN        DT        NB       SVM        RF  \\\n",
       "0  0.741919  0.784209  0.825758  0.825693  0.792124  0.838687  0.824007   \n",
       "1  0.805705  0.845402  0.871484  0.879057  0.802552  0.889495  0.851080   \n",
       "2  0.733838  0.783552  0.786076  0.828687  0.783855  0.811818  0.828687   \n",
       "3  0.796138  0.920471  0.879432  0.862660  0.857862  0.946263  0.877138   \n",
       "4  0.784529  0.839801  0.812136  0.839899  0.785282  0.854521  0.836142   \n",
       "5  0.791650  0.823030  0.866734  0.836229  0.837576  0.905286  0.866162   \n",
       "6  0.801481  0.854478  0.866599  0.853605  0.864781  0.881818  0.853201   \n",
       "7  0.761919  0.803872  0.807650  0.820072  0.765892  0.859562  0.831419   \n",
       "8  0.851448  0.851650  0.907003  0.894346  0.877778  0.919731  0.880174   \n",
       "9  0.697110  0.797778  0.767182  0.819004  0.750707  0.792095  0.810438   \n",
       "\n",
       "         GB       XGB  AdaBoost       ANN  \n",
       "0  0.822206  0.836970  0.711128  0.811347  \n",
       "1  0.824157  0.836128  0.739490  0.891684  \n",
       "2  0.817609  0.854141  0.825051  0.784175  \n",
       "3  0.876263  0.890471  0.813771  0.930813  \n",
       "4  0.809375  0.828653  0.736400  0.841453  \n",
       "5  0.866162  0.866734  0.765219  0.878855  \n",
       "6  0.853706  0.851785  0.737747  0.853266  \n",
       "7  0.789125  0.829461  0.785286  0.850067  \n",
       "8  0.880174  0.864228  0.754841  0.892795  \n",
       "9  0.807994  0.838451  0.665272  0.808367  "
      ]
     },
     "execution_count": 80,
     "metadata": {},
     "output_type": "execute_result"
    }
   ],
   "source": [
    "m =[]\n",
    "for i in models:\n",
    "    m.append(i[0])\n",
    "\n",
    "f1_results_noise_2 = pd.DataFrame()\n",
    "\n",
    "\n",
    "for i, m in enumerate(m):\n",
    "    f1_results_noise_2[str(m)] = cv_res(results[i])\n",
    "\n",
    "f1_results_noise_2"
   ]
  },
  {
   "cell_type": "code",
   "execution_count": 81,
   "id": "acfb52ed",
   "metadata": {},
   "outputs": [
    {
     "data": {
      "text/plain": [
       "0    0.810292\n",
       "1    0.849674\n",
       "2    0.801244\n",
       "3    0.883751\n",
       "4    0.823179\n",
       "5    0.853842\n",
       "6    0.853472\n",
       "7    0.811904\n",
       "8    0.881933\n",
       "9    0.788913\n",
       "dtype: float64"
      ]
     },
     "execution_count": 81,
     "metadata": {},
     "output_type": "execute_result"
    }
   ],
   "source": [
    "## Results with noise 10% without the AdaBoost algorithm\n",
    "f1_results_noise_2_other_algorithms=f1_results_noise_2.drop(columns=['AdaBoost']).mean(axis=1)\n",
    "f1_results_noise_2_other_algorithms"
   ]
  },
  {
   "cell_type": "markdown",
   "id": "be168608",
   "metadata": {},
   "source": [
    "#### Add noise 15%"
   ]
  },
  {
   "cell_type": "code",
   "execution_count": 82,
   "id": "d743c515",
   "metadata": {},
   "outputs": [],
   "source": [
    "X2_noise3 = add_noise(X_scaled,p=.15)"
   ]
  },
  {
   "cell_type": "code",
   "execution_count": 83,
   "id": "d648b45c",
   "metadata": {},
   "outputs": [
    {
     "name": "stdout",
     "output_type": "stream",
     "text": [
      " LR: 0.678122 (+/- 0.116320)\n",
      "LDA: 0.719674 (+/- 0.094432)\n",
      "kNN: 0.800310 (+/- 0.084941)\n",
      " DT: 0.761194 (+/- 0.112158)\n",
      " NB: 0.765281 (+/- 0.093190)\n",
      "SVM: 0.791527 (+/- 0.089261)\n",
      " RF: 0.793425 (+/- 0.092791)\n",
      " GB: 0.760075 (+/- 0.089005)\n",
      "XGB: 0.767940 (+/- 0.089167)\n",
      "AdaBoost: 0.763834 (+/- 0.105397)\n",
      "ANN: 0.780995 (+/- 0.089488)\n"
     ]
    }
   ],
   "source": [
    "from sklearn.model_selection import cross_val_score\n",
    "from sklearn.model_selection import RepeatedStratifiedKFold\n",
    "from sklearn.pipeline import Pipeline\n",
    "from sklearn.linear_model import LogisticRegression\n",
    "from sklearn.discriminant_analysis import LinearDiscriminantAnalysis # LDA\n",
    "from sklearn.neighbors import KNeighborsClassifier #KNN\n",
    "from sklearn.naive_bayes import GaussianNB  # Naive Bayes\n",
    "from sklearn.tree import DecisionTreeClassifier # Decision Tree\n",
    "from sklearn.svm import SVC # SVM\n",
    "from sklearn.ensemble import RandomForestClassifier\n",
    "from sklearn.ensemble import GradientBoostingClassifier\n",
    "import xgboost as xgb\n",
    "from sklearn.ensemble import AdaBoostClassifier\n",
    "from sklearn.neural_network import MLPClassifier \n",
    "from sklearn.metrics import f1_score # We choose f1 score because the data are unbalanced and f1 takes the combination of precision and recall\n",
    "\n",
    "\n",
    "\n",
    "models = []\n",
    "models.append(('LR',  LogisticRegression(solver='liblinear')))\n",
    "models.append(('LDA', LinearDiscriminantAnalysis()))\n",
    "models.append(('kNN', KNeighborsClassifier()))\n",
    "models.append(('DT',  DecisionTreeClassifier()))\n",
    "models.append(('NB',  GaussianNB()))\n",
    "models.append(('SVM', SVC(kernel=\"linear\", gamma='auto')))\n",
    "models.append(('RF',  RandomForestClassifier()))\n",
    "models.append(('GB',  GradientBoostingClassifier()))\n",
    "models.append(('XGB', xgb.XGBClassifier()))\n",
    "models.append(('AdaBoost',  AdaBoostClassifier()))\n",
    "models.append(('ANN', MLPClassifier()))\n",
    "\n",
    "\n",
    "cv = RepeatedStratifiedKFold(n_splits=10, n_repeats=5, random_state=1)\n",
    "scoring = \"f1_macro\"\n",
    "\n",
    "\n",
    "results_noise2_3={}\n",
    "\n",
    "results = []\n",
    "names   = []\n",
    "for i, model in models:\n",
    "    cv_results = cross_val_score(model, X2_noise3, Y, cv=cv, n_jobs=-1, scoring=scoring)\n",
    "    results.append(cv_results)\n",
    "    names.append(i)\n",
    "    print(\"%03s: %f (+/- %f)\" % (i, cv_results.mean(), cv_results.std()))\n",
    "    results_noise2_3[i]=cv_results.mean()"
   ]
  },
  {
   "cell_type": "code",
   "execution_count": 84,
   "id": "ef916d4e",
   "metadata": {},
   "outputs": [
    {
     "data": {
      "text/html": [
       "<div>\n",
       "<style scoped>\n",
       "    .dataframe tbody tr th:only-of-type {\n",
       "        vertical-align: middle;\n",
       "    }\n",
       "\n",
       "    .dataframe tbody tr th {\n",
       "        vertical-align: top;\n",
       "    }\n",
       "\n",
       "    .dataframe thead th {\n",
       "        text-align: right;\n",
       "    }\n",
       "</style>\n",
       "<table border=\"1\" class=\"dataframe\">\n",
       "  <thead>\n",
       "    <tr style=\"text-align: right;\">\n",
       "      <th></th>\n",
       "      <th>LR</th>\n",
       "      <th>LDA</th>\n",
       "      <th>kNN</th>\n",
       "      <th>DT</th>\n",
       "      <th>NB</th>\n",
       "      <th>SVM</th>\n",
       "      <th>RF</th>\n",
       "      <th>GB</th>\n",
       "      <th>XGB</th>\n",
       "      <th>AdaBoost</th>\n",
       "      <th>ANN</th>\n",
       "    </tr>\n",
       "  </thead>\n",
       "  <tbody>\n",
       "    <tr>\n",
       "      <th>0</th>\n",
       "      <td>0.686734</td>\n",
       "      <td>0.714209</td>\n",
       "      <td>0.820082</td>\n",
       "      <td>0.718316</td>\n",
       "      <td>0.754144</td>\n",
       "      <td>0.779408</td>\n",
       "      <td>0.763867</td>\n",
       "      <td>0.742711</td>\n",
       "      <td>0.729812</td>\n",
       "      <td>0.774069</td>\n",
       "      <td>0.790007</td>\n",
       "    </tr>\n",
       "    <tr>\n",
       "      <th>1</th>\n",
       "      <td>0.670774</td>\n",
       "      <td>0.719663</td>\n",
       "      <td>0.812025</td>\n",
       "      <td>0.768016</td>\n",
       "      <td>0.798350</td>\n",
       "      <td>0.771626</td>\n",
       "      <td>0.799461</td>\n",
       "      <td>0.761145</td>\n",
       "      <td>0.773774</td>\n",
       "      <td>0.768215</td>\n",
       "      <td>0.781987</td>\n",
       "    </tr>\n",
       "    <tr>\n",
       "      <th>2</th>\n",
       "      <td>0.709966</td>\n",
       "      <td>0.747845</td>\n",
       "      <td>0.763232</td>\n",
       "      <td>0.747609</td>\n",
       "      <td>0.775253</td>\n",
       "      <td>0.772492</td>\n",
       "      <td>0.776061</td>\n",
       "      <td>0.708451</td>\n",
       "      <td>0.734310</td>\n",
       "      <td>0.706229</td>\n",
       "      <td>0.762525</td>\n",
       "    </tr>\n",
       "    <tr>\n",
       "      <th>3</th>\n",
       "      <td>0.643838</td>\n",
       "      <td>0.707410</td>\n",
       "      <td>0.847475</td>\n",
       "      <td>0.821703</td>\n",
       "      <td>0.744512</td>\n",
       "      <td>0.813971</td>\n",
       "      <td>0.830014</td>\n",
       "      <td>0.817427</td>\n",
       "      <td>0.817626</td>\n",
       "      <td>0.834377</td>\n",
       "      <td>0.804228</td>\n",
       "    </tr>\n",
       "    <tr>\n",
       "      <th>4</th>\n",
       "      <td>0.694688</td>\n",
       "      <td>0.718798</td>\n",
       "      <td>0.797138</td>\n",
       "      <td>0.795034</td>\n",
       "      <td>0.776958</td>\n",
       "      <td>0.776347</td>\n",
       "      <td>0.832812</td>\n",
       "      <td>0.779010</td>\n",
       "      <td>0.762347</td>\n",
       "      <td>0.753014</td>\n",
       "      <td>0.791131</td>\n",
       "    </tr>\n",
       "    <tr>\n",
       "      <th>5</th>\n",
       "      <td>0.677275</td>\n",
       "      <td>0.724983</td>\n",
       "      <td>0.822660</td>\n",
       "      <td>0.739798</td>\n",
       "      <td>0.748956</td>\n",
       "      <td>0.797576</td>\n",
       "      <td>0.758316</td>\n",
       "      <td>0.761010</td>\n",
       "      <td>0.758822</td>\n",
       "      <td>0.748401</td>\n",
       "      <td>0.759562</td>\n",
       "    </tr>\n",
       "    <tr>\n",
       "      <th>6</th>\n",
       "      <td>0.670909</td>\n",
       "      <td>0.711717</td>\n",
       "      <td>0.785558</td>\n",
       "      <td>0.783653</td>\n",
       "      <td>0.778889</td>\n",
       "      <td>0.781450</td>\n",
       "      <td>0.810774</td>\n",
       "      <td>0.782290</td>\n",
       "      <td>0.755558</td>\n",
       "      <td>0.769966</td>\n",
       "      <td>0.769909</td>\n",
       "    </tr>\n",
       "    <tr>\n",
       "      <th>7</th>\n",
       "      <td>0.652275</td>\n",
       "      <td>0.709173</td>\n",
       "      <td>0.788191</td>\n",
       "      <td>0.732812</td>\n",
       "      <td>0.711090</td>\n",
       "      <td>0.802819</td>\n",
       "      <td>0.771914</td>\n",
       "      <td>0.760197</td>\n",
       "      <td>0.787157</td>\n",
       "      <td>0.745811</td>\n",
       "      <td>0.772997</td>\n",
       "    </tr>\n",
       "    <tr>\n",
       "      <th>8</th>\n",
       "      <td>0.748819</td>\n",
       "      <td>0.798871</td>\n",
       "      <td>0.848778</td>\n",
       "      <td>0.795926</td>\n",
       "      <td>0.853064</td>\n",
       "      <td>0.837811</td>\n",
       "      <td>0.850895</td>\n",
       "      <td>0.793743</td>\n",
       "      <td>0.804924</td>\n",
       "      <td>0.800960</td>\n",
       "      <td>0.850087</td>\n",
       "    </tr>\n",
       "    <tr>\n",
       "      <th>9</th>\n",
       "      <td>0.625943</td>\n",
       "      <td>0.644072</td>\n",
       "      <td>0.717963</td>\n",
       "      <td>0.709074</td>\n",
       "      <td>0.711597</td>\n",
       "      <td>0.781768</td>\n",
       "      <td>0.740135</td>\n",
       "      <td>0.694764</td>\n",
       "      <td>0.755065</td>\n",
       "      <td>0.737303</td>\n",
       "      <td>0.727519</td>\n",
       "    </tr>\n",
       "  </tbody>\n",
       "</table>\n",
       "</div>"
      ],
      "text/plain": [
       "         LR       LDA       kNN        DT        NB       SVM        RF  \\\n",
       "0  0.686734  0.714209  0.820082  0.718316  0.754144  0.779408  0.763867   \n",
       "1  0.670774  0.719663  0.812025  0.768016  0.798350  0.771626  0.799461   \n",
       "2  0.709966  0.747845  0.763232  0.747609  0.775253  0.772492  0.776061   \n",
       "3  0.643838  0.707410  0.847475  0.821703  0.744512  0.813971  0.830014   \n",
       "4  0.694688  0.718798  0.797138  0.795034  0.776958  0.776347  0.832812   \n",
       "5  0.677275  0.724983  0.822660  0.739798  0.748956  0.797576  0.758316   \n",
       "6  0.670909  0.711717  0.785558  0.783653  0.778889  0.781450  0.810774   \n",
       "7  0.652275  0.709173  0.788191  0.732812  0.711090  0.802819  0.771914   \n",
       "8  0.748819  0.798871  0.848778  0.795926  0.853064  0.837811  0.850895   \n",
       "9  0.625943  0.644072  0.717963  0.709074  0.711597  0.781768  0.740135   \n",
       "\n",
       "         GB       XGB  AdaBoost       ANN  \n",
       "0  0.742711  0.729812  0.774069  0.790007  \n",
       "1  0.761145  0.773774  0.768215  0.781987  \n",
       "2  0.708451  0.734310  0.706229  0.762525  \n",
       "3  0.817427  0.817626  0.834377  0.804228  \n",
       "4  0.779010  0.762347  0.753014  0.791131  \n",
       "5  0.761010  0.758822  0.748401  0.759562  \n",
       "6  0.782290  0.755558  0.769966  0.769909  \n",
       "7  0.760197  0.787157  0.745811  0.772997  \n",
       "8  0.793743  0.804924  0.800960  0.850087  \n",
       "9  0.694764  0.755065  0.737303  0.727519  "
      ]
     },
     "execution_count": 84,
     "metadata": {},
     "output_type": "execute_result"
    }
   ],
   "source": [
    "m =[]\n",
    "for i in models:\n",
    "    m.append(i[0])\n",
    "\n",
    "f1_results_noise_3 = pd.DataFrame()\n",
    "\n",
    "\n",
    "for i, m in enumerate(m):\n",
    "    f1_results_noise_3[str(m)] = cv_res(results[i])\n",
    "\n",
    "f1_results_noise_3"
   ]
  },
  {
   "cell_type": "code",
   "execution_count": 85,
   "id": "04058ac4",
   "metadata": {},
   "outputs": [
    {
     "data": {
      "text/plain": [
       "0    0.749929\n",
       "1    0.765682\n",
       "2    0.749774\n",
       "3    0.784821\n",
       "4    0.772426\n",
       "5    0.754896\n",
       "6    0.763071\n",
       "7    0.748862\n",
       "8    0.818292\n",
       "9    0.710790\n",
       "dtype: float64"
      ]
     },
     "execution_count": 85,
     "metadata": {},
     "output_type": "execute_result"
    }
   ],
   "source": [
    "## Results with noise 15% without the AdaBoost algorithm\n",
    "f1_results_noise_3_other_algorithms=f1_results_noise_3.drop(columns=['AdaBoost']).mean(axis=1)\n",
    "f1_results_noise_3_other_algorithms"
   ]
  },
  {
   "cell_type": "markdown",
   "id": "46831ad5",
   "metadata": {},
   "source": [
    "#### Add noise 20%"
   ]
  },
  {
   "cell_type": "code",
   "execution_count": 86,
   "id": "074cb015",
   "metadata": {},
   "outputs": [],
   "source": [
    "X2_noise4 = add_noise(X_scaled,p=.2)"
   ]
  },
  {
   "cell_type": "code",
   "execution_count": 87,
   "id": "d7c40902",
   "metadata": {},
   "outputs": [
    {
     "name": "stdout",
     "output_type": "stream",
     "text": [
      " LR: 0.586144 (+/- 0.129015)\n",
      "LDA: 0.624787 (+/- 0.117723)\n",
      "kNN: 0.682673 (+/- 0.116739)\n",
      " DT: 0.682493 (+/- 0.100017)\n",
      " NB: 0.618860 (+/- 0.109508)\n",
      "SVM: 0.625989 (+/- 0.117245)\n",
      " RF: 0.714044 (+/- 0.108296)\n",
      " GB: 0.700886 (+/- 0.115584)\n",
      "XGB: 0.670452 (+/- 0.107083)\n",
      "AdaBoost: 0.646001 (+/- 0.132387)\n",
      "ANN: 0.665539 (+/- 0.102012)\n"
     ]
    }
   ],
   "source": [
    "from sklearn.model_selection import cross_val_score\n",
    "from sklearn.model_selection import RepeatedStratifiedKFold\n",
    "from sklearn.pipeline import Pipeline\n",
    "from sklearn.linear_model import LogisticRegression\n",
    "from sklearn.discriminant_analysis import LinearDiscriminantAnalysis # LDA\n",
    "from sklearn.neighbors import KNeighborsClassifier #KNN\n",
    "from sklearn.naive_bayes import GaussianNB  # Naive Bayes\n",
    "from sklearn.tree import DecisionTreeClassifier # Decision Tree\n",
    "from sklearn.svm import SVC # SVM\n",
    "from sklearn.ensemble import RandomForestClassifier\n",
    "from sklearn.ensemble import GradientBoostingClassifier\n",
    "import xgboost as xgb\n",
    "from sklearn.ensemble import AdaBoostClassifier\n",
    "from sklearn.neural_network import MLPClassifier \n",
    "from sklearn.metrics import f1_score # We choose f1 score because the data are unbalanced and f1 takes the combination of precision and recall\n",
    "\n",
    "\n",
    "\n",
    "models = []\n",
    "models.append(('LR',  LogisticRegression(solver='liblinear')))\n",
    "models.append(('LDA', LinearDiscriminantAnalysis()))\n",
    "models.append(('kNN', KNeighborsClassifier()))\n",
    "models.append(('DT',  DecisionTreeClassifier()))\n",
    "models.append(('NB',  GaussianNB()))\n",
    "models.append(('SVM', SVC(kernel=\"linear\", gamma='auto')))\n",
    "models.append(('RF',  RandomForestClassifier()))\n",
    "models.append(('GB',  GradientBoostingClassifier()))\n",
    "models.append(('XGB', xgb.XGBClassifier()))\n",
    "models.append(('AdaBoost',  AdaBoostClassifier()))\n",
    "models.append(('ANN', MLPClassifier()))\n",
    "\n",
    "\n",
    "cv = RepeatedStratifiedKFold(n_splits=10, n_repeats=5, random_state=1)\n",
    "scoring = \"f1_macro\"\n",
    "\n",
    "\n",
    "results_noise2_4={}\n",
    "\n",
    "results = []\n",
    "names   = []\n",
    "for i, model in models:\n",
    "    cv_results = cross_val_score(model, X2_noise4, Y, cv=cv, n_jobs=-1, scoring=scoring)\n",
    "    results.append(cv_results)\n",
    "    names.append(i)\n",
    "    print(\"%03s: %f (+/- %f)\" % (i, cv_results.mean(), cv_results.std()))\n",
    "    results_noise2_4[i]=cv_results.mean()"
   ]
  },
  {
   "cell_type": "code",
   "execution_count": 88,
   "id": "10af0673",
   "metadata": {},
   "outputs": [
    {
     "data": {
      "text/html": [
       "<div>\n",
       "<style scoped>\n",
       "    .dataframe tbody tr th:only-of-type {\n",
       "        vertical-align: middle;\n",
       "    }\n",
       "\n",
       "    .dataframe tbody tr th {\n",
       "        vertical-align: top;\n",
       "    }\n",
       "\n",
       "    .dataframe thead th {\n",
       "        text-align: right;\n",
       "    }\n",
       "</style>\n",
       "<table border=\"1\" class=\"dataframe\">\n",
       "  <thead>\n",
       "    <tr style=\"text-align: right;\">\n",
       "      <th></th>\n",
       "      <th>LR</th>\n",
       "      <th>LDA</th>\n",
       "      <th>kNN</th>\n",
       "      <th>DT</th>\n",
       "      <th>NB</th>\n",
       "      <th>SVM</th>\n",
       "      <th>RF</th>\n",
       "      <th>GB</th>\n",
       "      <th>XGB</th>\n",
       "      <th>AdaBoost</th>\n",
       "      <th>ANN</th>\n",
       "    </tr>\n",
       "  </thead>\n",
       "  <tbody>\n",
       "    <tr>\n",
       "      <th>0</th>\n",
       "      <td>0.649192</td>\n",
       "      <td>0.664815</td>\n",
       "      <td>0.668187</td>\n",
       "      <td>0.716344</td>\n",
       "      <td>0.642660</td>\n",
       "      <td>0.682997</td>\n",
       "      <td>0.728586</td>\n",
       "      <td>0.695503</td>\n",
       "      <td>0.655253</td>\n",
       "      <td>0.611159</td>\n",
       "      <td>0.679767</td>\n",
       "    </tr>\n",
       "    <tr>\n",
       "      <th>1</th>\n",
       "      <td>0.560708</td>\n",
       "      <td>0.605662</td>\n",
       "      <td>0.723531</td>\n",
       "      <td>0.682791</td>\n",
       "      <td>0.621525</td>\n",
       "      <td>0.578876</td>\n",
       "      <td>0.703067</td>\n",
       "      <td>0.679727</td>\n",
       "      <td>0.665397</td>\n",
       "      <td>0.667633</td>\n",
       "      <td>0.689639</td>\n",
       "    </tr>\n",
       "    <tr>\n",
       "      <th>2</th>\n",
       "      <td>0.674036</td>\n",
       "      <td>0.716966</td>\n",
       "      <td>0.686106</td>\n",
       "      <td>0.719836</td>\n",
       "      <td>0.610002</td>\n",
       "      <td>0.663510</td>\n",
       "      <td>0.760572</td>\n",
       "      <td>0.758485</td>\n",
       "      <td>0.729054</td>\n",
       "      <td>0.654948</td>\n",
       "      <td>0.702691</td>\n",
       "    </tr>\n",
       "    <tr>\n",
       "      <th>3</th>\n",
       "      <td>0.506705</td>\n",
       "      <td>0.537076</td>\n",
       "      <td>0.688278</td>\n",
       "      <td>0.674761</td>\n",
       "      <td>0.624541</td>\n",
       "      <td>0.561607</td>\n",
       "      <td>0.650500</td>\n",
       "      <td>0.694349</td>\n",
       "      <td>0.656176</td>\n",
       "      <td>0.653658</td>\n",
       "      <td>0.635799</td>\n",
       "    </tr>\n",
       "    <tr>\n",
       "      <th>4</th>\n",
       "      <td>0.547353</td>\n",
       "      <td>0.575749</td>\n",
       "      <td>0.742477</td>\n",
       "      <td>0.720036</td>\n",
       "      <td>0.634676</td>\n",
       "      <td>0.586716</td>\n",
       "      <td>0.739950</td>\n",
       "      <td>0.721684</td>\n",
       "      <td>0.710642</td>\n",
       "      <td>0.678971</td>\n",
       "      <td>0.676051</td>\n",
       "    </tr>\n",
       "    <tr>\n",
       "      <th>5</th>\n",
       "      <td>0.594197</td>\n",
       "      <td>0.628208</td>\n",
       "      <td>0.611462</td>\n",
       "      <td>0.646645</td>\n",
       "      <td>0.615672</td>\n",
       "      <td>0.617517</td>\n",
       "      <td>0.672217</td>\n",
       "      <td>0.646291</td>\n",
       "      <td>0.649591</td>\n",
       "      <td>0.642163</td>\n",
       "      <td>0.616450</td>\n",
       "    </tr>\n",
       "    <tr>\n",
       "      <th>6</th>\n",
       "      <td>0.577229</td>\n",
       "      <td>0.633811</td>\n",
       "      <td>0.584662</td>\n",
       "      <td>0.610232</td>\n",
       "      <td>0.620727</td>\n",
       "      <td>0.682449</td>\n",
       "      <td>0.691671</td>\n",
       "      <td>0.679680</td>\n",
       "      <td>0.693936</td>\n",
       "      <td>0.641597</td>\n",
       "      <td>0.639562</td>\n",
       "    </tr>\n",
       "    <tr>\n",
       "      <th>7</th>\n",
       "      <td>0.563458</td>\n",
       "      <td>0.606724</td>\n",
       "      <td>0.748876</td>\n",
       "      <td>0.682001</td>\n",
       "      <td>0.583724</td>\n",
       "      <td>0.614165</td>\n",
       "      <td>0.740389</td>\n",
       "      <td>0.723574</td>\n",
       "      <td>0.642578</td>\n",
       "      <td>0.593052</td>\n",
       "      <td>0.645371</td>\n",
       "    </tr>\n",
       "    <tr>\n",
       "      <th>8</th>\n",
       "      <td>0.613771</td>\n",
       "      <td>0.643081</td>\n",
       "      <td>0.717500</td>\n",
       "      <td>0.715970</td>\n",
       "      <td>0.625895</td>\n",
       "      <td>0.609983</td>\n",
       "      <td>0.765058</td>\n",
       "      <td>0.762755</td>\n",
       "      <td>0.672848</td>\n",
       "      <td>0.696967</td>\n",
       "      <td>0.766848</td>\n",
       "    </tr>\n",
       "    <tr>\n",
       "      <th>9</th>\n",
       "      <td>0.574796</td>\n",
       "      <td>0.635773</td>\n",
       "      <td>0.655650</td>\n",
       "      <td>0.656311</td>\n",
       "      <td>0.609174</td>\n",
       "      <td>0.662068</td>\n",
       "      <td>0.688433</td>\n",
       "      <td>0.646816</td>\n",
       "      <td>0.629048</td>\n",
       "      <td>0.619857</td>\n",
       "      <td>0.603213</td>\n",
       "    </tr>\n",
       "  </tbody>\n",
       "</table>\n",
       "</div>"
      ],
      "text/plain": [
       "         LR       LDA       kNN        DT        NB       SVM        RF  \\\n",
       "0  0.649192  0.664815  0.668187  0.716344  0.642660  0.682997  0.728586   \n",
       "1  0.560708  0.605662  0.723531  0.682791  0.621525  0.578876  0.703067   \n",
       "2  0.674036  0.716966  0.686106  0.719836  0.610002  0.663510  0.760572   \n",
       "3  0.506705  0.537076  0.688278  0.674761  0.624541  0.561607  0.650500   \n",
       "4  0.547353  0.575749  0.742477  0.720036  0.634676  0.586716  0.739950   \n",
       "5  0.594197  0.628208  0.611462  0.646645  0.615672  0.617517  0.672217   \n",
       "6  0.577229  0.633811  0.584662  0.610232  0.620727  0.682449  0.691671   \n",
       "7  0.563458  0.606724  0.748876  0.682001  0.583724  0.614165  0.740389   \n",
       "8  0.613771  0.643081  0.717500  0.715970  0.625895  0.609983  0.765058   \n",
       "9  0.574796  0.635773  0.655650  0.656311  0.609174  0.662068  0.688433   \n",
       "\n",
       "         GB       XGB  AdaBoost       ANN  \n",
       "0  0.695503  0.655253  0.611159  0.679767  \n",
       "1  0.679727  0.665397  0.667633  0.689639  \n",
       "2  0.758485  0.729054  0.654948  0.702691  \n",
       "3  0.694349  0.656176  0.653658  0.635799  \n",
       "4  0.721684  0.710642  0.678971  0.676051  \n",
       "5  0.646291  0.649591  0.642163  0.616450  \n",
       "6  0.679680  0.693936  0.641597  0.639562  \n",
       "7  0.723574  0.642578  0.593052  0.645371  \n",
       "8  0.762755  0.672848  0.696967  0.766848  \n",
       "9  0.646816  0.629048  0.619857  0.603213  "
      ]
     },
     "execution_count": 88,
     "metadata": {},
     "output_type": "execute_result"
    }
   ],
   "source": [
    "m =[]\n",
    "for i in models:\n",
    "    m.append(i[0])\n",
    "\n",
    "f1_results_noise_4 = pd.DataFrame()\n",
    "\n",
    "\n",
    "for i, m in enumerate(m):\n",
    "    f1_results_noise_4[str(m)] = cv_res(results[i])\n",
    "\n",
    "f1_results_noise_4"
   ]
  },
  {
   "cell_type": "code",
   "execution_count": 89,
   "id": "786f7d99",
   "metadata": {},
   "outputs": [
    {
     "data": {
      "text/plain": [
       "0    0.678330\n",
       "1    0.651092\n",
       "2    0.702126\n",
       "3    0.622979\n",
       "4    0.665533\n",
       "5    0.629825\n",
       "6    0.641396\n",
       "7    0.655086\n",
       "8    0.689371\n",
       "9    0.636128\n",
       "dtype: float64"
      ]
     },
     "execution_count": 89,
     "metadata": {},
     "output_type": "execute_result"
    }
   ],
   "source": [
    "## Results with noise 20% without the AdaBoost algorithm\n",
    "f1_results_noise_4_other_algorithms=f1_results_noise_4.drop(columns=['AdaBoost']).mean(axis=1)\n",
    "f1_results_noise_4_other_algorithms"
   ]
  },
  {
   "cell_type": "code",
   "execution_count": 90,
   "id": "2529bb3a",
   "metadata": {},
   "outputs": [],
   "source": [
    "f1_consolidated_results2 = pd.DataFrame()\n",
    "f1_consolidated_results2 = f1_consolidated_results2.append(results_no_noise, ignore_index=True)\n",
    "f1_consolidated_results2 = f1_consolidated_results2.append(results_noise2_1, ignore_index=True)\n",
    "f1_consolidated_results2 = f1_consolidated_results2.append(results_noise2_2, ignore_index=True)\n",
    "f1_consolidated_results2 = f1_consolidated_results2.append(results_noise2_3, ignore_index=True)\n",
    "f1_consolidated_results2 = f1_consolidated_results2.append(results_noise2_4, ignore_index=True)"
   ]
  },
  {
   "cell_type": "code",
   "execution_count": 91,
   "id": "60e97e07",
   "metadata": {},
   "outputs": [
    {
     "data": {
      "text/html": [
       "<div>\n",
       "<style scoped>\n",
       "    .dataframe tbody tr th:only-of-type {\n",
       "        vertical-align: middle;\n",
       "    }\n",
       "\n",
       "    .dataframe tbody tr th {\n",
       "        vertical-align: top;\n",
       "    }\n",
       "\n",
       "    .dataframe thead th {\n",
       "        text-align: right;\n",
       "    }\n",
       "</style>\n",
       "<table border=\"1\" class=\"dataframe\">\n",
       "  <thead>\n",
       "    <tr style=\"text-align: right;\">\n",
       "      <th></th>\n",
       "      <th>LR</th>\n",
       "      <th>LDA</th>\n",
       "      <th>kNN</th>\n",
       "      <th>DT</th>\n",
       "      <th>NB</th>\n",
       "      <th>SVM</th>\n",
       "      <th>RF</th>\n",
       "      <th>GB</th>\n",
       "      <th>XGB</th>\n",
       "      <th>AdaBoost</th>\n",
       "      <th>ANN</th>\n",
       "      <th>Status</th>\n",
       "    </tr>\n",
       "  </thead>\n",
       "  <tbody>\n",
       "    <tr>\n",
       "      <th>0</th>\n",
       "      <td>0.908008</td>\n",
       "      <td>0.979690</td>\n",
       "      <td>0.955421</td>\n",
       "      <td>0.949815</td>\n",
       "      <td>0.953859</td>\n",
       "      <td>0.960176</td>\n",
       "      <td>0.956522</td>\n",
       "      <td>0.952425</td>\n",
       "      <td>0.953590</td>\n",
       "      <td>0.945580</td>\n",
       "      <td>0.952694</td>\n",
       "      <td>Without Noise</td>\n",
       "    </tr>\n",
       "    <tr>\n",
       "      <th>1</th>\n",
       "      <td>0.873716</td>\n",
       "      <td>0.922442</td>\n",
       "      <td>0.914882</td>\n",
       "      <td>0.910528</td>\n",
       "      <td>0.918559</td>\n",
       "      <td>0.938047</td>\n",
       "      <td>0.926149</td>\n",
       "      <td>0.909860</td>\n",
       "      <td>0.919405</td>\n",
       "      <td>0.591292</td>\n",
       "      <td>0.925706</td>\n",
       "      <td>Noise 5%</td>\n",
       "    </tr>\n",
       "    <tr>\n",
       "      <th>2</th>\n",
       "      <td>0.776574</td>\n",
       "      <td>0.830424</td>\n",
       "      <td>0.839006</td>\n",
       "      <td>0.845925</td>\n",
       "      <td>0.811841</td>\n",
       "      <td>0.869928</td>\n",
       "      <td>0.845845</td>\n",
       "      <td>0.834677</td>\n",
       "      <td>0.849702</td>\n",
       "      <td>0.753420</td>\n",
       "      <td>0.854282</td>\n",
       "      <td>Noise 10%</td>\n",
       "    </tr>\n",
       "    <tr>\n",
       "      <th>3</th>\n",
       "      <td>0.678122</td>\n",
       "      <td>0.719674</td>\n",
       "      <td>0.800310</td>\n",
       "      <td>0.761194</td>\n",
       "      <td>0.765281</td>\n",
       "      <td>0.791527</td>\n",
       "      <td>0.793425</td>\n",
       "      <td>0.760075</td>\n",
       "      <td>0.767940</td>\n",
       "      <td>0.763834</td>\n",
       "      <td>0.780995</td>\n",
       "      <td>Noise 15%</td>\n",
       "    </tr>\n",
       "    <tr>\n",
       "      <th>4</th>\n",
       "      <td>0.586144</td>\n",
       "      <td>0.624787</td>\n",
       "      <td>0.682673</td>\n",
       "      <td>0.682493</td>\n",
       "      <td>0.618860</td>\n",
       "      <td>0.625989</td>\n",
       "      <td>0.714044</td>\n",
       "      <td>0.700886</td>\n",
       "      <td>0.670452</td>\n",
       "      <td>0.646001</td>\n",
       "      <td>0.665539</td>\n",
       "      <td>Noise 20%</td>\n",
       "    </tr>\n",
       "  </tbody>\n",
       "</table>\n",
       "</div>"
      ],
      "text/plain": [
       "         LR       LDA       kNN        DT        NB       SVM        RF  \\\n",
       "0  0.908008  0.979690  0.955421  0.949815  0.953859  0.960176  0.956522   \n",
       "1  0.873716  0.922442  0.914882  0.910528  0.918559  0.938047  0.926149   \n",
       "2  0.776574  0.830424  0.839006  0.845925  0.811841  0.869928  0.845845   \n",
       "3  0.678122  0.719674  0.800310  0.761194  0.765281  0.791527  0.793425   \n",
       "4  0.586144  0.624787  0.682673  0.682493  0.618860  0.625989  0.714044   \n",
       "\n",
       "         GB       XGB  AdaBoost       ANN         Status  \n",
       "0  0.952425  0.953590  0.945580  0.952694  Without Noise  \n",
       "1  0.909860  0.919405  0.591292  0.925706       Noise 5%  \n",
       "2  0.834677  0.849702  0.753420  0.854282      Noise 10%  \n",
       "3  0.760075  0.767940  0.763834  0.780995      Noise 15%  \n",
       "4  0.700886  0.670452  0.646001  0.665539      Noise 20%  "
      ]
     },
     "execution_count": 91,
     "metadata": {},
     "output_type": "execute_result"
    }
   ],
   "source": [
    "new_column_values = ['Without Noise','Noise 5%','Noise 10%','Noise 15%','Noise 20%']\n",
    "\n",
    "f1_consolidated_results2 [\"Status\"] = new_column_values \n",
    "\n",
    "f1_consolidated_results2 "
   ]
  },
  {
   "cell_type": "code",
   "execution_count": 170,
   "id": "850d60dd",
   "metadata": {},
   "outputs": [
    {
     "data": {
      "image/png": "[encoded data removed]",
      "text/plain": [
       "<Figure size 720x432 with 1 Axes>"
      ]
     },
     "metadata": {},
     "output_type": "display_data"
    }
   ],
   "source": [
    "# Importing packages\n",
    "import matplotlib.pyplot as plt\n",
    "\n",
    "# Plot a simple line chart\n",
    "fig, g = plt.subplots(figsize = (10,6))\n",
    "plt.plot(f1_consolidated_results2 ['Status'],f1_consolidated_results2.drop(columns=['Status','AdaBoost'],axis=1),linewidth=1)\n",
    "plt.plot(f1_consolidated_results2 ['Status'],f1_consolidated_results2['AdaBoost'],'--',linewidth=2)\n",
    "plt.legend(f1_consolidated_results2.drop(columns=['Status'],axis=1),loc=\"upper right\")\n",
    "plt.ylim(0.55,1)\n",
    "plt.title(\"Dataset:Iris\")\n",
    "plt.show()\n",
    "\n",
    "fig.savefig('C:/Users/zpap/OneDrive - AholdDelhaize.com/Personal elements/04. Dimokritos_Files/2nd SEMESTER/Applied Data Science/Project/Python/Final Versions//Dataset Iris:Comparison of Algorithms.png')   # save the figure to file\n",
    "plt.close(fig) "
   ]
  },
  {
   "cell_type": "markdown",
   "id": "d0962d1f",
   "metadata": {},
   "source": [
    "### T-test Statistic "
   ]
  },
  {
   "cell_type": "code",
   "execution_count": 139,
   "id": "bd5a796c",
   "metadata": {},
   "outputs": [],
   "source": [
    "from scipy.stats import ttest_ind as ttest"
   ]
  },
  {
   "cell_type": "markdown",
   "id": "610a42d6",
   "metadata": {},
   "source": [
    "Hypothesis\n",
    "\n",
    "H0: Noise does not effect the models efficiency f1_no_noise = f1_noise\n",
    "\n",
    "H1: There is effect of noise in the models efficiency f1_no_noise <> f1_noise"
   ]
  },
  {
   "cell_type": "markdown",
   "id": "2e520bd6",
   "metadata": {},
   "source": [
    "#### T-test for data without noise"
   ]
  },
  {
   "cell_type": "code",
   "execution_count": 140,
   "id": "5bdea693",
   "metadata": {},
   "outputs": [
    {
     "name": "stdout",
     "output_type": "stream",
     "text": [
      "Test statistic is -1.210849\n",
      "p-value for two tailed test is 0.241613\n",
      "Since p-value(=0.241613) > alpha(=0.05) We do not reject the null hypothesis H0. So we conclude that the effect of noise do not change the models efficiency at 0.05 level of significance.\n"
     ]
    }
   ],
   "source": [
    "t_value,p_value=ttest(f1_results['AdaBoost'],f1_results_other_algorithms)\n",
    "\n",
    "print('Test statistic is %f'%float(\"{:.6f}\".format(t_value)))\n",
    "\n",
    "print('p-value for two tailed test is %f'%p_value)\n",
    "\n",
    "alpha = 0.05\n",
    "  \n",
    "if p_value<=alpha:\n",
    "\n",
    "    print('Since p-value(=%f)'%p_value,'<','alpha(=%.2f)'%alpha,'''We reject the null hypothesis H0. So we conclude that the effect of noise in models efficiency at %.2f level of significance.'''%alpha)\n",
    "\n",
    "else:\n",
    "\n",
    "    print('Since p-value(=%f)'%p_value,'>','alpha(=%.2f)'%alpha,'''We do not reject the null hypothesis H0. So we conclude that the effect of noise do not change the models efficiency at %.2f level of significance.''' %alpha)\n"
   ]
  },
  {
   "cell_type": "markdown",
   "id": "d2ef8fbe",
   "metadata": {},
   "source": [
    "### T-test for 5% noise"
   ]
  },
  {
   "cell_type": "markdown",
   "id": "91e14ac8",
   "metadata": {},
   "source": [
    "#### Compare with initial results"
   ]
  },
  {
   "cell_type": "code",
   "execution_count": 141,
   "id": "0a68ec9f",
   "metadata": {},
   "outputs": [
    {
     "name": "stdout",
     "output_type": "stream",
     "text": [
      "Test statistic is 19.167328\n",
      "p-value for two tailed test is 0.000000\n",
      "Since p-value(=0.000000) < alpha(=0.05) We reject the null hypothesis H0. So we conclude that the effect of noise in models efficiency at 0.05 level of significance.\n"
     ]
    }
   ],
   "source": [
    "t_value,p_value=ttest(f1_results['AdaBoost'],f1_results_noise_1['AdaBoost'])\n",
    "\n",
    "print('Test statistic is %f'%float(\"{:.6f}\".format(t_value)))\n",
    "\n",
    "print('p-value for two tailed test is %f'%p_value)\n",
    "\n",
    "alpha = 0.05\n",
    "  \n",
    "if p_value<=alpha:\n",
    "\n",
    "    print('Since p-value(=%f)'%p_value,'<','alpha(=%.2f)'%alpha,'''We reject the null hypothesis H0. So we conclude that the effect of noise in models efficiency at %.2f level of significance.'''%alpha)\n",
    "\n",
    "else:\n",
    "\n",
    "    print('Since p-value(=%f)'%p_value,'>','alpha(=%.2f)'%alpha,'''We do not reject the null hypothesis H0. So we conclude that the effect of noise do not change the models efficiency at %.2f level of significance.''' %alpha)\n"
   ]
  },
  {
   "cell_type": "markdown",
   "id": "f53c9eaf",
   "metadata": {},
   "source": [
    "#### Compare with other alforithms"
   ]
  },
  {
   "cell_type": "code",
   "execution_count": 142,
   "id": "064dc0b3",
   "metadata": {},
   "outputs": [
    {
     "name": "stdout",
     "output_type": "stream",
     "text": [
      "Test statistic is 4.086947\n",
      "p-value for two tailed test is 0.000692\n",
      "Since p-value(=0.000692) < alpha(=0.05) We reject the null hypothesis H0. So we conclude that the effect of noise in models efficiency at 0.05 level of significance.\n"
     ]
    }
   ],
   "source": [
    "t_value,p_value=ttest(f1_results_other_algorithms,f1_results_noise_1_other_algorithms)\n",
    "\n",
    "print('Test statistic is %f'%float(\"{:.6f}\".format(t_value)))\n",
    "\n",
    "print('p-value for two tailed test is %f'%p_value)\n",
    "\n",
    "alpha = 0.05\n",
    "  \n",
    "if p_value<=alpha:\n",
    "\n",
    "    print('Since p-value(=%f)'%p_value,'<','alpha(=%.2f)'%alpha,'''We reject the null hypothesis H0. So we conclude that the effect of noise in models efficiency at %.2f level of significance.'''%alpha)\n",
    "\n",
    "else:\n",
    "\n",
    "    print('Since p-value(=%f)'%p_value,'>','alpha(=%.2f)'%alpha,'''We do not reject the null hypothesis H0. So we conclude that the effect of noise do not change the models efficiency at %.2f level of significance.''' %alpha)\n"
   ]
  },
  {
   "cell_type": "markdown",
   "id": "79babc0b",
   "metadata": {},
   "source": [
    "### T-test for 10% noise"
   ]
  },
  {
   "cell_type": "markdown",
   "id": "e9aac138",
   "metadata": {},
   "source": [
    "#### Compare with initial results"
   ]
  },
  {
   "cell_type": "code",
   "execution_count": 143,
   "id": "07572f85",
   "metadata": {},
   "outputs": [
    {
     "name": "stdout",
     "output_type": "stream",
     "text": [
      "Test statistic is 12.262360\n",
      "p-value for two tailed test is 0.000000\n",
      "Since p-value(=0.000000) < alpha(=0.05) We reject the null hypothesis H0. So we conclude that the effect of noise in models efficiency at 0.05 level of significance.\n"
     ]
    }
   ],
   "source": [
    "t_value,p_value=ttest(f1_results['AdaBoost'],f1_results_noise_2['AdaBoost'])\n",
    "\n",
    "print('Test statistic is %f'%float(\"{:.6f}\".format(t_value)))\n",
    "\n",
    "print('p-value for two tailed test is %f'%p_value)\n",
    "\n",
    "alpha = 0.05\n",
    "  \n",
    "if p_value<=alpha:\n",
    "\n",
    "    print('Since p-value(=%f)'%p_value,'<','alpha(=%.2f)'%alpha,'''We reject the null hypothesis H0. So we conclude that the effect of noise in models efficiency at %.2f level of significance.'''%alpha)\n",
    "\n",
    "else:\n",
    "\n",
    "    print('Since p-value(=%f)'%p_value,'>','alpha(=%.2f)'%alpha,'''We do not reject the null hypothesis H0. So we conclude that the effect of noise do not change the models efficiency at %.2f level of significance.''' %alpha)\n"
   ]
  },
  {
   "cell_type": "markdown",
   "id": "3083d6e3",
   "metadata": {},
   "source": [
    "#### Compare with other algorithms"
   ]
  },
  {
   "cell_type": "code",
   "execution_count": 144,
   "id": "203f15fd",
   "metadata": {},
   "outputs": [
    {
     "name": "stdout",
     "output_type": "stream",
     "text": [
      "Test statistic is 10.598887\n",
      "p-value for two tailed test is 0.000000\n",
      "Since p-value(=0.000000) < alpha(=0.05) We reject the null hypothesis H0. So we conclude that the effect of noise in models efficiency at 0.05 level of significance.\n"
     ]
    }
   ],
   "source": [
    "t_value,p_value=ttest(f1_results_other_algorithms,f1_results_noise_2_other_algorithms)\n",
    "\n",
    "print('Test statistic is %f'%float(\"{:.6f}\".format(t_value)))\n",
    "\n",
    "print('p-value for two tailed test is %f'%p_value)\n",
    "\n",
    "alpha = 0.05\n",
    "  \n",
    "if p_value<=alpha:\n",
    "\n",
    "    print('Since p-value(=%f)'%p_value,'<','alpha(=%.2f)'%alpha,'''We reject the null hypothesis H0. So we conclude that the effect of noise in models efficiency at %.2f level of significance.'''%alpha)\n",
    "\n",
    "else:\n",
    "\n",
    "    print('Since p-value(=%f)'%p_value,'>','alpha(=%.2f)'%alpha,'''We do not reject the null hypothesis H0. So we conclude that the effect of noise do not change the models efficiency at %.2f level of significance.''' %alpha)\n"
   ]
  },
  {
   "cell_type": "markdown",
   "id": "62e6711d",
   "metadata": {},
   "source": [
    "### T-test for 15% noise"
   ]
  },
  {
   "cell_type": "markdown",
   "id": "bb986d74",
   "metadata": {},
   "source": [
    "#### Compare with initial results"
   ]
  },
  {
   "cell_type": "code",
   "execution_count": 145,
   "id": "0dfe2824",
   "metadata": {},
   "outputs": [
    {
     "name": "stdout",
     "output_type": "stream",
     "text": [
      "Test statistic is 15.063215\n",
      "p-value for two tailed test is 0.000000\n",
      "Since p-value(=0.000000) < alpha(=0.05) We reject the null hypothesis H0. So we conclude that the effect of noise in models efficiency at 0.05 level of significance.\n"
     ]
    }
   ],
   "source": [
    "t_value,p_value=ttest(f1_results['AdaBoost'],f1_results_noise_3['AdaBoost'])\n",
    "\n",
    "print('Test statistic is %f'%float(\"{:.6f}\".format(t_value)))\n",
    "\n",
    "print('p-value for two tailed test is %f'%p_value)\n",
    "\n",
    "alpha = 0.05\n",
    "  \n",
    "if p_value<=alpha:\n",
    "\n",
    "    print('Since p-value(=%f)'%p_value,'<','alpha(=%.2f)'%alpha,'''We reject the null hypothesis H0. So we conclude that the effect of noise in models efficiency at %.2f level of significance.'''%alpha)\n",
    "\n",
    "else:\n",
    "\n",
    "    print('Since p-value(=%f)'%p_value,'>','alpha(=%.2f)'%alpha,'''We do not reject the null hypothesis H0. So we conclude that the effect of noise do not change the models efficiency at %.2f level of significance.''' %alpha)\n"
   ]
  },
  {
   "cell_type": "markdown",
   "id": "e6eccfe4",
   "metadata": {},
   "source": [
    "#### Compare with other alforithms"
   ]
  },
  {
   "cell_type": "code",
   "execution_count": 146,
   "id": "b56f460e",
   "metadata": {},
   "outputs": [
    {
     "name": "stdout",
     "output_type": "stream",
     "text": [
      "Test statistic is 20.478741\n",
      "p-value for two tailed test is 0.000000\n",
      "Since p-value(=0.000000) < alpha(=0.05) We reject the null hypothesis H0. So we conclude that the effect of noise in models efficiency at 0.05 level of significance.\n"
     ]
    }
   ],
   "source": [
    "t_value,p_value=ttest(f1_results_other_algorithms,f1_results_noise_3_other_algorithms)\n",
    "\n",
    "print('Test statistic is %f'%float(\"{:.6f}\".format(t_value)))\n",
    "\n",
    "print('p-value for two tailed test is %f'%p_value)\n",
    "\n",
    "alpha = 0.05\n",
    "  \n",
    "if p_value<=alpha:\n",
    "\n",
    "    print('Since p-value(=%f)'%p_value,'<','alpha(=%.2f)'%alpha,'''We reject the null hypothesis H0. So we conclude that the effect of noise in models efficiency at %.2f level of significance.'''%alpha)\n",
    "\n",
    "else:\n",
    "\n",
    "    print('Since p-value(=%f)'%p_value,'>','alpha(=%.2f)'%alpha,'''We do not reject the null hypothesis H0. So we conclude that the effect of noise do not change the models efficiency at %.2f level of significance.''' %alpha)\n"
   ]
  },
  {
   "cell_type": "markdown",
   "id": "5e4ea964",
   "metadata": {},
   "source": [
    "### T-test for 20% noise"
   ]
  },
  {
   "cell_type": "markdown",
   "id": "91962fdd",
   "metadata": {},
   "source": [
    "#### Compare with initial results"
   ]
  },
  {
   "cell_type": "code",
   "execution_count": 147,
   "id": "2aee6934",
   "metadata": {},
   "outputs": [
    {
     "name": "stdout",
     "output_type": "stream",
     "text": [
      "Test statistic is 27.209812\n",
      "p-value for two tailed test is 0.000000\n",
      "Since p-value(=0.000000) < alpha(=0.05) We reject the null hypothesis H0. So we conclude that the effect of noise in models efficiency at 0.05 level of significance.\n"
     ]
    }
   ],
   "source": [
    "t_value,p_value=ttest(f1_results['AdaBoost'],f1_results_noise_4['AdaBoost'])\n",
    "\n",
    "print('Test statistic is %f'%float(\"{:.6f}\".format(t_value)))\n",
    "\n",
    "print('p-value for two tailed test is %f'%p_value)\n",
    "\n",
    "alpha = 0.05\n",
    "  \n",
    "if p_value<=alpha:\n",
    "\n",
    "    print('Since p-value(=%f)'%p_value,'<','alpha(=%.2f)'%alpha,'''We reject the null hypothesis H0. So we conclude that the effect of noise in models efficiency at %.2f level of significance.'''%alpha)\n",
    "\n",
    "else:\n",
    "\n",
    "    print('Since p-value(=%f)'%p_value,'>','alpha(=%.2f)'%alpha,'''We do not reject the null hypothesis H0. So we conclude that the effect of noise do not change the models efficiency at %.2f level of significance.''' %alpha)\n"
   ]
  },
  {
   "cell_type": "markdown",
   "id": "88e06e1f",
   "metadata": {},
   "source": [
    "#### Compare with other alforithms"
   ]
  },
  {
   "cell_type": "code",
   "execution_count": 148,
   "id": "5336836c",
   "metadata": {},
   "outputs": [
    {
     "name": "stdout",
     "output_type": "stream",
     "text": [
      "Test statistic is 33.337559\n",
      "p-value for two tailed test is 0.000000\n",
      "Since p-value(=0.000000) < alpha(=0.05) We reject the null hypothesis H0. So we conclude that the effect of noise in models efficiency at 0.05 level of significance.\n"
     ]
    }
   ],
   "source": [
    "t_value,p_value=ttest(f1_results_other_algorithms,f1_results_noise_4_other_algorithms)\n",
    "\n",
    "print('Test statistic is %f'%float(\"{:.6f}\".format(t_value)))\n",
    "\n",
    "print('p-value for two tailed test is %f'%p_value)\n",
    "\n",
    "alpha = 0.05\n",
    "  \n",
    "if p_value<=alpha:\n",
    "\n",
    "    print('Since p-value(=%f)'%p_value,'<','alpha(=%.2f)'%alpha,'''We reject the null hypothesis H0. So we conclude that the effect of noise in models efficiency at %.2f level of significance.'''%alpha)\n",
    "\n",
    "else:\n",
    "\n",
    "    print('Since p-value(=%f)'%p_value,'>','alpha(=%.2f)'%alpha,'''We do not reject the null hypothesis H0. So we conclude that the effect of noise do not change the models efficiency at %.2f level of significance.''' %alpha)\n"
   ]
  },
  {
   "cell_type": "markdown",
   "id": "cb98123e",
   "metadata": {},
   "source": [
    "### Kolmogorov-Smirnov "
   ]
  },
  {
   "cell_type": "markdown",
   "id": "2c3b12dc",
   "metadata": {},
   "source": [
    "two-sided: The null hypothesis is that the two distributions are identical, F(x)=G(x) for all x; the alternative is that they are not identical.\n",
    "\n",
    "less: The null hypothesis is that F(x) >= G(x) for all x; the alternative is that F(x) < G(x) for at least one x.\n",
    "\n",
    "greater: The null hypothesis is that F(x) <= G(x) for all x; the alternative is that F(x) > G(x) for at least one x."
   ]
  },
  {
   "cell_type": "code",
   "execution_count": 149,
   "id": "f78cb595",
   "metadata": {},
   "outputs": [],
   "source": [
    "# Hypothesis\n",
    "\n",
    "# H0: Noise does not effect the models efficiency of AdaBoost more than other algorithms f1_no_noise_AB = f1_noise_mean_of_the_rest\n",
    "\n",
    "# H1:  Noise does effect the models efficiency of AdaBoost more than other algorithms f1_no_noise_AB <> f1_noise_mean_of_the_rest\n",
    "\n"
   ]
  },
  {
   "cell_type": "markdown",
   "id": "df6edd0d",
   "metadata": {},
   "source": [
    "### K-S for 5% noise"
   ]
  },
  {
   "cell_type": "code",
   "execution_count": 150,
   "id": "bbec8c3e",
   "metadata": {},
   "outputs": [
    {
     "name": "stdout",
     "output_type": "stream",
     "text": [
      "p-value for two tailed KS test is 0.000011\n",
      "Since p-value(=0.000011) < alpha(=0.05) We reject the null hypothesis H0. So we conclude that the effect of noise in models efficiency at 0.05 level of significance.\n"
     ]
    }
   ],
   "source": [
    "from scipy.stats import ks_2samp  \n",
    "\n",
    "\n",
    "#perform Kolmogorov-Smirnov test\n",
    "t_value,p_value = ks_2samp(f1_results['AdaBoost']-f1_results_noise_1['AdaBoost'], f1_results.drop(columns=['AdaBoost']).mean(axis=1)-f1_results_noise_1.drop(columns=['AdaBoost']).mean(axis=1))\n",
    "\n",
    "\n",
    "print('p-value for two tailed KS test is %f'%p_value)\n",
    "\n",
    "alpha = 0.05\n",
    "  \n",
    "if p_value<=alpha:\n",
    "\n",
    "    print('Since p-value(=%f)'%p_value,'<','alpha(=%.2f)'%alpha,'''We reject the null hypothesis H0. So we conclude that the effect of noise in models efficiency at %.2f level of significance.'''%alpha)\n",
    "\n",
    "else:\n",
    "\n",
    "    print('Since p-value(=%f)'%p_value,'>','alpha(=%.2f)'%alpha,'''We do not reject the null hypothesis H0. So we conclude that the effect of noise do not change the models efficiency at %.2f level of significance.''' %alpha)"
   ]
  },
  {
   "cell_type": "markdown",
   "id": "4e495372",
   "metadata": {},
   "source": [
    "### K-S for 10% noise"
   ]
  },
  {
   "cell_type": "code",
   "execution_count": 151,
   "id": "87562c51",
   "metadata": {},
   "outputs": [
    {
     "name": "stdout",
     "output_type": "stream",
     "text": [
      "p-value for two tailed KS test is 0.002057\n",
      "Since p-value(=0.002057) < alpha(=0.05) We reject the null hypothesis H0. So we conclude that the effect of noise in models efficiency at 0.05 level of significance.\n"
     ]
    }
   ],
   "source": [
    "from scipy.stats import ks_2samp  \n",
    "\n",
    "\n",
    "#perform Kolmogorov-Smirnov test\n",
    "t_value,p_value = ks_2samp(f1_results['AdaBoost']-f1_results_noise_2['AdaBoost'], f1_results.drop(columns=['AdaBoost']).mean(axis=1)-f1_results_noise_2.drop(columns=['AdaBoost']).mean(axis=1))\n",
    "\n",
    "\n",
    "print('p-value for two tailed KS test is %f'%p_value)\n",
    "\n",
    "alpha = 0.05\n",
    "  \n",
    "if p_value<=alpha:\n",
    "\n",
    "    print('Since p-value(=%f)'%p_value,'<','alpha(=%.2f)'%alpha,'''We reject the null hypothesis H0. So we conclude that the effect of noise in models efficiency at %.2f level of significance.'''%alpha)\n",
    "\n",
    "else:\n",
    "\n",
    "    print('Since p-value(=%f)'%p_value,'>','alpha(=%.2f)'%alpha,'''We do not reject the null hypothesis H0. So we conclude that the effect of noise do not change the models efficiency at %.2f level of significance.''' %alpha)"
   ]
  },
  {
   "cell_type": "markdown",
   "id": "a9df8f94",
   "metadata": {},
   "source": [
    "### K-S for 15% noise"
   ]
  },
  {
   "cell_type": "code",
   "execution_count": 152,
   "id": "e28d2e13",
   "metadata": {},
   "outputs": [
    {
     "name": "stdout",
     "output_type": "stream",
     "text": [
      "p-value for two tailed KS test is 0.786930\n",
      "Since p-value(=0.786930) > alpha(=0.05) We do not reject the null hypothesis H0. So we conclude that the effect of noise do not change the models efficiency at 0.05 level of significance.\n"
     ]
    }
   ],
   "source": [
    "from scipy.stats import ks_2samp  \n",
    "\n",
    "\n",
    "#perform Kolmogorov-Smirnov test\n",
    "t_value,p_value = ks_2samp(f1_results['AdaBoost']-f1_results_noise_3['AdaBoost'], f1_results.drop(columns=['AdaBoost']).mean(axis=1)-f1_results_noise_3.drop(columns=['AdaBoost']).mean(axis=1))\n",
    "\n",
    "\n",
    "print('p-value for two tailed KS test is %f'%p_value)\n",
    "\n",
    "alpha = 0.05\n",
    "  \n",
    "if p_value<=alpha:\n",
    "\n",
    "    print('Since p-value(=%f)'%p_value,'<','alpha(=%.2f)'%alpha,'''We reject the null hypothesis H0. So we conclude that the effect of noise in models efficiency at %.2f level of significance.'''%alpha)\n",
    "\n",
    "else:\n",
    "\n",
    "    print('Since p-value(=%f)'%p_value,'>','alpha(=%.2f)'%alpha,'''We do not reject the null hypothesis H0. So we conclude that the effect of noise do not change the models efficiency at %.2f level of significance.''' %alpha)"
   ]
  },
  {
   "cell_type": "markdown",
   "id": "b69f2696",
   "metadata": {},
   "source": [
    "### K-S for 20% noise"
   ]
  },
  {
   "cell_type": "code",
   "execution_count": 153,
   "id": "4a3ee931",
   "metadata": {},
   "outputs": [
    {
     "name": "stdout",
     "output_type": "stream",
     "text": [
      "p-value for two tailed KS test is 0.994458\n",
      "Since p-value(=0.994458) > alpha(=0.05) We do not reject the null hypothesis H0. So we conclude that the effect of noise do not change the models efficiency at 0.05 level of significance.\n"
     ]
    }
   ],
   "source": [
    "from scipy.stats import ks_2samp  \n",
    "\n",
    "\n",
    "#perform Kolmogorov-Smirnov test\n",
    "t_value,p_value = ks_2samp(f1_results['AdaBoost']-f1_results_noise_4['AdaBoost'], f1_results.drop(columns=['AdaBoost']).mean(axis=1)-f1_results_noise_4.drop(columns=['AdaBoost']).mean(axis=1))\n",
    "\n",
    "\n",
    "print('p-value for two tailed KS test is %f'%p_value)\n",
    "\n",
    "alpha = 0.05\n",
    "  \n",
    "if p_value<=alpha:\n",
    "\n",
    "    print('Since p-value(=%f)'%p_value,'<','alpha(=%.2f)'%alpha,'''We reject the null hypothesis H0. So we conclude that the effect of noise in models efficiency at %.2f level of significance.'''%alpha)\n",
    "\n",
    "else:\n",
    "\n",
    "    print('Since p-value(=%f)'%p_value,'>','alpha(=%.2f)'%alpha,'''We do not reject the null hypothesis H0. So we conclude that the effect of noise do not change the models efficiency at %.2f level of significance.''' %alpha)\n"
   ]
  },
  {
   "cell_type": "markdown",
   "id": "8906a352",
   "metadata": {},
   "source": [
    "## Pearson correlation "
   ]
  },
  {
   "cell_type": "markdown",
   "id": "564370f2",
   "metadata": {},
   "source": [
    "#### Adaboost Table"
   ]
  },
  {
   "cell_type": "code",
   "execution_count": 154,
   "id": "3159118f",
   "metadata": {},
   "outputs": [
    {
     "data": {
      "text/html": [
       "<div>\n",
       "<style scoped>\n",
       "    .dataframe tbody tr th:only-of-type {\n",
       "        vertical-align: middle;\n",
       "    }\n",
       "\n",
       "    .dataframe tbody tr th {\n",
       "        vertical-align: top;\n",
       "    }\n",
       "\n",
       "    .dataframe thead th {\n",
       "        text-align: right;\n",
       "    }\n",
       "</style>\n",
       "<table border=\"1\" class=\"dataframe\">\n",
       "  <thead>\n",
       "    <tr style=\"text-align: right;\">\n",
       "      <th></th>\n",
       "      <th>AdaBoost_initial</th>\n",
       "      <th>AdaBoost_noise_1</th>\n",
       "      <th>AdaBoost_noise_2</th>\n",
       "      <th>AdaBoost_noise_3</th>\n",
       "      <th>AdaBoost_noise_4</th>\n",
       "    </tr>\n",
       "  </thead>\n",
       "  <tbody>\n",
       "    <tr>\n",
       "      <th>0</th>\n",
       "      <td>0.973064</td>\n",
       "      <td>0.692088</td>\n",
       "      <td>0.711128</td>\n",
       "      <td>0.774069</td>\n",
       "      <td>0.611159</td>\n",
       "    </tr>\n",
       "    <tr>\n",
       "      <th>1</th>\n",
       "      <td>0.930471</td>\n",
       "      <td>0.527029</td>\n",
       "      <td>0.739490</td>\n",
       "      <td>0.768215</td>\n",
       "      <td>0.667633</td>\n",
       "    </tr>\n",
       "    <tr>\n",
       "      <th>2</th>\n",
       "      <td>0.946397</td>\n",
       "      <td>0.608381</td>\n",
       "      <td>0.825051</td>\n",
       "      <td>0.706229</td>\n",
       "      <td>0.654948</td>\n",
       "    </tr>\n",
       "    <tr>\n",
       "      <th>3</th>\n",
       "      <td>0.957749</td>\n",
       "      <td>0.653199</td>\n",
       "      <td>0.813771</td>\n",
       "      <td>0.834377</td>\n",
       "      <td>0.653658</td>\n",
       "    </tr>\n",
       "    <tr>\n",
       "      <th>4</th>\n",
       "      <td>0.932088</td>\n",
       "      <td>0.604986</td>\n",
       "      <td>0.736400</td>\n",
       "      <td>0.753014</td>\n",
       "      <td>0.678971</td>\n",
       "    </tr>\n",
       "    <tr>\n",
       "      <th>5</th>\n",
       "      <td>0.946397</td>\n",
       "      <td>0.526503</td>\n",
       "      <td>0.765219</td>\n",
       "      <td>0.748401</td>\n",
       "      <td>0.642163</td>\n",
       "    </tr>\n",
       "    <tr>\n",
       "      <th>6</th>\n",
       "      <td>0.931818</td>\n",
       "      <td>0.543146</td>\n",
       "      <td>0.737747</td>\n",
       "      <td>0.769966</td>\n",
       "      <td>0.641597</td>\n",
       "    </tr>\n",
       "    <tr>\n",
       "      <th>7</th>\n",
       "      <td>0.946128</td>\n",
       "      <td>0.585742</td>\n",
       "      <td>0.785286</td>\n",
       "      <td>0.745811</td>\n",
       "      <td>0.593052</td>\n",
       "    </tr>\n",
       "    <tr>\n",
       "      <th>8</th>\n",
       "      <td>0.959596</td>\n",
       "      <td>0.543146</td>\n",
       "      <td>0.754841</td>\n",
       "      <td>0.800960</td>\n",
       "      <td>0.696967</td>\n",
       "    </tr>\n",
       "    <tr>\n",
       "      <th>9</th>\n",
       "      <td>0.932088</td>\n",
       "      <td>0.628704</td>\n",
       "      <td>0.665272</td>\n",
       "      <td>0.737303</td>\n",
       "      <td>0.619857</td>\n",
       "    </tr>\n",
       "  </tbody>\n",
       "</table>\n",
       "</div>"
      ],
      "text/plain": [
       "   AdaBoost_initial  AdaBoost_noise_1  AdaBoost_noise_2  AdaBoost_noise_3  \\\n",
       "0          0.973064          0.692088          0.711128          0.774069   \n",
       "1          0.930471          0.527029          0.739490          0.768215   \n",
       "2          0.946397          0.608381          0.825051          0.706229   \n",
       "3          0.957749          0.653199          0.813771          0.834377   \n",
       "4          0.932088          0.604986          0.736400          0.753014   \n",
       "5          0.946397          0.526503          0.765219          0.748401   \n",
       "6          0.931818          0.543146          0.737747          0.769966   \n",
       "7          0.946128          0.585742          0.785286          0.745811   \n",
       "8          0.959596          0.543146          0.754841          0.800960   \n",
       "9          0.932088          0.628704          0.665272          0.737303   \n",
       "\n",
       "   AdaBoost_noise_4  \n",
       "0          0.611159  \n",
       "1          0.667633  \n",
       "2          0.654948  \n",
       "3          0.653658  \n",
       "4          0.678971  \n",
       "5          0.642163  \n",
       "6          0.641597  \n",
       "7          0.593052  \n",
       "8          0.696967  \n",
       "9          0.619857  "
      ]
     },
     "execution_count": 154,
     "metadata": {},
     "output_type": "execute_result"
    }
   ],
   "source": [
    "#create table\n",
    "d1 = {\n",
    "    'AdaBoost_initial': f1_results['AdaBoost'],\n",
    "    'AdaBoost_noise_1': f1_results_noise_1['AdaBoost'],\n",
    "    'AdaBoost_noise_2': f1_results_noise_2['AdaBoost'],\n",
    "    'AdaBoost_noise_3': f1_results_noise_3['AdaBoost'],\n",
    "    'AdaBoost_noise_4': f1_results_noise_4['AdaBoost']\n",
    "    }\n",
    "Adaboost_table = pd.DataFrame(d1)\n",
    "Adaboost_table"
   ]
  },
  {
   "cell_type": "code",
   "execution_count": 155,
   "id": "352dd23d",
   "metadata": {},
   "outputs": [],
   "source": [
    "# Correlation between f1score of Adaboost and noise increase \n",
    "\n",
    "a = Adaboost_table.iloc[:,:1].squeeze()\n",
    "     \n",
    "b = Adaboost_table['AdaBoost_noise_1'].squeeze()\n",
    "\n",
    "c = Adaboost_table['AdaBoost_noise_2'].squeeze()\n",
    "  \n",
    "d = Adaboost_table['AdaBoost_noise_3'].squeeze()    \n",
    "\n",
    "e = Adaboost_table['AdaBoost_noise_4'].squeeze()\n",
    "\n",
    "f1 = pd.concat([a,b,c,d,e])\n",
    "\n",
    "f1 = pd.DataFrame(f1)\n",
    "\n",
    "f1.rename(columns = {0:'f1'}, inplace = True)\n",
    "f1.reset_index(drop=True, inplace=True)\n",
    "\n",
    "\n",
    "\n",
    "noise_1 = [1 for i in range(10)]\n",
    "noise_2 = [2 for i in range(10)]\n",
    "noise_3 = [3 for i in range(10)]\n",
    "noise_4 = [4 for i in range(10)]\n",
    "noise_5 = [5 for i in range(10)]\n",
    "\n",
    "noise = noise_1+noise_2+noise_3+noise_4+noise_5\n",
    "\n",
    "noise = pd.DataFrame(noise)\n",
    "\n",
    "noise.rename(columns = {0:'noise'}, inplace = True)\n",
    "noise.reset_index(drop=True, inplace=True)\n",
    "\n",
    "df_cor = pd.concat([f1,noise], axis=1)"
   ]
  },
  {
   "cell_type": "code",
   "execution_count": 156,
   "id": "8b736e49",
   "metadata": {},
   "outputs": [
    {
     "data": {
      "text/plain": [
       "<matplotlib.collections.PathCollection at 0x1b31ec401f0>"
      ]
     },
     "execution_count": 156,
     "metadata": {},
     "output_type": "execute_result"
    },
    {
     "data": {
      "image/png": "[encoded data removed]",
      "text/plain": [
       "<Figure size 1440x1440 with 1 Axes>"
      ]
     },
     "metadata": {},
     "output_type": "display_data"
    }
   ],
   "source": [
    "plt.scatter(df_cor.iloc[:,1].values.tolist(), df_cor.iloc[:,0].values.tolist())"
   ]
  },
  {
   "cell_type": "code",
   "execution_count": 157,
   "id": "50ec7e2d",
   "metadata": {},
   "outputs": [
    {
     "name": "stdout",
     "output_type": "stream",
     "text": [
      "Since p-value(=0.000510) < alpha(=0.05) We reject the null hypothesis H0. So we conclude that there is correlation -0.47 at 0.05 level of significance.\n",
      "-0.4737769666917978\n"
     ]
    }
   ],
   "source": [
    "from scipy.stats import pearsonr\n",
    "\n",
    "# Returns Pearson’s correlation coefficient,2-tailed p-value)\n",
    "\n",
    "\n",
    "# Hypothesis\n",
    "\n",
    "# H0: ρ = 0\n",
    "\n",
    "# H1: ρ <> 0\n",
    "\n",
    "\n",
    "corr, p_value = pearsonr(df_cor.iloc[:,1].values.tolist(), df_cor.iloc[:,0].values.tolist())\n",
    "\n",
    "alpha = 0.05\n",
    "  \n",
    "if p_value<=alpha:\n",
    "\n",
    "    print('Since p-value(=%f)'%p_value,'<','alpha(=%.2f)'%alpha,'''We reject the null hypothesis H0. So we conclude that there is correlation %.2f at %.2f level of significance.'''%(corr,alpha))\n",
    "\n",
    "else:\n",
    "\n",
    "    print('Since p-value(=%f)'%p_value,'>','alpha(=%.2f)'%alpha,'''We do not reject the null hypothesis H0. So we conclude that there is not correlation at %.2f level of significance.''' %alpha)\n",
    "print(corr)"
   ]
  },
  {
   "cell_type": "code",
   "execution_count": 158,
   "id": "08a02b4d",
   "metadata": {},
   "outputs": [
    {
     "data": {
      "text/html": [
       "<div>\n",
       "<style scoped>\n",
       "    .dataframe tbody tr th:only-of-type {\n",
       "        vertical-align: middle;\n",
       "    }\n",
       "\n",
       "    .dataframe tbody tr th {\n",
       "        vertical-align: top;\n",
       "    }\n",
       "\n",
       "    .dataframe thead th {\n",
       "        text-align: right;\n",
       "    }\n",
       "</style>\n",
       "<table border=\"1\" class=\"dataframe\">\n",
       "  <thead>\n",
       "    <tr style=\"text-align: right;\">\n",
       "      <th></th>\n",
       "      <th>Other_Algorithms_initial</th>\n",
       "      <th>Other_Algorithms_noise_1</th>\n",
       "      <th>Other_Algorithms_noise_2</th>\n",
       "      <th>Other_Algorithms_noise_3</th>\n",
       "      <th>Other_Algorithms_noise_4</th>\n",
       "    </tr>\n",
       "  </thead>\n",
       "  <tbody>\n",
       "    <tr>\n",
       "      <th>0</th>\n",
       "      <td>0.970327</td>\n",
       "      <td>0.933104</td>\n",
       "      <td>0.810292</td>\n",
       "      <td>0.749929</td>\n",
       "      <td>0.678330</td>\n",
       "    </tr>\n",
       "    <tr>\n",
       "      <th>1</th>\n",
       "      <td>0.940734</td>\n",
       "      <td>0.919018</td>\n",
       "      <td>0.849674</td>\n",
       "      <td>0.765682</td>\n",
       "      <td>0.651092</td>\n",
       "    </tr>\n",
       "    <tr>\n",
       "      <th>2</th>\n",
       "      <td>0.950465</td>\n",
       "      <td>0.905855</td>\n",
       "      <td>0.801244</td>\n",
       "      <td>0.749774</td>\n",
       "      <td>0.702126</td>\n",
       "    </tr>\n",
       "    <tr>\n",
       "      <th>3</th>\n",
       "      <td>0.950504</td>\n",
       "      <td>0.926823</td>\n",
       "      <td>0.883751</td>\n",
       "      <td>0.784821</td>\n",
       "      <td>0.622979</td>\n",
       "    </tr>\n",
       "    <tr>\n",
       "      <th>4</th>\n",
       "      <td>0.951626</td>\n",
       "      <td>0.905603</td>\n",
       "      <td>0.823179</td>\n",
       "      <td>0.772426</td>\n",
       "      <td>0.665533</td>\n",
       "    </tr>\n",
       "    <tr>\n",
       "      <th>5</th>\n",
       "      <td>0.948707</td>\n",
       "      <td>0.918882</td>\n",
       "      <td>0.853842</td>\n",
       "      <td>0.754896</td>\n",
       "      <td>0.629825</td>\n",
       "    </tr>\n",
       "    <tr>\n",
       "      <th>6</th>\n",
       "      <td>0.947407</td>\n",
       "      <td>0.946431</td>\n",
       "      <td>0.853472</td>\n",
       "      <td>0.763071</td>\n",
       "      <td>0.641396</td>\n",
       "    </tr>\n",
       "    <tr>\n",
       "      <th>7</th>\n",
       "      <td>0.959186</td>\n",
       "      <td>0.874895</td>\n",
       "      <td>0.811904</td>\n",
       "      <td>0.748862</td>\n",
       "      <td>0.655086</td>\n",
       "    </tr>\n",
       "    <tr>\n",
       "      <th>8</th>\n",
       "      <td>0.963300</td>\n",
       "      <td>0.953158</td>\n",
       "      <td>0.881933</td>\n",
       "      <td>0.818292</td>\n",
       "      <td>0.689371</td>\n",
       "    </tr>\n",
       "    <tr>\n",
       "      <th>9</th>\n",
       "      <td>0.939946</td>\n",
       "      <td>0.875524</td>\n",
       "      <td>0.788913</td>\n",
       "      <td>0.710790</td>\n",
       "      <td>0.636128</td>\n",
       "    </tr>\n",
       "  </tbody>\n",
       "</table>\n",
       "</div>"
      ],
      "text/plain": [
       "   Other_Algorithms_initial  Other_Algorithms_noise_1  \\\n",
       "0                  0.970327                  0.933104   \n",
       "1                  0.940734                  0.919018   \n",
       "2                  0.950465                  0.905855   \n",
       "3                  0.950504                  0.926823   \n",
       "4                  0.951626                  0.905603   \n",
       "5                  0.948707                  0.918882   \n",
       "6                  0.947407                  0.946431   \n",
       "7                  0.959186                  0.874895   \n",
       "8                  0.963300                  0.953158   \n",
       "9                  0.939946                  0.875524   \n",
       "\n",
       "   Other_Algorithms_noise_2  Other_Algorithms_noise_3  \\\n",
       "0                  0.810292                  0.749929   \n",
       "1                  0.849674                  0.765682   \n",
       "2                  0.801244                  0.749774   \n",
       "3                  0.883751                  0.784821   \n",
       "4                  0.823179                  0.772426   \n",
       "5                  0.853842                  0.754896   \n",
       "6                  0.853472                  0.763071   \n",
       "7                  0.811904                  0.748862   \n",
       "8                  0.881933                  0.818292   \n",
       "9                  0.788913                  0.710790   \n",
       "\n",
       "   Other_Algorithms_noise_4  \n",
       "0                  0.678330  \n",
       "1                  0.651092  \n",
       "2                  0.702126  \n",
       "3                  0.622979  \n",
       "4                  0.665533  \n",
       "5                  0.629825  \n",
       "6                  0.641396  \n",
       "7                  0.655086  \n",
       "8                  0.689371  \n",
       "9                  0.636128  "
      ]
     },
     "execution_count": 158,
     "metadata": {},
     "output_type": "execute_result"
    }
   ],
   "source": [
    "#create table\n",
    "d2 = {\n",
    "    'Other_Algorithms_initial': f1_results_other_algorithms,\n",
    "    'Other_Algorithms_noise_1': f1_results_noise_1_other_algorithms,\n",
    "    'Other_Algorithms_noise_2': f1_results_noise_2_other_algorithms,\n",
    "    'Other_Algorithms_noise_3': f1_results_noise_3_other_algorithms,\n",
    "    'Other_Algorithms_noise_4': f1_results_noise_4_other_algorithms\n",
    "    }\n",
    "Other_Algorithms_table = pd.DataFrame(d2)\n",
    "Other_Algorithms_table"
   ]
  },
  {
   "cell_type": "code",
   "execution_count": 159,
   "id": "bea4224e",
   "metadata": {},
   "outputs": [],
   "source": [
    "# Correlation between f1score of Other algorithms mean value and noise increase \n",
    "\n",
    "a = Other_Algorithms_table.iloc[:,:1].squeeze()\n",
    "     \n",
    "b = Other_Algorithms_table['Other_Algorithms_noise_1'].squeeze()\n",
    "\n",
    "c = Other_Algorithms_table['Other_Algorithms_noise_2'].squeeze()\n",
    "  \n",
    "d = Other_Algorithms_table['Other_Algorithms_noise_3'].squeeze()    \n",
    "\n",
    "e = Other_Algorithms_table['Other_Algorithms_noise_4'].squeeze()\n",
    "\n",
    "f1 = pd.concat([a,b,c,d,e])\n",
    "\n",
    "f1 = pd.DataFrame(f1)\n",
    "\n",
    "f1.rename(columns = {0:'f1'}, inplace = True)\n",
    "f1.reset_index(drop=True, inplace=True)\n",
    "\n",
    "\n",
    "noise_1 = [1 for i in range(10)]\n",
    "noise_2 = [2 for i in range(10)]\n",
    "noise_3 = [3 for i in range(10)]\n",
    "noise_4 = [4 for i in range(10)]\n",
    "noise_5 = [5 for i in range(10)]\n",
    "\n",
    "noise = noise_1+noise_2+noise_3+noise_4+noise_5\n",
    "\n",
    "noise = pd.DataFrame(noise)\n",
    "\n",
    "noise.rename(columns = {0:'noise'}, inplace = True)\n",
    "noise.reset_index(drop=True, inplace=True)\n",
    "\n",
    "\n",
    "df_cor = pd.concat([f1,noise], axis=1)"
   ]
  },
  {
   "cell_type": "code",
   "execution_count": 160,
   "id": "e78930d4",
   "metadata": {},
   "outputs": [
    {
     "data": {
      "text/plain": [
       "<matplotlib.collections.PathCollection at 0x1b31d9ab4f0>"
      ]
     },
     "execution_count": 160,
     "metadata": {},
     "output_type": "execute_result"
    },
    {
     "data": {
      "image/png": "[encoded data removed]",
      "text/plain": [
       "<Figure size 1440x1440 with 1 Axes>"
      ]
     },
     "metadata": {},
     "output_type": "display_data"
    }
   ],
   "source": [
    "plt.scatter(df_cor.iloc[:,1].values.tolist(), df_cor.iloc[:,0].values.tolist())"
   ]
  },
  {
   "cell_type": "code",
   "execution_count": 161,
   "id": "5b7ed507",
   "metadata": {},
   "outputs": [
    {
     "name": "stdout",
     "output_type": "stream",
     "text": [
      "Since p-value(=0.000000) < alpha(=0.05) We reject the null hypothesis H0. So we conclude that there is correlation -0.96 at 0.05 level of significance.\n",
      "-0.9627010885248818\n"
     ]
    }
   ],
   "source": [
    "from scipy.stats import pearsonr\n",
    "\n",
    "# Returns Pearson’s correlation coefficient,2-tailed p-value)\n",
    "\n",
    "\n",
    "# Hypothesis\n",
    "\n",
    "# H0: ρ = 0\n",
    "\n",
    "# H1: ρ <> 0\n",
    "\n",
    "\n",
    "corr, p_value = pearsonr(df_cor.iloc[:,1].values.tolist(), df_cor.iloc[:,0].values.tolist())\n",
    "\n",
    "alpha = 0.05\n",
    "  \n",
    "if p_value<=alpha:\n",
    "\n",
    "    print('Since p-value(=%f)'%p_value,'<','alpha(=%.2f)'%alpha,'''We reject the null hypothesis H0. So we conclude that there is correlation %.2f at %.2f level of significance.'''%(corr,alpha))\n",
    "\n",
    "else:\n",
    "\n",
    "    print('Since p-value(=%f)'%p_value,'>','alpha(=%.2f)'%alpha,'''We do not reject the null hypothesis H0. So we conclude that there is not correlation at %.2f level of significance.''' %alpha)\n",
    "print(corr)"
   ]
  },
  {
   "cell_type": "code",
   "execution_count": null,
   "id": "ed556f94",
   "metadata": {},
   "outputs": [],
   "source": []
  }
 ],
 "metadata": {
  "kernelspec": {
   "display_name": "Python 3 (ipykernel)",
   "language": "python",
   "name": "python3"
  },
  "language_info": {
   "codemirror_mode": {
    "name": "ipython",
    "version": 3
   },
   "file_extension": ".py",
   "mimetype": "text/x-python",
   "name": "python",
   "nbconvert_exporter": "python",
   "pygments_lexer": "ipython3",
   "version": "3.9.7"
  }
 },
 "nbformat": 4,
 "nbformat_minor": 5
}
