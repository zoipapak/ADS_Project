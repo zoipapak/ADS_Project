{
 "cells": [
  {
   "cell_type": "code",
   "execution_count": 1,
   "id": "3b2c154d",
   "metadata": {},
   "outputs": [],
   "source": [
    "#Import libraries\n",
    "\n",
    "import pandas as pd \n",
    "import numpy as np\n",
    "import matplotlib.pyplot as plt\n",
    "from sklearn import datasets\n",
    "import seaborn as sns"
   ]
  },
  {
   "cell_type": "code",
   "execution_count": 2,
   "id": "58ed4ab6",
   "metadata": {},
   "outputs": [],
   "source": [
    "#Load dataset\n",
    "iris = datasets.load_iris()\n",
    "df = pd.DataFrame(data=iris.data, columns=iris.feature_names) # convert breast cancer data to Dataframe\n",
    "df[\"target\"]=iris.target"
   ]
  },
  {
   "cell_type": "code",
   "execution_count": 3,
   "id": "5aeae6fa",
   "metadata": {},
   "outputs": [
    {
     "data": {
      "text/html": [
       "<div>\n",
       "<style scoped>\n",
       "    .dataframe tbody tr th:only-of-type {\n",
       "        vertical-align: middle;\n",
       "    }\n",
       "\n",
       "    .dataframe tbody tr th {\n",
       "        vertical-align: top;\n",
       "    }\n",
       "\n",
       "    .dataframe thead th {\n",
       "        text-align: right;\n",
       "    }\n",
       "</style>\n",
       "<table border=\"1\" class=\"dataframe\">\n",
       "  <thead>\n",
       "    <tr style=\"text-align: right;\">\n",
       "      <th></th>\n",
       "      <th>sepal length (cm)</th>\n",
       "      <th>sepal width (cm)</th>\n",
       "      <th>petal length (cm)</th>\n",
       "      <th>petal width (cm)</th>\n",
       "      <th>target</th>\n",
       "    </tr>\n",
       "  </thead>\n",
       "  <tbody>\n",
       "    <tr>\n",
       "      <th>0</th>\n",
       "      <td>5.1</td>\n",
       "      <td>3.5</td>\n",
       "      <td>1.4</td>\n",
       "      <td>0.2</td>\n",
       "      <td>0</td>\n",
       "    </tr>\n",
       "    <tr>\n",
       "      <th>1</th>\n",
       "      <td>4.9</td>\n",
       "      <td>3.0</td>\n",
       "      <td>1.4</td>\n",
       "      <td>0.2</td>\n",
       "      <td>0</td>\n",
       "    </tr>\n",
       "    <tr>\n",
       "      <th>2</th>\n",
       "      <td>4.7</td>\n",
       "      <td>3.2</td>\n",
       "      <td>1.3</td>\n",
       "      <td>0.2</td>\n",
       "      <td>0</td>\n",
       "    </tr>\n",
       "    <tr>\n",
       "      <th>3</th>\n",
       "      <td>4.6</td>\n",
       "      <td>3.1</td>\n",
       "      <td>1.5</td>\n",
       "      <td>0.2</td>\n",
       "      <td>0</td>\n",
       "    </tr>\n",
       "    <tr>\n",
       "      <th>4</th>\n",
       "      <td>5.0</td>\n",
       "      <td>3.6</td>\n",
       "      <td>1.4</td>\n",
       "      <td>0.2</td>\n",
       "      <td>0</td>\n",
       "    </tr>\n",
       "  </tbody>\n",
       "</table>\n",
       "</div>"
      ],
      "text/plain": [
       "   sepal length (cm)  sepal width (cm)  petal length (cm)  petal width (cm)  \\\n",
       "0                5.1               3.5                1.4               0.2   \n",
       "1                4.9               3.0                1.4               0.2   \n",
       "2                4.7               3.2                1.3               0.2   \n",
       "3                4.6               3.1                1.5               0.2   \n",
       "4                5.0               3.6                1.4               0.2   \n",
       "\n",
       "   target  \n",
       "0       0  \n",
       "1       0  \n",
       "2       0  \n",
       "3       0  \n",
       "4       0  "
      ]
     },
     "execution_count": 3,
     "metadata": {},
     "output_type": "execute_result"
    }
   ],
   "source": [
    "df.head()"
   ]
  },
  {
   "cell_type": "code",
   "execution_count": 4,
   "id": "07257ef0",
   "metadata": {},
   "outputs": [
    {
     "data": {
      "text/plain": [
       "sepal length (cm)    float64\n",
       "sepal width (cm)     float64\n",
       "petal length (cm)    float64\n",
       "petal width (cm)     float64\n",
       "target                 int32\n",
       "dtype: object"
      ]
     },
     "execution_count": 4,
     "metadata": {},
     "output_type": "execute_result"
    }
   ],
   "source": [
    "df.dtypes"
   ]
  },
  {
   "cell_type": "code",
   "execution_count": 5,
   "id": "d5b4275d",
   "metadata": {},
   "outputs": [
    {
     "data": {
      "text/html": [
       "<div>\n",
       "<style scoped>\n",
       "    .dataframe tbody tr th:only-of-type {\n",
       "        vertical-align: middle;\n",
       "    }\n",
       "\n",
       "    .dataframe tbody tr th {\n",
       "        vertical-align: top;\n",
       "    }\n",
       "\n",
       "    .dataframe thead th {\n",
       "        text-align: right;\n",
       "    }\n",
       "</style>\n",
       "<table border=\"1\" class=\"dataframe\">\n",
       "  <thead>\n",
       "    <tr style=\"text-align: right;\">\n",
       "      <th></th>\n",
       "      <th>sepal length (cm)</th>\n",
       "      <th>sepal width (cm)</th>\n",
       "      <th>petal length (cm)</th>\n",
       "      <th>petal width (cm)</th>\n",
       "      <th>target</th>\n",
       "    </tr>\n",
       "  </thead>\n",
       "  <tbody>\n",
       "    <tr>\n",
       "      <th>count</th>\n",
       "      <td>150.000000</td>\n",
       "      <td>150.000000</td>\n",
       "      <td>150.000000</td>\n",
       "      <td>150.000000</td>\n",
       "      <td>150.000000</td>\n",
       "    </tr>\n",
       "    <tr>\n",
       "      <th>mean</th>\n",
       "      <td>5.843333</td>\n",
       "      <td>3.057333</td>\n",
       "      <td>3.758000</td>\n",
       "      <td>1.199333</td>\n",
       "      <td>1.000000</td>\n",
       "    </tr>\n",
       "    <tr>\n",
       "      <th>std</th>\n",
       "      <td>0.828066</td>\n",
       "      <td>0.435866</td>\n",
       "      <td>1.765298</td>\n",
       "      <td>0.762238</td>\n",
       "      <td>0.819232</td>\n",
       "    </tr>\n",
       "    <tr>\n",
       "      <th>min</th>\n",
       "      <td>4.300000</td>\n",
       "      <td>2.000000</td>\n",
       "      <td>1.000000</td>\n",
       "      <td>0.100000</td>\n",
       "      <td>0.000000</td>\n",
       "    </tr>\n",
       "    <tr>\n",
       "      <th>25%</th>\n",
       "      <td>5.100000</td>\n",
       "      <td>2.800000</td>\n",
       "      <td>1.600000</td>\n",
       "      <td>0.300000</td>\n",
       "      <td>0.000000</td>\n",
       "    </tr>\n",
       "    <tr>\n",
       "      <th>50%</th>\n",
       "      <td>5.800000</td>\n",
       "      <td>3.000000</td>\n",
       "      <td>4.350000</td>\n",
       "      <td>1.300000</td>\n",
       "      <td>1.000000</td>\n",
       "    </tr>\n",
       "    <tr>\n",
       "      <th>75%</th>\n",
       "      <td>6.400000</td>\n",
       "      <td>3.300000</td>\n",
       "      <td>5.100000</td>\n",
       "      <td>1.800000</td>\n",
       "      <td>2.000000</td>\n",
       "    </tr>\n",
       "    <tr>\n",
       "      <th>max</th>\n",
       "      <td>7.900000</td>\n",
       "      <td>4.400000</td>\n",
       "      <td>6.900000</td>\n",
       "      <td>2.500000</td>\n",
       "      <td>2.000000</td>\n",
       "    </tr>\n",
       "  </tbody>\n",
       "</table>\n",
       "</div>"
      ],
      "text/plain": [
       "       sepal length (cm)  sepal width (cm)  petal length (cm)  \\\n",
       "count         150.000000        150.000000         150.000000   \n",
       "mean            5.843333          3.057333           3.758000   \n",
       "std             0.828066          0.435866           1.765298   \n",
       "min             4.300000          2.000000           1.000000   \n",
       "25%             5.100000          2.800000           1.600000   \n",
       "50%             5.800000          3.000000           4.350000   \n",
       "75%             6.400000          3.300000           5.100000   \n",
       "max             7.900000          4.400000           6.900000   \n",
       "\n",
       "       petal width (cm)      target  \n",
       "count        150.000000  150.000000  \n",
       "mean           1.199333    1.000000  \n",
       "std            0.762238    0.819232  \n",
       "min            0.100000    0.000000  \n",
       "25%            0.300000    0.000000  \n",
       "50%            1.300000    1.000000  \n",
       "75%            1.800000    2.000000  \n",
       "max            2.500000    2.000000  "
      ]
     },
     "execution_count": 5,
     "metadata": {},
     "output_type": "execute_result"
    }
   ],
   "source": [
    "df.describe()"
   ]
  },
  {
   "cell_type": "code",
   "execution_count": 6,
   "id": "b505c304",
   "metadata": {},
   "outputs": [
    {
     "data": {
      "text/plain": [
       "0    50\n",
       "1    50\n",
       "2    50\n",
       "Name: target, dtype: int64"
      ]
     },
     "execution_count": 6,
     "metadata": {},
     "output_type": "execute_result"
    }
   ],
   "source": [
    "df.target.value_counts()"
   ]
  },
  {
   "cell_type": "code",
   "execution_count": 7,
   "id": "8de0f548",
   "metadata": {},
   "outputs": [
    {
     "data": {
      "image/png": "[encoded data removed]",
      "text/plain": [
       "<Figure size 1440x1440 with 6 Axes>"
      ]
     },
     "metadata": {
      "needs_background": "light"
     },
     "output_type": "display_data"
    }
   ],
   "source": [
    "plt.rcParams[\"figure.figsize\"] = (20,20)\n",
    "df.hist()\n",
    "plt.show()"
   ]
  },
  {
   "cell_type": "code",
   "execution_count": 8,
   "id": "adb26382",
   "metadata": {},
   "outputs": [
    {
     "data": {
      "image/png": "[encoded data removed]",
      "text/plain": [
       "<Figure size 1440x1440 with 35 Axes>"
      ]
     },
     "metadata": {
      "needs_background": "light"
     },
     "output_type": "display_data"
    }
   ],
   "source": [
    "df.plot(kind='density', subplots=True, layout=(5,7), sharex=False)\n",
    "plt.show()"
   ]
  },
  {
   "cell_type": "code",
   "execution_count": 9,
   "id": "ffb513bb",
   "metadata": {},
   "outputs": [
    {
     "data": {
      "text/plain": [
       "sepal length (cm)    0\n",
       "sepal width (cm)     0\n",
       "petal length (cm)    0\n",
       "petal width (cm)     0\n",
       "target               0\n",
       "dtype: int64"
      ]
     },
     "execution_count": 9,
     "metadata": {},
     "output_type": "execute_result"
    }
   ],
   "source": [
    "df.isnull().sum()"
   ]
  },
  {
   "cell_type": "code",
   "execution_count": 10,
   "id": "53a17f5e",
   "metadata": {},
   "outputs": [
    {
     "data": {
      "text/plain": [
       "sepal length (cm)    0\n",
       "sepal width (cm)     0\n",
       "petal length (cm)    0\n",
       "petal width (cm)     0\n",
       "target               0\n",
       "dtype: int64"
      ]
     },
     "execution_count": 10,
     "metadata": {},
     "output_type": "execute_result"
    }
   ],
   "source": [
    "df.isna().sum()"
   ]
  },
  {
   "cell_type": "code",
   "execution_count": 11,
   "id": "9cb74c01",
   "metadata": {},
   "outputs": [
    {
     "data": {
      "text/html": [
       "<div>\n",
       "<style scoped>\n",
       "    .dataframe tbody tr th:only-of-type {\n",
       "        vertical-align: middle;\n",
       "    }\n",
       "\n",
       "    .dataframe tbody tr th {\n",
       "        vertical-align: top;\n",
       "    }\n",
       "\n",
       "    .dataframe thead th {\n",
       "        text-align: right;\n",
       "    }\n",
       "</style>\n",
       "<table border=\"1\" class=\"dataframe\">\n",
       "  <thead>\n",
       "    <tr style=\"text-align: right;\">\n",
       "      <th></th>\n",
       "      <th>sepal length (cm)</th>\n",
       "      <th>sepal width (cm)</th>\n",
       "      <th>petal length (cm)</th>\n",
       "      <th>petal width (cm)</th>\n",
       "      <th>target</th>\n",
       "    </tr>\n",
       "  </thead>\n",
       "  <tbody>\n",
       "    <tr>\n",
       "      <th>142</th>\n",
       "      <td>5.8</td>\n",
       "      <td>2.7</td>\n",
       "      <td>5.1</td>\n",
       "      <td>1.9</td>\n",
       "      <td>2</td>\n",
       "    </tr>\n",
       "  </tbody>\n",
       "</table>\n",
       "</div>"
      ],
      "text/plain": [
       "     sepal length (cm)  sepal width (cm)  petal length (cm)  petal width (cm)  \\\n",
       "142                5.8               2.7                5.1               1.9   \n",
       "\n",
       "     target  \n",
       "142       2  "
      ]
     },
     "execution_count": 11,
     "metadata": {},
     "output_type": "execute_result"
    }
   ],
   "source": [
    "duplicate_values = df[df.duplicated()]\n",
    "duplicate_values"
   ]
  },
  {
   "cell_type": "code",
   "execution_count": 12,
   "id": "9b232fd1",
   "metadata": {},
   "outputs": [],
   "source": [
    "df.drop_duplicates(keep='first', inplace=True)"
   ]
  },
  {
   "cell_type": "code",
   "execution_count": 13,
   "id": "bd4d305c",
   "metadata": {},
   "outputs": [
    {
     "data": {
      "text/html": [
       "<div>\n",
       "<style scoped>\n",
       "    .dataframe tbody tr th:only-of-type {\n",
       "        vertical-align: middle;\n",
       "    }\n",
       "\n",
       "    .dataframe tbody tr th {\n",
       "        vertical-align: top;\n",
       "    }\n",
       "\n",
       "    .dataframe thead th {\n",
       "        text-align: right;\n",
       "    }\n",
       "</style>\n",
       "<table border=\"1\" class=\"dataframe\">\n",
       "  <thead>\n",
       "    <tr style=\"text-align: right;\">\n",
       "      <th></th>\n",
       "      <th>sepal length (cm)</th>\n",
       "      <th>sepal width (cm)</th>\n",
       "      <th>petal length (cm)</th>\n",
       "      <th>petal width (cm)</th>\n",
       "      <th>target</th>\n",
       "    </tr>\n",
       "  </thead>\n",
       "  <tbody>\n",
       "  </tbody>\n",
       "</table>\n",
       "</div>"
      ],
      "text/plain": [
       "Empty DataFrame\n",
       "Columns: [sepal length (cm), sepal width (cm), petal length (cm), petal width (cm), target]\n",
       "Index: []"
      ]
     },
     "execution_count": 13,
     "metadata": {},
     "output_type": "execute_result"
    }
   ],
   "source": [
    "duplicate_values = df[df.duplicated()]\n",
    "duplicate_values"
   ]
  },
  {
   "cell_type": "code",
   "execution_count": 14,
   "id": "710d6646",
   "metadata": {},
   "outputs": [
    {
     "data": {
      "image/png": "[encoded data removed]",
      "text/plain": [
       "<Figure size 1440x1440 with 35 Axes>"
      ]
     },
     "metadata": {
      "needs_background": "light"
     },
     "output_type": "display_data"
    }
   ],
   "source": [
    "df.plot(kind='box', subplots=True, layout=(5,7), sharex=False, sharey=False)\n",
    "plt.show()"
   ]
  },
  {
   "cell_type": "code",
   "execution_count": 15,
   "id": "85f383e0",
   "metadata": {},
   "outputs": [
    {
     "data": {
      "text/plain": [
       "Index(['target', 'petal width (cm)', 'petal length (cm)', 'sepal length (cm)',\n",
       "       'sepal width (cm)'],\n",
       "      dtype='object')"
      ]
     },
     "execution_count": 15,
     "metadata": {},
     "output_type": "execute_result"
    }
   ],
   "source": [
    "correlation = df.corr(method='spearman')\n",
    "columns = correlation.nlargest(5,'target').index\n",
    "columns"
   ]
  },
  {
   "cell_type": "code",
   "execution_count": 16,
   "id": "12ff68e5",
   "metadata": {},
   "outputs": [
    {
     "data": {
      "image/png": "[encoded data removed]",
      "text/plain": [
       "<Figure size 1440x720 with 2 Axes>"
      ]
     },
     "metadata": {
      "needs_background": "light"
     },
     "output_type": "display_data"
    }
   ],
   "source": [
    "f = plt.figure(figsize=(20, 10))\n",
    "correlation_map = np.corrcoef(df[columns].values.T)\n",
    "sns.set(font_scale=1.0)\n",
    "heatmap = sns.heatmap(correlation_map, cbar=True, annot=True, square=True, fmt='.2f', yticklabels=columns.values, xticklabels=columns.values)\n",
    "\n",
    "plt.show()"
   ]
  },
  {
   "cell_type": "markdown",
   "id": "84739e59",
   "metadata": {},
   "source": [
    "##### Seperate dataset into features and output "
   ]
  },
  {
   "cell_type": "code",
   "execution_count": 17,
   "id": "285aad82",
   "metadata": {},
   "outputs": [],
   "source": [
    "values = df.values\n",
    "\n",
    "X = values[:,0:4]\n",
    "Y = values[:,4]"
   ]
  },
  {
   "cell_type": "markdown",
   "id": "1a086153",
   "metadata": {},
   "source": [
    "##### Feature Scaling "
   ]
  },
  {
   "cell_type": "code",
   "execution_count": 18,
   "id": "0572577f",
   "metadata": {},
   "outputs": [],
   "source": [
    "from sklearn.preprocessing import StandardScaler\n",
    "scaler = StandardScaler() # initialize scaler \n",
    "scaler.fit(X) # learn the necessary info from data \n",
    "X_scaled  = scaler.fit_transform(X) # apply scaling "
   ]
  },
  {
   "cell_type": "code",
   "execution_count": 19,
   "id": "3a7673f9",
   "metadata": {},
   "outputs": [],
   "source": [
    "df_scaled = pd.DataFrame(X_scaled)"
   ]
  },
  {
   "cell_type": "code",
   "execution_count": 20,
   "id": "110aac58",
   "metadata": {},
   "outputs": [
    {
     "data": {
      "image/png": "[encoded data removed]",
      "text/plain": [
       "<Figure size 1440x1440 with 4 Axes>"
      ]
     },
     "metadata": {},
     "output_type": "display_data"
    }
   ],
   "source": [
    "plt.rcParams[\"figure.figsize\"] = (20,20)\n",
    "df_scaled.hist()\n",
    "plt.show()"
   ]
  },
  {
   "cell_type": "code",
   "execution_count": 21,
   "id": "ef793e7d",
   "metadata": {},
   "outputs": [
    {
     "name": "stdout",
     "output_type": "stream",
     "text": [
      " LR: 0.908008 (+/- 0.075431)\n",
      "LDA: 0.979690 (+/- 0.033781)\n",
      "kNN: 0.955421 (+/- 0.047810)\n",
      " DT: 0.952593 (+/- 0.052633)\n",
      " NB: 0.953859 (+/- 0.053100)\n",
      "SVM: 0.960176 (+/- 0.051577)\n",
      " RF: 0.953940 (+/- 0.047553)\n",
      " GB: 0.952425 (+/- 0.051175)\n",
      "XGB: 0.953590 (+/- 0.045997)\n",
      "AdaBoost: 0.945580 (+/- 0.054301)\n",
      "ANN: 0.945839 (+/- 0.048615)\n"
     ]
    }
   ],
   "source": [
    "#Evaluation metric for 13 algorithms\n",
    "\n",
    "from sklearn.model_selection import cross_val_score\n",
    "from sklearn.model_selection import RepeatedStratifiedKFold\n",
    "from sklearn.pipeline import Pipeline\n",
    "from sklearn.linear_model import LogisticRegression\n",
    "from sklearn.discriminant_analysis import LinearDiscriminantAnalysis # LDA\n",
    "from sklearn.neighbors import KNeighborsClassifier #KNN\n",
    "from sklearn.naive_bayes import GaussianNB  # Naive Bayes\n",
    "from sklearn.tree import DecisionTreeClassifier # Decision Tree\n",
    "from sklearn.svm import SVC # SVM\n",
    "from sklearn.ensemble import RandomForestClassifier\n",
    "from sklearn.ensemble import GradientBoostingClassifier\n",
    "import xgboost as xgb\n",
    "from sklearn.ensemble import AdaBoostClassifier\n",
    "from sklearn.neural_network import MLPClassifier \n",
    "from sklearn.metrics import f1_score # We choose f1 score because the data are unbalanced and f1 takes the combination of precision and recall\n",
    "\n",
    "\n",
    "\n",
    "models = []\n",
    "models.append(('LR',  LogisticRegression(solver='liblinear')))\n",
    "models.append(('LDA', LinearDiscriminantAnalysis()))\n",
    "models.append(('kNN', KNeighborsClassifier()))\n",
    "models.append(('DT',  DecisionTreeClassifier()))\n",
    "models.append(('NB',  GaussianNB()))\n",
    "models.append(('SVM', SVC(kernel=\"linear\", gamma='auto')))\n",
    "models.append(('RF',  RandomForestClassifier()))\n",
    "models.append(('GB',  GradientBoostingClassifier()))\n",
    "models.append(('XGB', xgb.XGBClassifier()))\n",
    "models.append(('AdaBoost',  AdaBoostClassifier()))\n",
    "models.append(('ANN', MLPClassifier()))\n",
    "\n",
    "\n",
    "cv = RepeatedStratifiedKFold(n_splits=10, n_repeats=5, random_state=1)\n",
    "scoring = \"f1_macro\"\n",
    "\n",
    "results_no_noise={}\n",
    "\n",
    "results = []\n",
    "names   = []\n",
    "for i, model in models:\n",
    "    cv_results = cross_val_score(model, X_scaled, Y, cv=cv, n_jobs=-1, scoring=scoring)\n",
    "    results.append(cv_results)\n",
    "    names.append(i)\n",
    "    print(\"%03s: %f (+/- %f)\" % (i, cv_results.mean(), cv_results.std()))\n",
    "    results_no_noise[i]=cv_results.mean()"
   ]
  },
  {
   "cell_type": "code",
   "execution_count": 22,
   "id": "218dd9e5",
   "metadata": {},
   "outputs": [],
   "source": [
    "# Multiple results from cross validation for statistical tests"
   ]
  },
  {
   "cell_type": "code",
   "execution_count": 23,
   "id": "cea35988",
   "metadata": {},
   "outputs": [],
   "source": [
    "# Create a function that assembles cross validation results\n",
    "\n",
    "def cv_res (results):  \n",
    "    \n",
    "    a = [5,10,15,20,25,30,35,40,45,50]\n",
    "\n",
    "    x = []\n",
    "\n",
    "    sum = 0\n",
    "\n",
    "    for i , result in enumerate(results):\n",
    "       \n",
    "        sum += result\n",
    "\n",
    "        if i+1 in a: \n",
    "            x.append(sum/5)\n",
    "            sum=0\n",
    "    return x"
   ]
  },
  {
   "cell_type": "code",
   "execution_count": 24,
   "id": "2d16cf11",
   "metadata": {},
   "outputs": [
    {
     "data": {
      "text/html": [
       "<div>\n",
       "<style scoped>\n",
       "    .dataframe tbody tr th:only-of-type {\n",
       "        vertical-align: middle;\n",
       "    }\n",
       "\n",
       "    .dataframe tbody tr th {\n",
       "        vertical-align: top;\n",
       "    }\n",
       "\n",
       "    .dataframe thead th {\n",
       "        text-align: right;\n",
       "    }\n",
       "</style>\n",
       "<table border=\"1\" class=\"dataframe\">\n",
       "  <thead>\n",
       "    <tr style=\"text-align: right;\">\n",
       "      <th></th>\n",
       "      <th>LR</th>\n",
       "      <th>LDA</th>\n",
       "      <th>kNN</th>\n",
       "      <th>DT</th>\n",
       "      <th>NB</th>\n",
       "      <th>SVM</th>\n",
       "      <th>RF</th>\n",
       "      <th>GB</th>\n",
       "      <th>XGB</th>\n",
       "      <th>AdaBoost</th>\n",
       "      <th>ANN</th>\n",
       "    </tr>\n",
       "  </thead>\n",
       "  <tbody>\n",
       "    <tr>\n",
       "      <th>0</th>\n",
       "      <td>0.946263</td>\n",
       "      <td>0.986532</td>\n",
       "      <td>0.973064</td>\n",
       "      <td>0.973064</td>\n",
       "      <td>0.986532</td>\n",
       "      <td>0.958754</td>\n",
       "      <td>0.973064</td>\n",
       "      <td>0.973064</td>\n",
       "      <td>0.973064</td>\n",
       "      <td>0.973064</td>\n",
       "      <td>0.945286</td>\n",
       "    </tr>\n",
       "    <tr>\n",
       "      <th>1</th>\n",
       "      <td>0.890909</td>\n",
       "      <td>0.971717</td>\n",
       "      <td>0.959596</td>\n",
       "      <td>0.944781</td>\n",
       "      <td>0.931582</td>\n",
       "      <td>0.958249</td>\n",
       "      <td>0.944781</td>\n",
       "      <td>0.930471</td>\n",
       "      <td>0.944781</td>\n",
       "      <td>0.930471</td>\n",
       "      <td>0.944781</td>\n",
       "    </tr>\n",
       "    <tr>\n",
       "      <th>2</th>\n",
       "      <td>0.932660</td>\n",
       "      <td>0.973333</td>\n",
       "      <td>0.933199</td>\n",
       "      <td>0.959865</td>\n",
       "      <td>0.946397</td>\n",
       "      <td>0.946128</td>\n",
       "      <td>0.933199</td>\n",
       "      <td>0.959865</td>\n",
       "      <td>0.959865</td>\n",
       "      <td>0.946397</td>\n",
       "      <td>0.933199</td>\n",
       "    </tr>\n",
       "    <tr>\n",
       "      <th>3</th>\n",
       "      <td>0.885640</td>\n",
       "      <td>0.986532</td>\n",
       "      <td>0.944012</td>\n",
       "      <td>0.957749</td>\n",
       "      <td>0.956638</td>\n",
       "      <td>0.957480</td>\n",
       "      <td>0.970948</td>\n",
       "      <td>0.957749</td>\n",
       "      <td>0.944281</td>\n",
       "      <td>0.957749</td>\n",
       "      <td>0.943170</td>\n",
       "    </tr>\n",
       "    <tr>\n",
       "      <th>4</th>\n",
       "      <td>0.906162</td>\n",
       "      <td>0.986532</td>\n",
       "      <td>0.959865</td>\n",
       "      <td>0.932929</td>\n",
       "      <td>0.946128</td>\n",
       "      <td>0.986532</td>\n",
       "      <td>0.946397</td>\n",
       "      <td>0.945556</td>\n",
       "      <td>0.945556</td>\n",
       "      <td>0.932088</td>\n",
       "      <td>0.947138</td>\n",
       "    </tr>\n",
       "    <tr>\n",
       "      <th>5</th>\n",
       "      <td>0.903805</td>\n",
       "      <td>0.973064</td>\n",
       "      <td>0.946397</td>\n",
       "      <td>0.959596</td>\n",
       "      <td>0.959865</td>\n",
       "      <td>0.958754</td>\n",
       "      <td>0.946397</td>\n",
       "      <td>0.946397</td>\n",
       "      <td>0.959596</td>\n",
       "      <td>0.946397</td>\n",
       "      <td>0.959596</td>\n",
       "    </tr>\n",
       "    <tr>\n",
       "      <th>6</th>\n",
       "      <td>0.905892</td>\n",
       "      <td>0.973064</td>\n",
       "      <td>0.959596</td>\n",
       "      <td>0.946128</td>\n",
       "      <td>0.959596</td>\n",
       "      <td>0.945286</td>\n",
       "      <td>0.946128</td>\n",
       "      <td>0.946128</td>\n",
       "      <td>0.946128</td>\n",
       "      <td>0.931818</td>\n",
       "      <td>0.933670</td>\n",
       "    </tr>\n",
       "    <tr>\n",
       "      <th>7</th>\n",
       "      <td>0.902660</td>\n",
       "      <td>0.986532</td>\n",
       "      <td>0.973333</td>\n",
       "      <td>0.946667</td>\n",
       "      <td>0.946128</td>\n",
       "      <td>0.973064</td>\n",
       "      <td>0.959865</td>\n",
       "      <td>0.959865</td>\n",
       "      <td>0.957480</td>\n",
       "      <td>0.946128</td>\n",
       "      <td>0.959865</td>\n",
       "    </tr>\n",
       "    <tr>\n",
       "      <th>8</th>\n",
       "      <td>0.945286</td>\n",
       "      <td>0.986532</td>\n",
       "      <td>0.973064</td>\n",
       "      <td>0.959596</td>\n",
       "      <td>0.973064</td>\n",
       "      <td>0.944444</td>\n",
       "      <td>0.973064</td>\n",
       "      <td>0.959596</td>\n",
       "      <td>0.959596</td>\n",
       "      <td>0.959596</td>\n",
       "      <td>0.973064</td>\n",
       "    </tr>\n",
       "    <tr>\n",
       "      <th>9</th>\n",
       "      <td>0.860808</td>\n",
       "      <td>0.973064</td>\n",
       "      <td>0.932088</td>\n",
       "      <td>0.945556</td>\n",
       "      <td>0.932660</td>\n",
       "      <td>0.973064</td>\n",
       "      <td>0.945556</td>\n",
       "      <td>0.945556</td>\n",
       "      <td>0.945556</td>\n",
       "      <td>0.932088</td>\n",
       "      <td>0.918620</td>\n",
       "    </tr>\n",
       "  </tbody>\n",
       "</table>\n",
       "</div>"
      ],
      "text/plain": [
       "         LR       LDA       kNN        DT        NB       SVM        RF  \\\n",
       "0  0.946263  0.986532  0.973064  0.973064  0.986532  0.958754  0.973064   \n",
       "1  0.890909  0.971717  0.959596  0.944781  0.931582  0.958249  0.944781   \n",
       "2  0.932660  0.973333  0.933199  0.959865  0.946397  0.946128  0.933199   \n",
       "3  0.885640  0.986532  0.944012  0.957749  0.956638  0.957480  0.970948   \n",
       "4  0.906162  0.986532  0.959865  0.932929  0.946128  0.986532  0.946397   \n",
       "5  0.903805  0.973064  0.946397  0.959596  0.959865  0.958754  0.946397   \n",
       "6  0.905892  0.973064  0.959596  0.946128  0.959596  0.945286  0.946128   \n",
       "7  0.902660  0.986532  0.973333  0.946667  0.946128  0.973064  0.959865   \n",
       "8  0.945286  0.986532  0.973064  0.959596  0.973064  0.944444  0.973064   \n",
       "9  0.860808  0.973064  0.932088  0.945556  0.932660  0.973064  0.945556   \n",
       "\n",
       "         GB       XGB  AdaBoost       ANN  \n",
       "0  0.973064  0.973064  0.973064  0.945286  \n",
       "1  0.930471  0.944781  0.930471  0.944781  \n",
       "2  0.959865  0.959865  0.946397  0.933199  \n",
       "3  0.957749  0.944281  0.957749  0.943170  \n",
       "4  0.945556  0.945556  0.932088  0.947138  \n",
       "5  0.946397  0.959596  0.946397  0.959596  \n",
       "6  0.946128  0.946128  0.931818  0.933670  \n",
       "7  0.959865  0.957480  0.946128  0.959865  \n",
       "8  0.959596  0.959596  0.959596  0.973064  \n",
       "9  0.945556  0.945556  0.932088  0.918620  "
      ]
     },
     "execution_count": 24,
     "metadata": {},
     "output_type": "execute_result"
    }
   ],
   "source": [
    "m =[]\n",
    "for i in models:\n",
    "    m.append(i[0])\n",
    "\n",
    "f1_results = pd.DataFrame()\n",
    "\n",
    "\n",
    "for i, m in enumerate(m):\n",
    "    f1_results[str(m)] = cv_res(results[i])\n",
    "\n",
    "f1_results    "
   ]
  },
  {
   "cell_type": "code",
   "execution_count": 25,
   "id": "b34fc9af",
   "metadata": {},
   "outputs": [
    {
     "data": {
      "text/plain": [
       "0    0.968869\n",
       "1    0.942165\n",
       "2    0.947771\n",
       "3    0.950420\n",
       "4    0.950279\n",
       "5    0.951347\n",
       "6    0.946162\n",
       "7    0.956546\n",
       "8    0.964731\n",
       "9    0.937253\n",
       "dtype: float64"
      ]
     },
     "execution_count": 25,
     "metadata": {},
     "output_type": "execute_result"
    }
   ],
   "source": [
    "# Initial results without the AdaBoost algorithm\n",
    "f1_results_other_algorithms=f1_results.drop(columns=['AdaBoost']).mean(axis=1)\n",
    "f1_results_other_algorithms"
   ]
  },
  {
   "cell_type": "markdown",
   "id": "ea6f0b58",
   "metadata": {},
   "source": [
    "## Noise without noisify "
   ]
  },
  {
   "cell_type": "code",
   "execution_count": 26,
   "id": "eb9b33a2",
   "metadata": {},
   "outputs": [],
   "source": [
    "# Create a function to add noise    \n",
    "def add_noise(X,p):\n",
    "    if p>0:\n",
    "        X_n = pd.DataFrame(X)\n",
    "        a,b = X.shape\n",
    "        c = round(a*p)\n",
    "\n",
    "        for k in range(b):\n",
    "            mean = X_n[k].mean()\n",
    "            sd = X_n[k].std()\n",
    "\n",
    "            for i in range(0,a,int(a/c)):\n",
    "                X_n.iloc[i,k] = np.random.normal(mean,sd)\n",
    "\n",
    "        return X_n.values\n",
    "\n",
    "    else:\n",
    "        return X"
   ]
  },
  {
   "cell_type": "markdown",
   "id": "342b798c",
   "metadata": {},
   "source": [
    "#### Add noise 5%"
   ]
  },
  {
   "cell_type": "code",
   "execution_count": 27,
   "id": "344ad268",
   "metadata": {},
   "outputs": [],
   "source": [
    "X2_noise1 = add_noise(X_scaled, p=0.05)"
   ]
  },
  {
   "cell_type": "code",
   "execution_count": 28,
   "id": "584f69c1",
   "metadata": {},
   "outputs": [
    {
     "name": "stdout",
     "output_type": "stream",
     "text": [
      " LR: 0.861802 (+/- 0.095837)\n",
      "LDA: 0.958283 (+/- 0.042084)\n",
      "kNN: 0.915051 (+/- 0.063479)\n",
      " DT: 0.919608 (+/- 0.078031)\n",
      " NB: 0.904581 (+/- 0.067575)\n",
      "SVM: 0.943212 (+/- 0.051228)\n",
      " RF: 0.931887 (+/- 0.056519)\n",
      " GB: 0.929390 (+/- 0.067694)\n",
      "XGB: 0.928949 (+/- 0.060986)\n",
      "AdaBoost: 0.891964 (+/- 0.061559)\n",
      "ANN: 0.910889 (+/- 0.064483)\n"
     ]
    }
   ],
   "source": [
    "from sklearn.model_selection import cross_val_score\n",
    "from sklearn.model_selection import RepeatedStratifiedKFold\n",
    "from sklearn.pipeline import Pipeline\n",
    "from sklearn.linear_model import LogisticRegression\n",
    "from sklearn.discriminant_analysis import LinearDiscriminantAnalysis # LDA\n",
    "from sklearn.neighbors import KNeighborsClassifier #KNN\n",
    "from sklearn.naive_bayes import GaussianNB  # Naive Bayes\n",
    "from sklearn.tree import DecisionTreeClassifier # Decision Tree\n",
    "from sklearn.svm import SVC # SVM\n",
    "from sklearn.ensemble import RandomForestClassifier\n",
    "from sklearn.ensemble import GradientBoostingClassifier\n",
    "import xgboost as xgb\n",
    "from sklearn.ensemble import AdaBoostClassifier\n",
    "from sklearn.neural_network import MLPClassifier \n",
    "from sklearn.metrics import f1_score # We choose f1 score because the data are unbalanced and f1 takes the combination of precision and recall\n",
    "\n",
    "\n",
    "\n",
    "models = []\n",
    "models.append(('LR',  LogisticRegression(solver='liblinear')))\n",
    "models.append(('LDA', LinearDiscriminantAnalysis()))\n",
    "models.append(('kNN', KNeighborsClassifier()))\n",
    "models.append(('DT',  DecisionTreeClassifier()))\n",
    "models.append(('NB',  GaussianNB()))\n",
    "models.append(('SVM', SVC(kernel=\"linear\", gamma='auto')))\n",
    "models.append(('RF',  RandomForestClassifier()))\n",
    "models.append(('GB',  GradientBoostingClassifier()))\n",
    "models.append(('XGB', xgb.XGBClassifier()))\n",
    "models.append(('AdaBoost',  AdaBoostClassifier()))\n",
    "models.append(('ANN', MLPClassifier()))\n",
    "\n",
    "\n",
    "cv = RepeatedStratifiedKFold(n_splits=10, n_repeats=5, random_state=1)\n",
    "scoring = \"f1_macro\"\n",
    "\n",
    "\n",
    "results_noise2_1={}\n",
    "\n",
    "results = []\n",
    "names   = []\n",
    "for i, model in models:\n",
    "    cv_results = cross_val_score(model, X2_noise1, Y, cv=cv, n_jobs=-1, scoring=scoring)\n",
    "    results.append(cv_results)\n",
    "    names.append(i)\n",
    "    print(\"%03s: %f (+/- %f)\" % (i, cv_results.mean(), cv_results.std()))\n",
    "    results_noise2_1[i]=cv_results.mean()"
   ]
  },
  {
   "cell_type": "code",
   "execution_count": 29,
   "id": "7bd1ab58",
   "metadata": {},
   "outputs": [
    {
     "data": {
      "text/html": [
       "<div>\n",
       "<style scoped>\n",
       "    .dataframe tbody tr th:only-of-type {\n",
       "        vertical-align: middle;\n",
       "    }\n",
       "\n",
       "    .dataframe tbody tr th {\n",
       "        vertical-align: top;\n",
       "    }\n",
       "\n",
       "    .dataframe thead th {\n",
       "        text-align: right;\n",
       "    }\n",
       "</style>\n",
       "<table border=\"1\" class=\"dataframe\">\n",
       "  <thead>\n",
       "    <tr style=\"text-align: right;\">\n",
       "      <th></th>\n",
       "      <th>LR</th>\n",
       "      <th>LDA</th>\n",
       "      <th>kNN</th>\n",
       "      <th>DT</th>\n",
       "      <th>NB</th>\n",
       "      <th>SVM</th>\n",
       "      <th>RF</th>\n",
       "      <th>GB</th>\n",
       "      <th>XGB</th>\n",
       "      <th>AdaBoost</th>\n",
       "      <th>ANN</th>\n",
       "    </tr>\n",
       "  </thead>\n",
       "  <tbody>\n",
       "    <tr>\n",
       "      <th>0</th>\n",
       "      <td>0.907475</td>\n",
       "      <td>0.959596</td>\n",
       "      <td>0.932929</td>\n",
       "      <td>0.959865</td>\n",
       "      <td>0.933064</td>\n",
       "      <td>0.946397</td>\n",
       "      <td>0.959865</td>\n",
       "      <td>0.946128</td>\n",
       "      <td>0.959865</td>\n",
       "      <td>0.905993</td>\n",
       "      <td>0.906734</td>\n",
       "    </tr>\n",
       "    <tr>\n",
       "      <th>1</th>\n",
       "      <td>0.821515</td>\n",
       "      <td>0.959259</td>\n",
       "      <td>0.918021</td>\n",
       "      <td>0.932795</td>\n",
       "      <td>0.905592</td>\n",
       "      <td>0.932323</td>\n",
       "      <td>0.919125</td>\n",
       "      <td>0.918790</td>\n",
       "      <td>0.905592</td>\n",
       "      <td>0.849351</td>\n",
       "      <td>0.879630</td>\n",
       "    </tr>\n",
       "    <tr>\n",
       "      <th>2</th>\n",
       "      <td>0.888552</td>\n",
       "      <td>0.959596</td>\n",
       "      <td>0.907003</td>\n",
       "      <td>0.917980</td>\n",
       "      <td>0.919596</td>\n",
       "      <td>0.946397</td>\n",
       "      <td>0.946397</td>\n",
       "      <td>0.946397</td>\n",
       "      <td>0.946397</td>\n",
       "      <td>0.919731</td>\n",
       "      <td>0.917980</td>\n",
       "    </tr>\n",
       "    <tr>\n",
       "      <th>3</th>\n",
       "      <td>0.828693</td>\n",
       "      <td>0.959865</td>\n",
       "      <td>0.905156</td>\n",
       "      <td>0.917345</td>\n",
       "      <td>0.900976</td>\n",
       "      <td>0.946667</td>\n",
       "      <td>0.929596</td>\n",
       "      <td>0.930544</td>\n",
       "      <td>0.902660</td>\n",
       "      <td>0.890137</td>\n",
       "      <td>0.903877</td>\n",
       "    </tr>\n",
       "    <tr>\n",
       "      <th>4</th>\n",
       "      <td>0.892694</td>\n",
       "      <td>0.959596</td>\n",
       "      <td>0.906902</td>\n",
       "      <td>0.932929</td>\n",
       "      <td>0.920202</td>\n",
       "      <td>0.946128</td>\n",
       "      <td>0.945556</td>\n",
       "      <td>0.919461</td>\n",
       "      <td>0.945556</td>\n",
       "      <td>0.877643</td>\n",
       "      <td>0.920673</td>\n",
       "    </tr>\n",
       "    <tr>\n",
       "      <th>5</th>\n",
       "      <td>0.848586</td>\n",
       "      <td>0.946397</td>\n",
       "      <td>0.919731</td>\n",
       "      <td>0.878114</td>\n",
       "      <td>0.905152</td>\n",
       "      <td>0.932088</td>\n",
       "      <td>0.906263</td>\n",
       "      <td>0.919731</td>\n",
       "      <td>0.919461</td>\n",
       "      <td>0.919461</td>\n",
       "      <td>0.906128</td>\n",
       "    </tr>\n",
       "    <tr>\n",
       "      <th>6</th>\n",
       "      <td>0.878956</td>\n",
       "      <td>0.959596</td>\n",
       "      <td>0.946128</td>\n",
       "      <td>0.931818</td>\n",
       "      <td>0.918350</td>\n",
       "      <td>0.946128</td>\n",
       "      <td>0.918350</td>\n",
       "      <td>0.931818</td>\n",
       "      <td>0.931818</td>\n",
       "      <td>0.863740</td>\n",
       "      <td>0.920202</td>\n",
       "    </tr>\n",
       "    <tr>\n",
       "      <th>7</th>\n",
       "      <td>0.815876</td>\n",
       "      <td>0.959596</td>\n",
       "      <td>0.890577</td>\n",
       "      <td>0.904512</td>\n",
       "      <td>0.863906</td>\n",
       "      <td>0.945286</td>\n",
       "      <td>0.945286</td>\n",
       "      <td>0.932088</td>\n",
       "      <td>0.929702</td>\n",
       "      <td>0.885859</td>\n",
       "      <td>0.918687</td>\n",
       "    </tr>\n",
       "    <tr>\n",
       "      <th>8</th>\n",
       "      <td>0.913788</td>\n",
       "      <td>0.986532</td>\n",
       "      <td>0.959865</td>\n",
       "      <td>0.944276</td>\n",
       "      <td>0.959596</td>\n",
       "      <td>0.972222</td>\n",
       "      <td>0.973064</td>\n",
       "      <td>0.945286</td>\n",
       "      <td>0.959596</td>\n",
       "      <td>0.931818</td>\n",
       "      <td>0.943434</td>\n",
       "    </tr>\n",
       "    <tr>\n",
       "      <th>9</th>\n",
       "      <td>0.821886</td>\n",
       "      <td>0.932795</td>\n",
       "      <td>0.864195</td>\n",
       "      <td>0.876445</td>\n",
       "      <td>0.819375</td>\n",
       "      <td>0.918485</td>\n",
       "      <td>0.875371</td>\n",
       "      <td>0.903653</td>\n",
       "      <td>0.888839</td>\n",
       "      <td>0.875909</td>\n",
       "      <td>0.891549</td>\n",
       "    </tr>\n",
       "  </tbody>\n",
       "</table>\n",
       "</div>"
      ],
      "text/plain": [
       "         LR       LDA       kNN        DT        NB       SVM        RF  \\\n",
       "0  0.907475  0.959596  0.932929  0.959865  0.933064  0.946397  0.959865   \n",
       "1  0.821515  0.959259  0.918021  0.932795  0.905592  0.932323  0.919125   \n",
       "2  0.888552  0.959596  0.907003  0.917980  0.919596  0.946397  0.946397   \n",
       "3  0.828693  0.959865  0.905156  0.917345  0.900976  0.946667  0.929596   \n",
       "4  0.892694  0.959596  0.906902  0.932929  0.920202  0.946128  0.945556   \n",
       "5  0.848586  0.946397  0.919731  0.878114  0.905152  0.932088  0.906263   \n",
       "6  0.878956  0.959596  0.946128  0.931818  0.918350  0.946128  0.918350   \n",
       "7  0.815876  0.959596  0.890577  0.904512  0.863906  0.945286  0.945286   \n",
       "8  0.913788  0.986532  0.959865  0.944276  0.959596  0.972222  0.973064   \n",
       "9  0.821886  0.932795  0.864195  0.876445  0.819375  0.918485  0.875371   \n",
       "\n",
       "         GB       XGB  AdaBoost       ANN  \n",
       "0  0.946128  0.959865  0.905993  0.906734  \n",
       "1  0.918790  0.905592  0.849351  0.879630  \n",
       "2  0.946397  0.946397  0.919731  0.917980  \n",
       "3  0.930544  0.902660  0.890137  0.903877  \n",
       "4  0.919461  0.945556  0.877643  0.920673  \n",
       "5  0.919731  0.919461  0.919461  0.906128  \n",
       "6  0.931818  0.931818  0.863740  0.920202  \n",
       "7  0.932088  0.929702  0.885859  0.918687  \n",
       "8  0.945286  0.959596  0.931818  0.943434  \n",
       "9  0.903653  0.888839  0.875909  0.891549  "
      ]
     },
     "execution_count": 29,
     "metadata": {},
     "output_type": "execute_result"
    }
   ],
   "source": [
    "m =[]\n",
    "for i in models:\n",
    "    m.append(i[0])\n",
    "\n",
    "f1_results_noise_1 = pd.DataFrame()\n",
    "\n",
    "\n",
    "for i, m in enumerate(m):\n",
    "    f1_results_noise_1[str(m)] = cv_res(results[i])\n",
    "\n",
    "f1_results_noise_1"
   ]
  },
  {
   "cell_type": "code",
   "execution_count": 30,
   "id": "941eb042",
   "metadata": {},
   "outputs": [
    {
     "data": {
      "text/plain": [
       "0    0.941192\n",
       "1    0.909264\n",
       "2    0.929630\n",
       "3    0.912538\n",
       "4    0.928970\n",
       "5    0.908165\n",
       "6    0.928316\n",
       "7    0.910551\n",
       "8    0.955766\n",
       "9    0.879259\n",
       "dtype: float64"
      ]
     },
     "execution_count": 30,
     "metadata": {},
     "output_type": "execute_result"
    }
   ],
   "source": [
    "# Results with noise 5% without the AdaBoost algorithm\n",
    "f1_results_noise_1_other_algorithms=f1_results_noise_1.drop(columns=['AdaBoost']).mean(axis=1)\n",
    "f1_results_noise_1_other_algorithms"
   ]
  },
  {
   "cell_type": "markdown",
   "id": "b5c85ac4",
   "metadata": {},
   "source": [
    "#### Add noise 10%"
   ]
  },
  {
   "cell_type": "code",
   "execution_count": 31,
   "id": "1278dd31",
   "metadata": {},
   "outputs": [],
   "source": [
    "X2_noise2 = add_noise(X_scaled,p=.1)"
   ]
  },
  {
   "cell_type": "code",
   "execution_count": 32,
   "id": "1a76b6cb",
   "metadata": {},
   "outputs": [
    {
     "name": "stdout",
     "output_type": "stream",
     "text": [
      " LR: 0.779315 (+/- 0.099462)\n",
      "LDA: 0.843537 (+/- 0.085684)\n",
      "kNN: 0.876830 (+/- 0.081073)\n",
      " DT: 0.815470 (+/- 0.095104)\n",
      " NB: 0.819435 (+/- 0.078099)\n",
      "SVM: 0.883317 (+/- 0.078905)\n",
      " RF: 0.842310 (+/- 0.085230)\n",
      " GB: 0.842321 (+/- 0.090837)\n",
      "XGB: 0.854036 (+/- 0.078838)\n",
      "AdaBoost: 0.715913 (+/- 0.134109)\n",
      "ANN: 0.858710 (+/- 0.085531)\n"
     ]
    }
   ],
   "source": [
    "from sklearn.model_selection import cross_val_score\n",
    "from sklearn.model_selection import RepeatedStratifiedKFold\n",
    "from sklearn.pipeline import Pipeline\n",
    "from sklearn.linear_model import LogisticRegression\n",
    "from sklearn.discriminant_analysis import LinearDiscriminantAnalysis # LDA\n",
    "from sklearn.neighbors import KNeighborsClassifier #KNN\n",
    "from sklearn.naive_bayes import GaussianNB  # Naive Bayes\n",
    "from sklearn.tree import DecisionTreeClassifier # Decision Tree\n",
    "from sklearn.svm import SVC # SVM\n",
    "from sklearn.ensemble import RandomForestClassifier\n",
    "from sklearn.ensemble import GradientBoostingClassifier\n",
    "import xgboost as xgb\n",
    "from sklearn.ensemble import AdaBoostClassifier\n",
    "from sklearn.neural_network import MLPClassifier \n",
    "from sklearn.metrics import f1_score # We choose f1 score because the data are unbalanced and f1 takes the combination of precision and recall\n",
    "\n",
    "\n",
    "\n",
    "models = []\n",
    "models.append(('LR',  LogisticRegression(solver='liblinear')))\n",
    "models.append(('LDA', LinearDiscriminantAnalysis()))\n",
    "models.append(('kNN', KNeighborsClassifier()))\n",
    "models.append(('DT',  DecisionTreeClassifier()))\n",
    "models.append(('NB',  GaussianNB()))\n",
    "models.append(('SVM', SVC(kernel=\"linear\", gamma='auto')))\n",
    "models.append(('RF',  RandomForestClassifier()))\n",
    "models.append(('GB',  GradientBoostingClassifier()))\n",
    "models.append(('XGB', xgb.XGBClassifier()))\n",
    "models.append(('AdaBoost',  AdaBoostClassifier()))\n",
    "models.append(('ANN', MLPClassifier()))\n",
    "\n",
    "\n",
    "cv = RepeatedStratifiedKFold(n_splits=10, n_repeats=5, random_state=1)\n",
    "scoring = \"f1_macro\"\n",
    "\n",
    "\n",
    "results_noise2_2={}\n",
    "\n",
    "results = []\n",
    "names   = []\n",
    "for i, model in models:\n",
    "    cv_results = cross_val_score(model, X2_noise2, Y, cv=cv, n_jobs=-1, scoring=scoring)\n",
    "    results.append(cv_results)\n",
    "    names.append(i)\n",
    "    print(\"%03s: %f (+/- %f)\" % (i, cv_results.mean(), cv_results.std()))\n",
    "    results_noise2_2[i]=cv_results.mean()"
   ]
  },
  {
   "cell_type": "code",
   "execution_count": 33,
   "id": "3a4bac6e",
   "metadata": {},
   "outputs": [
    {
     "data": {
      "text/html": [
       "<div>\n",
       "<style scoped>\n",
       "    .dataframe tbody tr th:only-of-type {\n",
       "        vertical-align: middle;\n",
       "    }\n",
       "\n",
       "    .dataframe tbody tr th {\n",
       "        vertical-align: top;\n",
       "    }\n",
       "\n",
       "    .dataframe thead th {\n",
       "        text-align: right;\n",
       "    }\n",
       "</style>\n",
       "<table border=\"1\" class=\"dataframe\">\n",
       "  <thead>\n",
       "    <tr style=\"text-align: right;\">\n",
       "      <th></th>\n",
       "      <th>LR</th>\n",
       "      <th>LDA</th>\n",
       "      <th>kNN</th>\n",
       "      <th>DT</th>\n",
       "      <th>NB</th>\n",
       "      <th>SVM</th>\n",
       "      <th>RF</th>\n",
       "      <th>GB</th>\n",
       "      <th>XGB</th>\n",
       "      <th>AdaBoost</th>\n",
       "      <th>ANN</th>\n",
       "    </tr>\n",
       "  </thead>\n",
       "  <tbody>\n",
       "    <tr>\n",
       "      <th>0</th>\n",
       "      <td>0.771212</td>\n",
       "      <td>0.837576</td>\n",
       "      <td>0.862472</td>\n",
       "      <td>0.822506</td>\n",
       "      <td>0.811518</td>\n",
       "      <td>0.875065</td>\n",
       "      <td>0.809307</td>\n",
       "      <td>0.834964</td>\n",
       "      <td>0.837121</td>\n",
       "      <td>0.695236</td>\n",
       "      <td>0.848264</td>\n",
       "    </tr>\n",
       "    <tr>\n",
       "      <th>1</th>\n",
       "      <td>0.773686</td>\n",
       "      <td>0.820034</td>\n",
       "      <td>0.903911</td>\n",
       "      <td>0.790606</td>\n",
       "      <td>0.832391</td>\n",
       "      <td>0.889697</td>\n",
       "      <td>0.862391</td>\n",
       "      <td>0.835219</td>\n",
       "      <td>0.847357</td>\n",
       "      <td>0.799267</td>\n",
       "      <td>0.850269</td>\n",
       "    </tr>\n",
       "    <tr>\n",
       "      <th>2</th>\n",
       "      <td>0.788754</td>\n",
       "      <td>0.800000</td>\n",
       "      <td>0.826869</td>\n",
       "      <td>0.812020</td>\n",
       "      <td>0.812138</td>\n",
       "      <td>0.841313</td>\n",
       "      <td>0.827980</td>\n",
       "      <td>0.814343</td>\n",
       "      <td>0.853737</td>\n",
       "      <td>0.635349</td>\n",
       "      <td>0.829091</td>\n",
       "    </tr>\n",
       "    <tr>\n",
       "      <th>3</th>\n",
       "      <td>0.764377</td>\n",
       "      <td>0.905051</td>\n",
       "      <td>0.917345</td>\n",
       "      <td>0.874954</td>\n",
       "      <td>0.844663</td>\n",
       "      <td>0.931582</td>\n",
       "      <td>0.888620</td>\n",
       "      <td>0.863338</td>\n",
       "      <td>0.862256</td>\n",
       "      <td>0.674562</td>\n",
       "      <td>0.889596</td>\n",
       "    </tr>\n",
       "    <tr>\n",
       "      <th>4</th>\n",
       "      <td>0.826061</td>\n",
       "      <td>0.865087</td>\n",
       "      <td>0.864716</td>\n",
       "      <td>0.760655</td>\n",
       "      <td>0.796268</td>\n",
       "      <td>0.892494</td>\n",
       "      <td>0.826299</td>\n",
       "      <td>0.837609</td>\n",
       "      <td>0.839262</td>\n",
       "      <td>0.674127</td>\n",
       "      <td>0.852629</td>\n",
       "    </tr>\n",
       "    <tr>\n",
       "      <th>5</th>\n",
       "      <td>0.759981</td>\n",
       "      <td>0.848552</td>\n",
       "      <td>0.892525</td>\n",
       "      <td>0.837576</td>\n",
       "      <td>0.835589</td>\n",
       "      <td>0.879327</td>\n",
       "      <td>0.852256</td>\n",
       "      <td>0.852256</td>\n",
       "      <td>0.876633</td>\n",
       "      <td>0.791970</td>\n",
       "      <td>0.890976</td>\n",
       "    </tr>\n",
       "    <tr>\n",
       "      <th>6</th>\n",
       "      <td>0.783255</td>\n",
       "      <td>0.813673</td>\n",
       "      <td>0.840609</td>\n",
       "      <td>0.787973</td>\n",
       "      <td>0.824248</td>\n",
       "      <td>0.852258</td>\n",
       "      <td>0.813170</td>\n",
       "      <td>0.825339</td>\n",
       "      <td>0.851888</td>\n",
       "      <td>0.671328</td>\n",
       "      <td>0.823743</td>\n",
       "    </tr>\n",
       "    <tr>\n",
       "      <th>7</th>\n",
       "      <td>0.798562</td>\n",
       "      <td>0.848889</td>\n",
       "      <td>0.905828</td>\n",
       "      <td>0.819057</td>\n",
       "      <td>0.796431</td>\n",
       "      <td>0.906162</td>\n",
       "      <td>0.846498</td>\n",
       "      <td>0.861501</td>\n",
       "      <td>0.847138</td>\n",
       "      <td>0.684207</td>\n",
       "      <td>0.920137</td>\n",
       "    </tr>\n",
       "    <tr>\n",
       "      <th>8</th>\n",
       "      <td>0.815273</td>\n",
       "      <td>0.874089</td>\n",
       "      <td>0.931448</td>\n",
       "      <td>0.853035</td>\n",
       "      <td>0.890337</td>\n",
       "      <td>0.918620</td>\n",
       "      <td>0.904646</td>\n",
       "      <td>0.905017</td>\n",
       "      <td>0.917475</td>\n",
       "      <td>0.791656</td>\n",
       "      <td>0.874089</td>\n",
       "    </tr>\n",
       "    <tr>\n",
       "      <th>9</th>\n",
       "      <td>0.711987</td>\n",
       "      <td>0.822424</td>\n",
       "      <td>0.822579</td>\n",
       "      <td>0.796313</td>\n",
       "      <td>0.750771</td>\n",
       "      <td>0.846650</td>\n",
       "      <td>0.791936</td>\n",
       "      <td>0.793620</td>\n",
       "      <td>0.807492</td>\n",
       "      <td>0.741431</td>\n",
       "      <td>0.808302</td>\n",
       "    </tr>\n",
       "  </tbody>\n",
       "</table>\n",
       "</div>"
      ],
      "text/plain": [
       "         LR       LDA       kNN        DT        NB       SVM        RF  \\\n",
       "0  0.771212  0.837576  0.862472  0.822506  0.811518  0.875065  0.809307   \n",
       "1  0.773686  0.820034  0.903911  0.790606  0.832391  0.889697  0.862391   \n",
       "2  0.788754  0.800000  0.826869  0.812020  0.812138  0.841313  0.827980   \n",
       "3  0.764377  0.905051  0.917345  0.874954  0.844663  0.931582  0.888620   \n",
       "4  0.826061  0.865087  0.864716  0.760655  0.796268  0.892494  0.826299   \n",
       "5  0.759981  0.848552  0.892525  0.837576  0.835589  0.879327  0.852256   \n",
       "6  0.783255  0.813673  0.840609  0.787973  0.824248  0.852258  0.813170   \n",
       "7  0.798562  0.848889  0.905828  0.819057  0.796431  0.906162  0.846498   \n",
       "8  0.815273  0.874089  0.931448  0.853035  0.890337  0.918620  0.904646   \n",
       "9  0.711987  0.822424  0.822579  0.796313  0.750771  0.846650  0.791936   \n",
       "\n",
       "         GB       XGB  AdaBoost       ANN  \n",
       "0  0.834964  0.837121  0.695236  0.848264  \n",
       "1  0.835219  0.847357  0.799267  0.850269  \n",
       "2  0.814343  0.853737  0.635349  0.829091  \n",
       "3  0.863338  0.862256  0.674562  0.889596  \n",
       "4  0.837609  0.839262  0.674127  0.852629  \n",
       "5  0.852256  0.876633  0.791970  0.890976  \n",
       "6  0.825339  0.851888  0.671328  0.823743  \n",
       "7  0.861501  0.847138  0.684207  0.920137  \n",
       "8  0.905017  0.917475  0.791656  0.874089  \n",
       "9  0.793620  0.807492  0.741431  0.808302  "
      ]
     },
     "execution_count": 33,
     "metadata": {},
     "output_type": "execute_result"
    }
   ],
   "source": [
    "m =[]\n",
    "for i in models:\n",
    "    m.append(i[0])\n",
    "\n",
    "f1_results_noise_2 = pd.DataFrame()\n",
    "\n",
    "\n",
    "for i, m in enumerate(m):\n",
    "    f1_results_noise_2[str(m)] = cv_res(results[i])\n",
    "\n",
    "f1_results_noise_2"
   ]
  },
  {
   "cell_type": "code",
   "execution_count": 34,
   "id": "acfb52ed",
   "metadata": {},
   "outputs": [
    {
     "data": {
      "text/plain": [
       "0    0.831001\n",
       "1    0.840556\n",
       "2    0.820625\n",
       "3    0.874178\n",
       "4    0.836108\n",
       "5    0.852567\n",
       "6    0.821615\n",
       "7    0.855020\n",
       "8    0.888403\n",
       "9    0.795207\n",
       "dtype: float64"
      ]
     },
     "execution_count": 34,
     "metadata": {},
     "output_type": "execute_result"
    }
   ],
   "source": [
    "## Results with noise 10% without the AdaBoost algorithm\n",
    "f1_results_noise_2_other_algorithms=f1_results_noise_2.drop(columns=['AdaBoost']).mean(axis=1)\n",
    "f1_results_noise_2_other_algorithms"
   ]
  },
  {
   "cell_type": "markdown",
   "id": "be168608",
   "metadata": {},
   "source": [
    "#### Add noise 15%"
   ]
  },
  {
   "cell_type": "code",
   "execution_count": 35,
   "id": "d743c515",
   "metadata": {},
   "outputs": [],
   "source": [
    "X2_noise3 = add_noise(X_scaled,p=.15)"
   ]
  },
  {
   "cell_type": "code",
   "execution_count": 36,
   "id": "d648b45c",
   "metadata": {},
   "outputs": [
    {
     "name": "stdout",
     "output_type": "stream",
     "text": [
      " LR: 0.689188 (+/- 0.112202)\n",
      "LDA: 0.734498 (+/- 0.103757)\n",
      "kNN: 0.776026 (+/- 0.096399)\n",
      " DT: 0.736691 (+/- 0.102430)\n",
      " NB: 0.744052 (+/- 0.093468)\n",
      "SVM: 0.792422 (+/- 0.095038)\n",
      " RF: 0.749289 (+/- 0.102653)\n",
      " GB: 0.733506 (+/- 0.107961)\n",
      "XGB: 0.756584 (+/- 0.108400)\n",
      "AdaBoost: 0.735820 (+/- 0.110014)\n",
      "ANN: 0.780995 (+/- 0.099233)\n"
     ]
    }
   ],
   "source": [
    "from sklearn.model_selection import cross_val_score\n",
    "from sklearn.model_selection import RepeatedStratifiedKFold\n",
    "from sklearn.pipeline import Pipeline\n",
    "from sklearn.linear_model import LogisticRegression\n",
    "from sklearn.discriminant_analysis import LinearDiscriminantAnalysis # LDA\n",
    "from sklearn.neighbors import KNeighborsClassifier #KNN\n",
    "from sklearn.naive_bayes import GaussianNB  # Naive Bayes\n",
    "from sklearn.tree import DecisionTreeClassifier # Decision Tree\n",
    "from sklearn.svm import SVC # SVM\n",
    "from sklearn.ensemble import RandomForestClassifier\n",
    "from sklearn.ensemble import GradientBoostingClassifier\n",
    "import xgboost as xgb\n",
    "from sklearn.ensemble import AdaBoostClassifier\n",
    "from sklearn.neural_network import MLPClassifier \n",
    "from sklearn.metrics import f1_score # We choose f1 score because the data are unbalanced and f1 takes the combination of precision and recall\n",
    "\n",
    "\n",
    "\n",
    "models = []\n",
    "models.append(('LR',  LogisticRegression(solver='liblinear')))\n",
    "models.append(('LDA', LinearDiscriminantAnalysis()))\n",
    "models.append(('kNN', KNeighborsClassifier()))\n",
    "models.append(('DT',  DecisionTreeClassifier()))\n",
    "models.append(('NB',  GaussianNB()))\n",
    "models.append(('SVM', SVC(kernel=\"linear\", gamma='auto')))\n",
    "models.append(('RF',  RandomForestClassifier()))\n",
    "models.append(('GB',  GradientBoostingClassifier()))\n",
    "models.append(('XGB', xgb.XGBClassifier()))\n",
    "models.append(('AdaBoost',  AdaBoostClassifier()))\n",
    "models.append(('ANN', MLPClassifier()))\n",
    "\n",
    "\n",
    "cv = RepeatedStratifiedKFold(n_splits=10, n_repeats=5, random_state=1)\n",
    "scoring = \"f1_macro\"\n",
    "\n",
    "\n",
    "results_noise2_3={}\n",
    "\n",
    "results = []\n",
    "names   = []\n",
    "for i, model in models:\n",
    "    cv_results = cross_val_score(model, X2_noise3, Y, cv=cv, n_jobs=-1, scoring=scoring)\n",
    "    results.append(cv_results)\n",
    "    names.append(i)\n",
    "    print(\"%03s: %f (+/- %f)\" % (i, cv_results.mean(), cv_results.std()))\n",
    "    results_noise2_3[i]=cv_results.mean()"
   ]
  },
  {
   "cell_type": "code",
   "execution_count": 37,
   "id": "ef916d4e",
   "metadata": {},
   "outputs": [
    {
     "data": {
      "text/html": [
       "<div>\n",
       "<style scoped>\n",
       "    .dataframe tbody tr th:only-of-type {\n",
       "        vertical-align: middle;\n",
       "    }\n",
       "\n",
       "    .dataframe tbody tr th {\n",
       "        vertical-align: top;\n",
       "    }\n",
       "\n",
       "    .dataframe thead th {\n",
       "        text-align: right;\n",
       "    }\n",
       "</style>\n",
       "<table border=\"1\" class=\"dataframe\">\n",
       "  <thead>\n",
       "    <tr style=\"text-align: right;\">\n",
       "      <th></th>\n",
       "      <th>LR</th>\n",
       "      <th>LDA</th>\n",
       "      <th>kNN</th>\n",
       "      <th>DT</th>\n",
       "      <th>NB</th>\n",
       "      <th>SVM</th>\n",
       "      <th>RF</th>\n",
       "      <th>GB</th>\n",
       "      <th>XGB</th>\n",
       "      <th>AdaBoost</th>\n",
       "      <th>ANN</th>\n",
       "    </tr>\n",
       "  </thead>\n",
       "  <tbody>\n",
       "    <tr>\n",
       "      <th>0</th>\n",
       "      <td>0.711147</td>\n",
       "      <td>0.755047</td>\n",
       "      <td>0.769476</td>\n",
       "      <td>0.739895</td>\n",
       "      <td>0.770337</td>\n",
       "      <td>0.809678</td>\n",
       "      <td>0.740101</td>\n",
       "      <td>0.729394</td>\n",
       "      <td>0.748716</td>\n",
       "      <td>0.672642</td>\n",
       "      <td>0.792203</td>\n",
       "    </tr>\n",
       "    <tr>\n",
       "      <th>1</th>\n",
       "      <td>0.663982</td>\n",
       "      <td>0.701380</td>\n",
       "      <td>0.795934</td>\n",
       "      <td>0.718337</td>\n",
       "      <td>0.732821</td>\n",
       "      <td>0.784613</td>\n",
       "      <td>0.740857</td>\n",
       "      <td>0.685281</td>\n",
       "      <td>0.756333</td>\n",
       "      <td>0.753179</td>\n",
       "      <td>0.781621</td>\n",
       "    </tr>\n",
       "    <tr>\n",
       "      <th>2</th>\n",
       "      <td>0.741515</td>\n",
       "      <td>0.750067</td>\n",
       "      <td>0.760453</td>\n",
       "      <td>0.703384</td>\n",
       "      <td>0.760875</td>\n",
       "      <td>0.751145</td>\n",
       "      <td>0.732929</td>\n",
       "      <td>0.695623</td>\n",
       "      <td>0.695556</td>\n",
       "      <td>0.708384</td>\n",
       "      <td>0.753434</td>\n",
       "    </tr>\n",
       "    <tr>\n",
       "      <th>3</th>\n",
       "      <td>0.632627</td>\n",
       "      <td>0.723450</td>\n",
       "      <td>0.790334</td>\n",
       "      <td>0.801684</td>\n",
       "      <td>0.749559</td>\n",
       "      <td>0.815382</td>\n",
       "      <td>0.792997</td>\n",
       "      <td>0.782488</td>\n",
       "      <td>0.803665</td>\n",
       "      <td>0.787179</td>\n",
       "      <td>0.777250</td>\n",
       "    </tr>\n",
       "    <tr>\n",
       "      <th>4</th>\n",
       "      <td>0.729693</td>\n",
       "      <td>0.787585</td>\n",
       "      <td>0.813789</td>\n",
       "      <td>0.736660</td>\n",
       "      <td>0.765811</td>\n",
       "      <td>0.810243</td>\n",
       "      <td>0.753718</td>\n",
       "      <td>0.719808</td>\n",
       "      <td>0.779495</td>\n",
       "      <td>0.710243</td>\n",
       "      <td>0.826446</td>\n",
       "    </tr>\n",
       "    <tr>\n",
       "      <th>5</th>\n",
       "      <td>0.647475</td>\n",
       "      <td>0.713872</td>\n",
       "      <td>0.741077</td>\n",
       "      <td>0.729529</td>\n",
       "      <td>0.753045</td>\n",
       "      <td>0.773199</td>\n",
       "      <td>0.727946</td>\n",
       "      <td>0.742559</td>\n",
       "      <td>0.743704</td>\n",
       "      <td>0.729966</td>\n",
       "      <td>0.785589</td>\n",
       "    </tr>\n",
       "    <tr>\n",
       "      <th>6</th>\n",
       "      <td>0.690588</td>\n",
       "      <td>0.720471</td>\n",
       "      <td>0.735267</td>\n",
       "      <td>0.718582</td>\n",
       "      <td>0.738786</td>\n",
       "      <td>0.759158</td>\n",
       "      <td>0.741296</td>\n",
       "      <td>0.715258</td>\n",
       "      <td>0.717054</td>\n",
       "      <td>0.693804</td>\n",
       "      <td>0.730725</td>\n",
       "    </tr>\n",
       "    <tr>\n",
       "      <th>7</th>\n",
       "      <td>0.652329</td>\n",
       "      <td>0.708312</td>\n",
       "      <td>0.823172</td>\n",
       "      <td>0.757821</td>\n",
       "      <td>0.681732</td>\n",
       "      <td>0.810289</td>\n",
       "      <td>0.733353</td>\n",
       "      <td>0.761936</td>\n",
       "      <td>0.777862</td>\n",
       "      <td>0.758663</td>\n",
       "      <td>0.794627</td>\n",
       "    </tr>\n",
       "    <tr>\n",
       "      <th>8</th>\n",
       "      <td>0.769693</td>\n",
       "      <td>0.782876</td>\n",
       "      <td>0.813030</td>\n",
       "      <td>0.737027</td>\n",
       "      <td>0.826970</td>\n",
       "      <td>0.824343</td>\n",
       "      <td>0.777398</td>\n",
       "      <td>0.762102</td>\n",
       "      <td>0.777795</td>\n",
       "      <td>0.795960</td>\n",
       "      <td>0.824343</td>\n",
       "    </tr>\n",
       "    <tr>\n",
       "      <th>9</th>\n",
       "      <td>0.652836</td>\n",
       "      <td>0.701922</td>\n",
       "      <td>0.717725</td>\n",
       "      <td>0.723993</td>\n",
       "      <td>0.660587</td>\n",
       "      <td>0.786167</td>\n",
       "      <td>0.752290</td>\n",
       "      <td>0.740609</td>\n",
       "      <td>0.765657</td>\n",
       "      <td>0.748184</td>\n",
       "      <td>0.743709</td>\n",
       "    </tr>\n",
       "  </tbody>\n",
       "</table>\n",
       "</div>"
      ],
      "text/plain": [
       "         LR       LDA       kNN        DT        NB       SVM        RF  \\\n",
       "0  0.711147  0.755047  0.769476  0.739895  0.770337  0.809678  0.740101   \n",
       "1  0.663982  0.701380  0.795934  0.718337  0.732821  0.784613  0.740857   \n",
       "2  0.741515  0.750067  0.760453  0.703384  0.760875  0.751145  0.732929   \n",
       "3  0.632627  0.723450  0.790334  0.801684  0.749559  0.815382  0.792997   \n",
       "4  0.729693  0.787585  0.813789  0.736660  0.765811  0.810243  0.753718   \n",
       "5  0.647475  0.713872  0.741077  0.729529  0.753045  0.773199  0.727946   \n",
       "6  0.690588  0.720471  0.735267  0.718582  0.738786  0.759158  0.741296   \n",
       "7  0.652329  0.708312  0.823172  0.757821  0.681732  0.810289  0.733353   \n",
       "8  0.769693  0.782876  0.813030  0.737027  0.826970  0.824343  0.777398   \n",
       "9  0.652836  0.701922  0.717725  0.723993  0.660587  0.786167  0.752290   \n",
       "\n",
       "         GB       XGB  AdaBoost       ANN  \n",
       "0  0.729394  0.748716  0.672642  0.792203  \n",
       "1  0.685281  0.756333  0.753179  0.781621  \n",
       "2  0.695623  0.695556  0.708384  0.753434  \n",
       "3  0.782488  0.803665  0.787179  0.777250  \n",
       "4  0.719808  0.779495  0.710243  0.826446  \n",
       "5  0.742559  0.743704  0.729966  0.785589  \n",
       "6  0.715258  0.717054  0.693804  0.730725  \n",
       "7  0.761936  0.777862  0.758663  0.794627  \n",
       "8  0.762102  0.777795  0.795960  0.824343  \n",
       "9  0.740609  0.765657  0.748184  0.743709  "
      ]
     },
     "execution_count": 37,
     "metadata": {},
     "output_type": "execute_result"
    }
   ],
   "source": [
    "m =[]\n",
    "for i in models:\n",
    "    m.append(i[0])\n",
    "\n",
    "f1_results_noise_3 = pd.DataFrame()\n",
    "\n",
    "\n",
    "for i, m in enumerate(m):\n",
    "    f1_results_noise_3[str(m)] = cv_res(results[i])\n",
    "\n",
    "f1_results_noise_3"
   ]
  },
  {
   "cell_type": "code",
   "execution_count": 38,
   "id": "04058ac4",
   "metadata": {},
   "outputs": [
    {
     "data": {
      "text/plain": [
       "0    0.756599\n",
       "1    0.736116\n",
       "2    0.734498\n",
       "3    0.766944\n",
       "4    0.772325\n",
       "5    0.735799\n",
       "6    0.726719\n",
       "7    0.750143\n",
       "8    0.789558\n",
       "9    0.724549\n",
       "dtype: float64"
      ]
     },
     "execution_count": 38,
     "metadata": {},
     "output_type": "execute_result"
    }
   ],
   "source": [
    "## Results with noise 15% without the AdaBoost algorithm\n",
    "f1_results_noise_3_other_algorithms=f1_results_noise_3.drop(columns=['AdaBoost']).mean(axis=1)\n",
    "f1_results_noise_3_other_algorithms"
   ]
  },
  {
   "cell_type": "markdown",
   "id": "46831ad5",
   "metadata": {},
   "source": [
    "#### Add noise 20%"
   ]
  },
  {
   "cell_type": "code",
   "execution_count": 39,
   "id": "074cb015",
   "metadata": {},
   "outputs": [],
   "source": [
    "X2_noise4 = add_noise(X_scaled,p=.2)"
   ]
  },
  {
   "cell_type": "code",
   "execution_count": 40,
   "id": "d7c40902",
   "metadata": {},
   "outputs": [
    {
     "name": "stdout",
     "output_type": "stream",
     "text": [
      " LR: 0.566953 (+/- 0.151629)\n",
      "LDA: 0.578421 (+/- 0.140173)\n",
      "kNN: 0.639960 (+/- 0.116441)\n",
      " DT: 0.563548 (+/- 0.115289)\n",
      " NB: 0.622775 (+/- 0.100062)\n",
      "SVM: 0.613557 (+/- 0.128115)\n",
      " RF: 0.638716 (+/- 0.121727)\n",
      " GB: 0.622881 (+/- 0.110573)\n",
      "XGB: 0.647361 (+/- 0.121410)\n",
      "AdaBoost: 0.608401 (+/- 0.131388)\n",
      "ANN: 0.640831 (+/- 0.113732)\n"
     ]
    }
   ],
   "source": [
    "from sklearn.model_selection import cross_val_score\n",
    "from sklearn.model_selection import RepeatedStratifiedKFold\n",
    "from sklearn.pipeline import Pipeline\n",
    "from sklearn.linear_model import LogisticRegression\n",
    "from sklearn.discriminant_analysis import LinearDiscriminantAnalysis # LDA\n",
    "from sklearn.neighbors import KNeighborsClassifier #KNN\n",
    "from sklearn.naive_bayes import GaussianNB  # Naive Bayes\n",
    "from sklearn.tree import DecisionTreeClassifier # Decision Tree\n",
    "from sklearn.svm import SVC # SVM\n",
    "from sklearn.ensemble import RandomForestClassifier\n",
    "from sklearn.ensemble import GradientBoostingClassifier\n",
    "import xgboost as xgb\n",
    "from sklearn.ensemble import AdaBoostClassifier\n",
    "from sklearn.neural_network import MLPClassifier \n",
    "from sklearn.metrics import f1_score # We choose f1 score because the data are unbalanced and f1 takes the combination of precision and recall\n",
    "\n",
    "\n",
    "\n",
    "models = []\n",
    "models.append(('LR',  LogisticRegression(solver='liblinear')))\n",
    "models.append(('LDA', LinearDiscriminantAnalysis()))\n",
    "models.append(('kNN', KNeighborsClassifier()))\n",
    "models.append(('DT',  DecisionTreeClassifier()))\n",
    "models.append(('NB',  GaussianNB()))\n",
    "models.append(('SVM', SVC(kernel=\"linear\", gamma='auto')))\n",
    "models.append(('RF',  RandomForestClassifier()))\n",
    "models.append(('GB',  GradientBoostingClassifier()))\n",
    "models.append(('XGB', xgb.XGBClassifier()))\n",
    "models.append(('AdaBoost',  AdaBoostClassifier()))\n",
    "models.append(('ANN', MLPClassifier()))\n",
    "\n",
    "\n",
    "cv = RepeatedStratifiedKFold(n_splits=10, n_repeats=5, random_state=1)\n",
    "scoring = \"f1_macro\"\n",
    "\n",
    "\n",
    "results_noise2_4={}\n",
    "\n",
    "results = []\n",
    "names   = []\n",
    "for i, model in models:\n",
    "    cv_results = cross_val_score(model, X2_noise4, Y, cv=cv, n_jobs=-1, scoring=scoring)\n",
    "    results.append(cv_results)\n",
    "    names.append(i)\n",
    "    print(\"%03s: %f (+/- %f)\" % (i, cv_results.mean(), cv_results.std()))\n",
    "    results_noise2_4[i]=cv_results.mean()"
   ]
  },
  {
   "cell_type": "code",
   "execution_count": 41,
   "id": "10af0673",
   "metadata": {},
   "outputs": [
    {
     "data": {
      "text/html": [
       "<div>\n",
       "<style scoped>\n",
       "    .dataframe tbody tr th:only-of-type {\n",
       "        vertical-align: middle;\n",
       "    }\n",
       "\n",
       "    .dataframe tbody tr th {\n",
       "        vertical-align: top;\n",
       "    }\n",
       "\n",
       "    .dataframe thead th {\n",
       "        text-align: right;\n",
       "    }\n",
       "</style>\n",
       "<table border=\"1\" class=\"dataframe\">\n",
       "  <thead>\n",
       "    <tr style=\"text-align: right;\">\n",
       "      <th></th>\n",
       "      <th>LR</th>\n",
       "      <th>LDA</th>\n",
       "      <th>kNN</th>\n",
       "      <th>DT</th>\n",
       "      <th>NB</th>\n",
       "      <th>SVM</th>\n",
       "      <th>RF</th>\n",
       "      <th>GB</th>\n",
       "      <th>XGB</th>\n",
       "      <th>AdaBoost</th>\n",
       "      <th>ANN</th>\n",
       "    </tr>\n",
       "  </thead>\n",
       "  <tbody>\n",
       "    <tr>\n",
       "      <th>0</th>\n",
       "      <td>0.639394</td>\n",
       "      <td>0.624089</td>\n",
       "      <td>0.587104</td>\n",
       "      <td>0.542124</td>\n",
       "      <td>0.622997</td>\n",
       "      <td>0.636410</td>\n",
       "      <td>0.593963</td>\n",
       "      <td>0.594341</td>\n",
       "      <td>0.605907</td>\n",
       "      <td>0.611207</td>\n",
       "      <td>0.621753</td>\n",
       "    </tr>\n",
       "    <tr>\n",
       "      <th>1</th>\n",
       "      <td>0.556008</td>\n",
       "      <td>0.575605</td>\n",
       "      <td>0.686718</td>\n",
       "      <td>0.526582</td>\n",
       "      <td>0.610202</td>\n",
       "      <td>0.616783</td>\n",
       "      <td>0.652764</td>\n",
       "      <td>0.612944</td>\n",
       "      <td>0.666535</td>\n",
       "      <td>0.618004</td>\n",
       "      <td>0.709173</td>\n",
       "    </tr>\n",
       "    <tr>\n",
       "      <th>2</th>\n",
       "      <td>0.646427</td>\n",
       "      <td>0.643920</td>\n",
       "      <td>0.669926</td>\n",
       "      <td>0.569896</td>\n",
       "      <td>0.661949</td>\n",
       "      <td>0.669408</td>\n",
       "      <td>0.639562</td>\n",
       "      <td>0.653300</td>\n",
       "      <td>0.612189</td>\n",
       "      <td>0.578563</td>\n",
       "      <td>0.702133</td>\n",
       "    </tr>\n",
       "    <tr>\n",
       "      <th>3</th>\n",
       "      <td>0.453492</td>\n",
       "      <td>0.496017</td>\n",
       "      <td>0.618403</td>\n",
       "      <td>0.561395</td>\n",
       "      <td>0.586522</td>\n",
       "      <td>0.572323</td>\n",
       "      <td>0.646335</td>\n",
       "      <td>0.607896</td>\n",
       "      <td>0.661366</td>\n",
       "      <td>0.644040</td>\n",
       "      <td>0.554988</td>\n",
       "    </tr>\n",
       "    <tr>\n",
       "      <th>4</th>\n",
       "      <td>0.652395</td>\n",
       "      <td>0.650861</td>\n",
       "      <td>0.687915</td>\n",
       "      <td>0.553351</td>\n",
       "      <td>0.665671</td>\n",
       "      <td>0.663790</td>\n",
       "      <td>0.654587</td>\n",
       "      <td>0.657079</td>\n",
       "      <td>0.723754</td>\n",
       "      <td>0.597489</td>\n",
       "      <td>0.682287</td>\n",
       "    </tr>\n",
       "    <tr>\n",
       "      <th>5</th>\n",
       "      <td>0.543232</td>\n",
       "      <td>0.543639</td>\n",
       "      <td>0.586326</td>\n",
       "      <td>0.613923</td>\n",
       "      <td>0.606563</td>\n",
       "      <td>0.542516</td>\n",
       "      <td>0.625993</td>\n",
       "      <td>0.629947</td>\n",
       "      <td>0.624257</td>\n",
       "      <td>0.588701</td>\n",
       "      <td>0.621145</td>\n",
       "    </tr>\n",
       "    <tr>\n",
       "      <th>6</th>\n",
       "      <td>0.492037</td>\n",
       "      <td>0.498316</td>\n",
       "      <td>0.626610</td>\n",
       "      <td>0.559418</td>\n",
       "      <td>0.629048</td>\n",
       "      <td>0.570226</td>\n",
       "      <td>0.639797</td>\n",
       "      <td>0.626490</td>\n",
       "      <td>0.615960</td>\n",
       "      <td>0.580856</td>\n",
       "      <td>0.616671</td>\n",
       "    </tr>\n",
       "    <tr>\n",
       "      <th>7</th>\n",
       "      <td>0.557335</td>\n",
       "      <td>0.622559</td>\n",
       "      <td>0.685363</td>\n",
       "      <td>0.565722</td>\n",
       "      <td>0.595303</td>\n",
       "      <td>0.649804</td>\n",
       "      <td>0.650824</td>\n",
       "      <td>0.631143</td>\n",
       "      <td>0.661818</td>\n",
       "      <td>0.656287</td>\n",
       "      <td>0.643651</td>\n",
       "    </tr>\n",
       "    <tr>\n",
       "      <th>8</th>\n",
       "      <td>0.582405</td>\n",
       "      <td>0.582405</td>\n",
       "      <td>0.687157</td>\n",
       "      <td>0.600793</td>\n",
       "      <td>0.672792</td>\n",
       "      <td>0.637374</td>\n",
       "      <td>0.713278</td>\n",
       "      <td>0.668576</td>\n",
       "      <td>0.714495</td>\n",
       "      <td>0.585830</td>\n",
       "      <td>0.672434</td>\n",
       "    </tr>\n",
       "    <tr>\n",
       "      <th>9</th>\n",
       "      <td>0.546801</td>\n",
       "      <td>0.546801</td>\n",
       "      <td>0.564075</td>\n",
       "      <td>0.542278</td>\n",
       "      <td>0.576700</td>\n",
       "      <td>0.576936</td>\n",
       "      <td>0.570058</td>\n",
       "      <td>0.547095</td>\n",
       "      <td>0.587330</td>\n",
       "      <td>0.623036</td>\n",
       "      <td>0.584074</td>\n",
       "    </tr>\n",
       "  </tbody>\n",
       "</table>\n",
       "</div>"
      ],
      "text/plain": [
       "         LR       LDA       kNN        DT        NB       SVM        RF  \\\n",
       "0  0.639394  0.624089  0.587104  0.542124  0.622997  0.636410  0.593963   \n",
       "1  0.556008  0.575605  0.686718  0.526582  0.610202  0.616783  0.652764   \n",
       "2  0.646427  0.643920  0.669926  0.569896  0.661949  0.669408  0.639562   \n",
       "3  0.453492  0.496017  0.618403  0.561395  0.586522  0.572323  0.646335   \n",
       "4  0.652395  0.650861  0.687915  0.553351  0.665671  0.663790  0.654587   \n",
       "5  0.543232  0.543639  0.586326  0.613923  0.606563  0.542516  0.625993   \n",
       "6  0.492037  0.498316  0.626610  0.559418  0.629048  0.570226  0.639797   \n",
       "7  0.557335  0.622559  0.685363  0.565722  0.595303  0.649804  0.650824   \n",
       "8  0.582405  0.582405  0.687157  0.600793  0.672792  0.637374  0.713278   \n",
       "9  0.546801  0.546801  0.564075  0.542278  0.576700  0.576936  0.570058   \n",
       "\n",
       "         GB       XGB  AdaBoost       ANN  \n",
       "0  0.594341  0.605907  0.611207  0.621753  \n",
       "1  0.612944  0.666535  0.618004  0.709173  \n",
       "2  0.653300  0.612189  0.578563  0.702133  \n",
       "3  0.607896  0.661366  0.644040  0.554988  \n",
       "4  0.657079  0.723754  0.597489  0.682287  \n",
       "5  0.629947  0.624257  0.588701  0.621145  \n",
       "6  0.626490  0.615960  0.580856  0.616671  \n",
       "7  0.631143  0.661818  0.656287  0.643651  \n",
       "8  0.668576  0.714495  0.585830  0.672434  \n",
       "9  0.547095  0.587330  0.623036  0.584074  "
      ]
     },
     "execution_count": 41,
     "metadata": {},
     "output_type": "execute_result"
    }
   ],
   "source": [
    "m =[]\n",
    "for i in models:\n",
    "    m.append(i[0])\n",
    "\n",
    "f1_results_noise_4 = pd.DataFrame()\n",
    "\n",
    "\n",
    "for i, m in enumerate(m):\n",
    "    f1_results_noise_4[str(m)] = cv_res(results[i])\n",
    "\n",
    "f1_results_noise_4"
   ]
  },
  {
   "cell_type": "code",
   "execution_count": 42,
   "id": "786f7d99",
   "metadata": {},
   "outputs": [
    {
     "data": {
      "text/plain": [
       "0    0.606808\n",
       "1    0.621331\n",
       "2    0.646871\n",
       "3    0.575874\n",
       "4    0.659169\n",
       "5    0.593754\n",
       "6    0.587457\n",
       "7    0.626352\n",
       "8    0.653171\n",
       "9    0.564215\n",
       "dtype: float64"
      ]
     },
     "execution_count": 42,
     "metadata": {},
     "output_type": "execute_result"
    }
   ],
   "source": [
    "## Results with noise 20% without the AdaBoost algorithm\n",
    "f1_results_noise_4_other_algorithms=f1_results_noise_4.drop(columns=['AdaBoost']).mean(axis=1)\n",
    "f1_results_noise_4_other_algorithms"
   ]
  },
  {
   "cell_type": "code",
   "execution_count": 43,
   "id": "2529bb3a",
   "metadata": {},
   "outputs": [],
   "source": [
    "f1_consolidated_results2 = pd.DataFrame()\n",
    "f1_consolidated_results2 = f1_consolidated_results2.append(results_no_noise, ignore_index=True)\n",
    "f1_consolidated_results2 = f1_consolidated_results2.append(results_noise2_1, ignore_index=True)\n",
    "f1_consolidated_results2 = f1_consolidated_results2.append(results_noise2_2, ignore_index=True)\n",
    "f1_consolidated_results2 = f1_consolidated_results2.append(results_noise2_3, ignore_index=True)\n",
    "f1_consolidated_results2 = f1_consolidated_results2.append(results_noise2_4, ignore_index=True)"
   ]
  },
  {
   "cell_type": "code",
   "execution_count": 44,
   "id": "60e97e07",
   "metadata": {},
   "outputs": [
    {
     "data": {
      "text/html": [
       "<div>\n",
       "<style scoped>\n",
       "    .dataframe tbody tr th:only-of-type {\n",
       "        vertical-align: middle;\n",
       "    }\n",
       "\n",
       "    .dataframe tbody tr th {\n",
       "        vertical-align: top;\n",
       "    }\n",
       "\n",
       "    .dataframe thead th {\n",
       "        text-align: right;\n",
       "    }\n",
       "</style>\n",
       "<table border=\"1\" class=\"dataframe\">\n",
       "  <thead>\n",
       "    <tr style=\"text-align: right;\">\n",
       "      <th></th>\n",
       "      <th>LR</th>\n",
       "      <th>LDA</th>\n",
       "      <th>kNN</th>\n",
       "      <th>DT</th>\n",
       "      <th>NB</th>\n",
       "      <th>SVM</th>\n",
       "      <th>RF</th>\n",
       "      <th>GB</th>\n",
       "      <th>XGB</th>\n",
       "      <th>AdaBoost</th>\n",
       "      <th>ANN</th>\n",
       "      <th>Status</th>\n",
       "    </tr>\n",
       "  </thead>\n",
       "  <tbody>\n",
       "    <tr>\n",
       "      <th>0</th>\n",
       "      <td>0.908008</td>\n",
       "      <td>0.979690</td>\n",
       "      <td>0.955421</td>\n",
       "      <td>0.952593</td>\n",
       "      <td>0.953859</td>\n",
       "      <td>0.960176</td>\n",
       "      <td>0.953940</td>\n",
       "      <td>0.952425</td>\n",
       "      <td>0.953590</td>\n",
       "      <td>0.945580</td>\n",
       "      <td>0.945839</td>\n",
       "      <td>Without Noise</td>\n",
       "    </tr>\n",
       "    <tr>\n",
       "      <th>1</th>\n",
       "      <td>0.861802</td>\n",
       "      <td>0.958283</td>\n",
       "      <td>0.915051</td>\n",
       "      <td>0.919608</td>\n",
       "      <td>0.904581</td>\n",
       "      <td>0.943212</td>\n",
       "      <td>0.931887</td>\n",
       "      <td>0.929390</td>\n",
       "      <td>0.928949</td>\n",
       "      <td>0.891964</td>\n",
       "      <td>0.910889</td>\n",
       "      <td>Noise 5%</td>\n",
       "    </tr>\n",
       "    <tr>\n",
       "      <th>2</th>\n",
       "      <td>0.779315</td>\n",
       "      <td>0.843537</td>\n",
       "      <td>0.876830</td>\n",
       "      <td>0.815470</td>\n",
       "      <td>0.819435</td>\n",
       "      <td>0.883317</td>\n",
       "      <td>0.842310</td>\n",
       "      <td>0.842321</td>\n",
       "      <td>0.854036</td>\n",
       "      <td>0.715913</td>\n",
       "      <td>0.858710</td>\n",
       "      <td>Noise 10%</td>\n",
       "    </tr>\n",
       "    <tr>\n",
       "      <th>3</th>\n",
       "      <td>0.689188</td>\n",
       "      <td>0.734498</td>\n",
       "      <td>0.776026</td>\n",
       "      <td>0.736691</td>\n",
       "      <td>0.744052</td>\n",
       "      <td>0.792422</td>\n",
       "      <td>0.749289</td>\n",
       "      <td>0.733506</td>\n",
       "      <td>0.756584</td>\n",
       "      <td>0.735820</td>\n",
       "      <td>0.780995</td>\n",
       "      <td>Noise 15%</td>\n",
       "    </tr>\n",
       "    <tr>\n",
       "      <th>4</th>\n",
       "      <td>0.566953</td>\n",
       "      <td>0.578421</td>\n",
       "      <td>0.639960</td>\n",
       "      <td>0.563548</td>\n",
       "      <td>0.622775</td>\n",
       "      <td>0.613557</td>\n",
       "      <td>0.638716</td>\n",
       "      <td>0.622881</td>\n",
       "      <td>0.647361</td>\n",
       "      <td>0.608401</td>\n",
       "      <td>0.640831</td>\n",
       "      <td>Noise 20%</td>\n",
       "    </tr>\n",
       "  </tbody>\n",
       "</table>\n",
       "</div>"
      ],
      "text/plain": [
       "         LR       LDA       kNN        DT        NB       SVM        RF  \\\n",
       "0  0.908008  0.979690  0.955421  0.952593  0.953859  0.960176  0.953940   \n",
       "1  0.861802  0.958283  0.915051  0.919608  0.904581  0.943212  0.931887   \n",
       "2  0.779315  0.843537  0.876830  0.815470  0.819435  0.883317  0.842310   \n",
       "3  0.689188  0.734498  0.776026  0.736691  0.744052  0.792422  0.749289   \n",
       "4  0.566953  0.578421  0.639960  0.563548  0.622775  0.613557  0.638716   \n",
       "\n",
       "         GB       XGB  AdaBoost       ANN         Status  \n",
       "0  0.952425  0.953590  0.945580  0.945839  Without Noise  \n",
       "1  0.929390  0.928949  0.891964  0.910889       Noise 5%  \n",
       "2  0.842321  0.854036  0.715913  0.858710      Noise 10%  \n",
       "3  0.733506  0.756584  0.735820  0.780995      Noise 15%  \n",
       "4  0.622881  0.647361  0.608401  0.640831      Noise 20%  "
      ]
     },
     "execution_count": 44,
     "metadata": {},
     "output_type": "execute_result"
    }
   ],
   "source": [
    "new_column_values = ['Without Noise','Noise 5%','Noise 10%','Noise 15%','Noise 20%']\n",
    "\n",
    "f1_consolidated_results2 [\"Status\"] = new_column_values \n",
    "\n",
    "f1_consolidated_results2 "
   ]
  },
  {
   "cell_type": "code",
   "execution_count": 45,
   "id": "850d60dd",
   "metadata": {},
   "outputs": [
    {
     "data": {
      "image/png": "[encoded data removed]",
      "text/plain": [
       "<Figure size 720x432 with 1 Axes>"
      ]
     },
     "metadata": {},
     "output_type": "display_data"
    }
   ],
   "source": [
    "# Importing packages\n",
    "import matplotlib.pyplot as plt\n",
    "\n",
    "# Plot a simple line chart\n",
    "fig, g = plt.subplots(figsize = (10,6))\n",
    "\n",
    "sns.color_palette(\"rocket\", as_cmap=True)\n",
    "plt.plot(f1_consolidated_results2 ['Status'],f1_consolidated_results2.drop(columns=['Status','AdaBoost'],axis=1),linewidth=1)\n",
    "plt.plot(f1_consolidated_results2 ['Status'],f1_consolidated_results2['AdaBoost'],'--',linewidth=2)\n",
    "plt.legend(['LR','LDA','kNN','DT','NB','SVM','RF','GB','XGB','ANN', 'AdaBoost'])\n",
    "#plt.legend(f1_consolidated_results2['AdaBoost']),loc=\"upper right\")\n",
    "plt.ylim(0.55,1)\n",
    "plt.title(\"Iris\")\n",
    "plt.savefig('Iris.png', dpi = 300 ,transparent = True)\n",
    "plt.show()"
   ]
  },
  {
   "cell_type": "markdown",
   "id": "d0962d1f",
   "metadata": {},
   "source": [
    "### T-test Statistic "
   ]
  },
  {
   "cell_type": "code",
   "execution_count": 46,
   "id": "bd5a796c",
   "metadata": {},
   "outputs": [],
   "source": [
    "from scipy.stats import ttest_ind as ttest"
   ]
  },
  {
   "cell_type": "markdown",
   "id": "610a42d6",
   "metadata": {},
   "source": [
    "Hypothesis\n",
    "\n",
    "H0: Noise does not effect the models efficiency f1_no_noise = f1_noise\n",
    "\n",
    "H1: There is effect of noise in the models efficiency f1_no_noise <> f1_noise"
   ]
  },
  {
   "cell_type": "markdown",
   "id": "2e520bd6",
   "metadata": {},
   "source": [
    "#### T-test for data without noise"
   ]
  },
  {
   "cell_type": "code",
   "execution_count": 47,
   "id": "5bdea693",
   "metadata": {},
   "outputs": [
    {
     "name": "stdout",
     "output_type": "stream",
     "text": [
      "Test statistic is -1.086647\n",
      "p-value for two tailed test is 0.291531\n",
      "Since p-value(=0.291531) > alpha(=0.05) We do not reject the null hypothesis H0. So we conclude that the effect of noise do not change the models efficiency at 0.05 level of significance.\n"
     ]
    }
   ],
   "source": [
    "t_value,p_value=ttest(f1_results['AdaBoost'],f1_results_other_algorithms)\n",
    "\n",
    "print('Test statistic is %f'%float(\"{:.6f}\".format(t_value)))\n",
    "\n",
    "print('p-value for two tailed test is %f'%p_value)\n",
    "\n",
    "alpha = 0.05\n",
    "  \n",
    "if p_value<=alpha:\n",
    "\n",
    "    print('Since p-value(=%f)'%p_value,'<','alpha(=%.2f)'%alpha,'''We reject the null hypothesis H0. So we conclude that the effect of noise in models efficiency at %.2f level of significance.'''%alpha)\n",
    "\n",
    "else:\n",
    "\n",
    "    print('Since p-value(=%f)'%p_value,'>','alpha(=%.2f)'%alpha,'''We do not reject the null hypothesis H0. So we conclude that the effect of noise do not change the models efficiency at %.2f level of significance.''' %alpha)\n"
   ]
  },
  {
   "cell_type": "markdown",
   "id": "d2ef8fbe",
   "metadata": {},
   "source": [
    "### T-test for 5% noise"
   ]
  },
  {
   "cell_type": "markdown",
   "id": "91e14ac8",
   "metadata": {},
   "source": [
    "#### Compare with initial results"
   ]
  },
  {
   "cell_type": "code",
   "execution_count": 48,
   "id": "0a68ec9f",
   "metadata": {},
   "outputs": [
    {
     "name": "stdout",
     "output_type": "stream",
     "text": [
      "Test statistic is 5.579189\n",
      "p-value for two tailed test is 0.000027\n",
      "Since p-value(=0.000027) < alpha(=0.05) We reject the null hypothesis H0. So we conclude that the effect of noise in models efficiency at 0.05 level of significance.\n"
     ]
    }
   ],
   "source": [
    "t_value,p_value=ttest(f1_results['AdaBoost'],f1_results_noise_1['AdaBoost'])\n",
    "\n",
    "print('Test statistic is %f'%float(\"{:.6f}\".format(t_value)))\n",
    "\n",
    "print('p-value for two tailed test is %f'%p_value)\n",
    "\n",
    "alpha = 0.05\n",
    "  \n",
    "if p_value<=alpha:\n",
    "\n",
    "    print('Since p-value(=%f)'%p_value,'<','alpha(=%.2f)'%alpha,'''We reject the null hypothesis H0. So we conclude that the effect of noise in models efficiency at %.2f level of significance.'''%alpha)\n",
    "\n",
    "else:\n",
    "\n",
    "    print('Since p-value(=%f)'%p_value,'>','alpha(=%.2f)'%alpha,'''We do not reject the null hypothesis H0. So we conclude that the effect of noise do not change the models efficiency at %.2f level of significance.''' %alpha)\n"
   ]
  },
  {
   "cell_type": "markdown",
   "id": "f53c9eaf",
   "metadata": {},
   "source": [
    "#### Compare with other alforithms"
   ]
  },
  {
   "cell_type": "code",
   "execution_count": 49,
   "id": "064dc0b3",
   "metadata": {},
   "outputs": [
    {
     "name": "stdout",
     "output_type": "stream",
     "text": [
      "Test statistic is 4.241322\n",
      "p-value for two tailed test is 0.000491\n",
      "Since p-value(=0.000491) < alpha(=0.05) We reject the null hypothesis H0. So we conclude that the effect of noise in models efficiency at 0.05 level of significance.\n"
     ]
    }
   ],
   "source": [
    "t_value,p_value=ttest(f1_results_other_algorithms,f1_results_noise_1_other_algorithms)\n",
    "\n",
    "print('Test statistic is %f'%float(\"{:.6f}\".format(t_value)))\n",
    "\n",
    "print('p-value for two tailed test is %f'%p_value)\n",
    "\n",
    "alpha = 0.05\n",
    "  \n",
    "if p_value<=alpha:\n",
    "\n",
    "    print('Since p-value(=%f)'%p_value,'<','alpha(=%.2f)'%alpha,'''We reject the null hypothesis H0. So we conclude that the effect of noise in models efficiency at %.2f level of significance.'''%alpha)\n",
    "\n",
    "else:\n",
    "\n",
    "    print('Since p-value(=%f)'%p_value,'>','alpha(=%.2f)'%alpha,'''We do not reject the null hypothesis H0. So we conclude that the effect of noise do not change the models efficiency at %.2f level of significance.''' %alpha)\n"
   ]
  },
  {
   "cell_type": "markdown",
   "id": "79babc0b",
   "metadata": {},
   "source": [
    "### T-test for 10% noise"
   ]
  },
  {
   "cell_type": "markdown",
   "id": "e9aac138",
   "metadata": {},
   "source": [
    "#### Compare with initial results"
   ]
  },
  {
   "cell_type": "code",
   "execution_count": 50,
   "id": "07572f85",
   "metadata": {},
   "outputs": [
    {
     "name": "stdout",
     "output_type": "stream",
     "text": [
      "Test statistic is 11.752280\n",
      "p-value for two tailed test is 0.000000\n",
      "Since p-value(=0.000000) < alpha(=0.05) We reject the null hypothesis H0. So we conclude that the effect of noise in models efficiency at 0.05 level of significance.\n"
     ]
    }
   ],
   "source": [
    "t_value,p_value=ttest(f1_results['AdaBoost'],f1_results_noise_2['AdaBoost'])\n",
    "\n",
    "print('Test statistic is %f'%float(\"{:.6f}\".format(t_value)))\n",
    "\n",
    "print('p-value for two tailed test is %f'%p_value)\n",
    "\n",
    "alpha = 0.05\n",
    "  \n",
    "if p_value<=alpha:\n",
    "\n",
    "    print('Since p-value(=%f)'%p_value,'<','alpha(=%.2f)'%alpha,'''We reject the null hypothesis H0. So we conclude that the effect of noise in models efficiency at %.2f level of significance.'''%alpha)\n",
    "\n",
    "else:\n",
    "\n",
    "    print('Since p-value(=%f)'%p_value,'>','alpha(=%.2f)'%alpha,'''We do not reject the null hypothesis H0. So we conclude that the effect of noise do not change the models efficiency at %.2f level of significance.''' %alpha)\n"
   ]
  },
  {
   "cell_type": "markdown",
   "id": "3083d6e3",
   "metadata": {},
   "source": [
    "#### Compare with other algorithms"
   ]
  },
  {
   "cell_type": "code",
   "execution_count": 51,
   "id": "203f15fd",
   "metadata": {},
   "outputs": [
    {
     "name": "stdout",
     "output_type": "stream",
     "text": [
      "Test statistic is 12.032909\n",
      "p-value for two tailed test is 0.000000\n",
      "Since p-value(=0.000000) < alpha(=0.05) We reject the null hypothesis H0. So we conclude that the effect of noise in models efficiency at 0.05 level of significance.\n"
     ]
    }
   ],
   "source": [
    "t_value,p_value=ttest(f1_results_other_algorithms,f1_results_noise_2_other_algorithms)\n",
    "\n",
    "print('Test statistic is %f'%float(\"{:.6f}\".format(t_value)))\n",
    "\n",
    "print('p-value for two tailed test is %f'%p_value)\n",
    "\n",
    "alpha = 0.05\n",
    "  \n",
    "if p_value<=alpha:\n",
    "\n",
    "    print('Since p-value(=%f)'%p_value,'<','alpha(=%.2f)'%alpha,'''We reject the null hypothesis H0. So we conclude that the effect of noise in models efficiency at %.2f level of significance.'''%alpha)\n",
    "\n",
    "else:\n",
    "\n",
    "    print('Since p-value(=%f)'%p_value,'>','alpha(=%.2f)'%alpha,'''We do not reject the null hypothesis H0. So we conclude that the effect of noise do not change the models efficiency at %.2f level of significance.''' %alpha)\n"
   ]
  },
  {
   "cell_type": "markdown",
   "id": "62e6711d",
   "metadata": {},
   "source": [
    "### T-test for 15% noise"
   ]
  },
  {
   "cell_type": "markdown",
   "id": "bb986d74",
   "metadata": {},
   "source": [
    "#### Compare with initial results"
   ]
  },
  {
   "cell_type": "code",
   "execution_count": 52,
   "id": "0dfe2824",
   "metadata": {},
   "outputs": [
    {
     "name": "stdout",
     "output_type": "stream",
     "text": [
      "Test statistic is 15.580815\n",
      "p-value for two tailed test is 0.000000\n",
      "Since p-value(=0.000000) < alpha(=0.05) We reject the null hypothesis H0. So we conclude that the effect of noise in models efficiency at 0.05 level of significance.\n"
     ]
    }
   ],
   "source": [
    "t_value,p_value=ttest(f1_results['AdaBoost'],f1_results_noise_3['AdaBoost'])\n",
    "\n",
    "print('Test statistic is %f'%float(\"{:.6f}\".format(t_value)))\n",
    "\n",
    "print('p-value for two tailed test is %f'%p_value)\n",
    "\n",
    "alpha = 0.05\n",
    "  \n",
    "if p_value<=alpha:\n",
    "\n",
    "    print('Since p-value(=%f)'%p_value,'<','alpha(=%.2f)'%alpha,'''We reject the null hypothesis H0. So we conclude that the effect of noise in models efficiency at %.2f level of significance.'''%alpha)\n",
    "\n",
    "else:\n",
    "\n",
    "    print('Since p-value(=%f)'%p_value,'>','alpha(=%.2f)'%alpha,'''We do not reject the null hypothesis H0. So we conclude that the effect of noise do not change the models efficiency at %.2f level of significance.''' %alpha)\n"
   ]
  },
  {
   "cell_type": "markdown",
   "id": "e6eccfe4",
   "metadata": {},
   "source": [
    "#### Compare with other alforithms"
   ]
  },
  {
   "cell_type": "code",
   "execution_count": 53,
   "id": "b56f460e",
   "metadata": {},
   "outputs": [
    {
     "name": "stdout",
     "output_type": "stream",
     "text": [
      "Test statistic is 26.994066\n",
      "p-value for two tailed test is 0.000000\n",
      "Since p-value(=0.000000) < alpha(=0.05) We reject the null hypothesis H0. So we conclude that the effect of noise in models efficiency at 0.05 level of significance.\n"
     ]
    }
   ],
   "source": [
    "t_value,p_value=ttest(f1_results_other_algorithms,f1_results_noise_3_other_algorithms)\n",
    "\n",
    "print('Test statistic is %f'%float(\"{:.6f}\".format(t_value)))\n",
    "\n",
    "print('p-value for two tailed test is %f'%p_value)\n",
    "\n",
    "alpha = 0.05\n",
    "  \n",
    "if p_value<=alpha:\n",
    "\n",
    "    print('Since p-value(=%f)'%p_value,'<','alpha(=%.2f)'%alpha,'''We reject the null hypothesis H0. So we conclude that the effect of noise in models efficiency at %.2f level of significance.'''%alpha)\n",
    "\n",
    "else:\n",
    "\n",
    "    print('Since p-value(=%f)'%p_value,'>','alpha(=%.2f)'%alpha,'''We do not reject the null hypothesis H0. So we conclude that the effect of noise do not change the models efficiency at %.2f level of significance.''' %alpha)\n"
   ]
  },
  {
   "cell_type": "markdown",
   "id": "5e4ea964",
   "metadata": {},
   "source": [
    "### T-test for 20% noise"
   ]
  },
  {
   "cell_type": "markdown",
   "id": "91962fdd",
   "metadata": {},
   "source": [
    "#### Compare with initial results"
   ]
  },
  {
   "cell_type": "code",
   "execution_count": 54,
   "id": "2aee6934",
   "metadata": {},
   "outputs": [
    {
     "name": "stdout",
     "output_type": "stream",
     "text": [
      "Test statistic is 34.846571\n",
      "p-value for two tailed test is 0.000000\n",
      "Since p-value(=0.000000) < alpha(=0.05) We reject the null hypothesis H0. So we conclude that the effect of noise in models efficiency at 0.05 level of significance.\n"
     ]
    }
   ],
   "source": [
    "t_value,p_value=ttest(f1_results['AdaBoost'],f1_results_noise_4['AdaBoost'])\n",
    "\n",
    "print('Test statistic is %f'%float(\"{:.6f}\".format(t_value)))\n",
    "\n",
    "print('p-value for two tailed test is %f'%p_value)\n",
    "\n",
    "alpha = 0.05\n",
    "  \n",
    "if p_value<=alpha:\n",
    "\n",
    "    print('Since p-value(=%f)'%p_value,'<','alpha(=%.2f)'%alpha,'''We reject the null hypothesis H0. So we conclude that the effect of noise in models efficiency at %.2f level of significance.'''%alpha)\n",
    "\n",
    "else:\n",
    "\n",
    "    print('Since p-value(=%f)'%p_value,'>','alpha(=%.2f)'%alpha,'''We do not reject the null hypothesis H0. So we conclude that the effect of noise do not change the models efficiency at %.2f level of significance.''' %alpha)\n"
   ]
  },
  {
   "cell_type": "markdown",
   "id": "88e06e1f",
   "metadata": {},
   "source": [
    "#### Compare with other alforithms"
   ]
  },
  {
   "cell_type": "code",
   "execution_count": 55,
   "id": "5336836c",
   "metadata": {},
   "outputs": [
    {
     "name": "stdout",
     "output_type": "stream",
     "text": [
      "Test statistic is 30.867659\n",
      "p-value for two tailed test is 0.000000\n",
      "Since p-value(=0.000000) < alpha(=0.05) We reject the null hypothesis H0. So we conclude that the effect of noise in models efficiency at 0.05 level of significance.\n"
     ]
    }
   ],
   "source": [
    "t_value,p_value=ttest(f1_results_other_algorithms,f1_results_noise_4_other_algorithms)\n",
    "\n",
    "print('Test statistic is %f'%float(\"{:.6f}\".format(t_value)))\n",
    "\n",
    "print('p-value for two tailed test is %f'%p_value)\n",
    "\n",
    "alpha = 0.05\n",
    "  \n",
    "if p_value<=alpha:\n",
    "\n",
    "    print('Since p-value(=%f)'%p_value,'<','alpha(=%.2f)'%alpha,'''We reject the null hypothesis H0. So we conclude that the effect of noise in models efficiency at %.2f level of significance.'''%alpha)\n",
    "\n",
    "else:\n",
    "\n",
    "    print('Since p-value(=%f)'%p_value,'>','alpha(=%.2f)'%alpha,'''We do not reject the null hypothesis H0. So we conclude that the effect of noise do not change the models efficiency at %.2f level of significance.''' %alpha)\n"
   ]
  },
  {
   "cell_type": "markdown",
   "id": "1b538769",
   "metadata": {},
   "source": [
    "## Cohen's d effect"
   ]
  },
  {
   "cell_type": "code",
   "execution_count": 56,
   "id": "71e5f3f4",
   "metadata": {},
   "outputs": [],
   "source": [
    "import math \n",
    "# function to calculate Cohen's d for independent samples\n",
    "def cohend(d1, d2):\n",
    "# calculate the size of samples\n",
    "    n1, n2 = len(d1), len(d2)\n",
    "    # calculate the variance of the samples\n",
    "    s1, s2 = np.var(d1, ddof=1), np.var(d2, ddof=1)\n",
    "    # calculate the pooled standard deviation\n",
    "    s = math.sqrt(((n1 - 1) * s1 + (n2 - 1) * s2) / (n1 + n2 - 2))\n",
    "    # calculate the means of the samples\n",
    "    u1, u2 = np.mean(d1), np.mean(d2)\n",
    "    # calculate the effect size\n",
    "    return (u1 - u2) / s"
   ]
  },
  {
   "cell_type": "markdown",
   "id": "87c98120",
   "metadata": {},
   "source": [
    "#### Cohen's d without noise"
   ]
  },
  {
   "cell_type": "code",
   "execution_count": 57,
   "id": "165067a0",
   "metadata": {},
   "outputs": [
    {
     "data": {
      "text/plain": [
       "-0.48596324502618155"
      ]
     },
     "execution_count": 57,
     "metadata": {},
     "output_type": "execute_result"
    }
   ],
   "source": [
    "cohend(f1_results['AdaBoost'].tolist(), f1_results_other_algorithms.tolist())"
   ]
  },
  {
   "cell_type": "code",
   "execution_count": 58,
   "id": "c805657f",
   "metadata": {},
   "outputs": [
    {
     "name": "stdout",
     "output_type": "stream",
     "text": [
      "Test statistic is -1.086647\n",
      "p-value for two tailed test is 0.291531\n",
      "Since p-value(=0.291531) > alpha(=0.05) We do not reject the null hypothesis H0. So we conclude that the effect of noise do not change the models efficiency at 0.05 level of significance.\n"
     ]
    }
   ],
   "source": [
    "t_value,p_value=ttest(f1_results['AdaBoost'],f1_results_other_algorithms)\n",
    "\n",
    "print('Test statistic is %f'%float(\"{:.6f}\".format(t_value)))\n",
    "\n",
    "print('p-value for two tailed test is %f'%p_value)\n",
    "\n",
    "alpha = 0.05\n",
    "  \n",
    "if p_value<=alpha:\n",
    "\n",
    "    print('Since p-value(=%f)'%p_value,'<','alpha(=%.2f)'%alpha,'''We reject the null hypothesis H0. So we conclude that the effect of noise in models efficiency at %.2f level of significance.'''%alpha)\n",
    "\n",
    "else:\n",
    "\n",
    "    print('Since p-value(=%f)'%p_value,'>','alpha(=%.2f)'%alpha,'''We do not reject the null hypothesis H0. So we conclude that the effect of noise do not change the models efficiency at %.2f level of significance.''' %alpha)\n"
   ]
  },
  {
   "cell_type": "markdown",
   "id": "5a3d650b",
   "metadata": {},
   "source": [
    "#### Cohen's d with 20% noise"
   ]
  },
  {
   "cell_type": "code",
   "execution_count": 59,
   "id": "01297cf2",
   "metadata": {},
   "outputs": [
    {
     "data": {
      "text/plain": [
       "-0.16840886070348707"
      ]
     },
     "execution_count": 59,
     "metadata": {},
     "output_type": "execute_result"
    }
   ],
   "source": [
    "cohend(f1_results_noise_4['AdaBoost'].tolist(), f1_results_noise_4_other_algorithms.tolist())"
   ]
  },
  {
   "cell_type": "code",
   "execution_count": 60,
   "id": "9bcbbf39",
   "metadata": {},
   "outputs": [
    {
     "name": "stdout",
     "output_type": "stream",
     "text": [
      "Test statistic is -0.376574\n",
      "p-value for two tailed test is 0.710893\n",
      "Since p-value(=0.710893) > alpha(=0.05) We do not reject the null hypothesis H0. So we conclude that the effect of noise do not change the models efficiency at 0.05 level of significance.\n"
     ]
    }
   ],
   "source": [
    "t_value,p_value=ttest(f1_results_noise_4['AdaBoost'],f1_results_noise_4_other_algorithms)\n",
    "\n",
    "print('Test statistic is %f'%float(\"{:.6f}\".format(t_value)))\n",
    "\n",
    "print('p-value for two tailed test is %f'%p_value)\n",
    "\n",
    "alpha = 0.05\n",
    "  \n",
    "if p_value<=alpha:\n",
    "\n",
    "    print('Since p-value(=%f)'%p_value,'<','alpha(=%.2f)'%alpha,'''We reject the null hypothesis H0. So we conclude that the effect of noise in models efficiency at %.2f level of significance.'''%alpha)\n",
    "\n",
    "else:\n",
    "\n",
    "    print('Since p-value(=%f)'%p_value,'>','alpha(=%.2f)'%alpha,'''We do not reject the null hypothesis H0. So we conclude that the effect of noise do not change the models efficiency at %.2f level of significance.''' %alpha)\n"
   ]
  },
  {
   "cell_type": "markdown",
   "id": "cb98123e",
   "metadata": {},
   "source": [
    "### Kolmogorov-Smirnov "
   ]
  },
  {
   "cell_type": "markdown",
   "id": "2c3b12dc",
   "metadata": {},
   "source": [
    "two-sided: The null hypothesis is that the two distributions are identical, F(x)=G(x) for all x; the alternative is that they are not identical.\n",
    "\n",
    "less: The null hypothesis is that F(x) >= G(x) for all x; the alternative is that F(x) < G(x) for at least one x.\n",
    "\n",
    "greater: The null hypothesis is that F(x) <= G(x) for all x; the alternative is that F(x) > G(x) for at least one x."
   ]
  },
  {
   "cell_type": "code",
   "execution_count": 61,
   "id": "f78cb595",
   "metadata": {},
   "outputs": [],
   "source": [
    "# Hypothesis\n",
    "\n",
    "# H0: Noise does not effect the models efficiency of AdaBoost more than other algorithms f1_no_noise_AB = f1_noise_mean_of_the_rest\n",
    "\n",
    "# H1:  Noise does effect the models efficiency of AdaBoost more than other algorithms f1_no_noise_AB <> f1_noise_mean_of_the_rest\n",
    "\n"
   ]
  },
  {
   "cell_type": "markdown",
   "id": "df6edd0d",
   "metadata": {},
   "source": [
    "### K-S for 5% noise"
   ]
  },
  {
   "cell_type": "code",
   "execution_count": 62,
   "id": "bbec8c3e",
   "metadata": {},
   "outputs": [
    {
     "name": "stdout",
     "output_type": "stream",
     "text": [
      "p-value for two tailed KS test is 0.052448\n",
      "Since p-value(=0.052448) > alpha(=0.05) We do not reject the null hypothesis H0. So we conclude that the effect of noise do not change the models efficiency at 0.05 level of significance.\n"
     ]
    }
   ],
   "source": [
    "from scipy.stats import ks_2samp  \n",
    "\n",
    "\n",
    "#perform Kolmogorov-Smirnov test\n",
    "t_value,p_value = ks_2samp(f1_results['AdaBoost']-f1_results_noise_1['AdaBoost'], f1_results.drop(columns=['AdaBoost']).mean(axis=1)-f1_results_noise_1.drop(columns=['AdaBoost']).mean(axis=1))\n",
    "\n",
    "\n",
    "print('p-value for two tailed KS test is %f'%p_value)\n",
    "\n",
    "alpha = 0.05\n",
    "  \n",
    "if p_value<=alpha:\n",
    "\n",
    "    print('Since p-value(=%f)'%p_value,'<','alpha(=%.2f)'%alpha,'''We reject the null hypothesis H0. So we conclude that the effect of noise in models efficiency at %.2f level of significance.'''%alpha)\n",
    "\n",
    "else:\n",
    "\n",
    "    print('Since p-value(=%f)'%p_value,'>','alpha(=%.2f)'%alpha,'''We do not reject the null hypothesis H0. So we conclude that the effect of noise do not change the models efficiency at %.2f level of significance.''' %alpha)"
   ]
  },
  {
   "cell_type": "markdown",
   "id": "4e495372",
   "metadata": {},
   "source": [
    "### K-S for 10% noise"
   ]
  },
  {
   "cell_type": "code",
   "execution_count": 63,
   "id": "87562c51",
   "metadata": {},
   "outputs": [
    {
     "name": "stdout",
     "output_type": "stream",
     "text": [
      "p-value for two tailed KS test is 0.000217\n",
      "Since p-value(=0.000217) < alpha(=0.05) We reject the null hypothesis H0. So we conclude that the effect of noise in models efficiency at 0.05 level of significance.\n"
     ]
    }
   ],
   "source": [
    "from scipy.stats import ks_2samp  \n",
    "\n",
    "\n",
    "#perform Kolmogorov-Smirnov test\n",
    "t_value,p_value = ks_2samp(f1_results['AdaBoost']-f1_results_noise_2['AdaBoost'], f1_results.drop(columns=['AdaBoost']).mean(axis=1)-f1_results_noise_2.drop(columns=['AdaBoost']).mean(axis=1))\n",
    "\n",
    "\n",
    "print('p-value for two tailed KS test is %f'%p_value)\n",
    "\n",
    "alpha = 0.05\n",
    "  \n",
    "if p_value<=alpha:\n",
    "\n",
    "    print('Since p-value(=%f)'%p_value,'<','alpha(=%.2f)'%alpha,'''We reject the null hypothesis H0. So we conclude that the effect of noise in models efficiency at %.2f level of significance.'''%alpha)\n",
    "\n",
    "else:\n",
    "\n",
    "    print('Since p-value(=%f)'%p_value,'>','alpha(=%.2f)'%alpha,'''We do not reject the null hypothesis H0. So we conclude that the effect of noise do not change the models efficiency at %.2f level of significance.''' %alpha)"
   ]
  },
  {
   "cell_type": "markdown",
   "id": "a9df8f94",
   "metadata": {},
   "source": [
    "### K-S for 15% noise"
   ]
  },
  {
   "cell_type": "code",
   "execution_count": 64,
   "id": "e28d2e13",
   "metadata": {},
   "outputs": [
    {
     "name": "stdout",
     "output_type": "stream",
     "text": [
      "p-value for two tailed KS test is 0.417524\n",
      "Since p-value(=0.417524) > alpha(=0.05) We do not reject the null hypothesis H0. So we conclude that the effect of noise do not change the models efficiency at 0.05 level of significance.\n"
     ]
    }
   ],
   "source": [
    "from scipy.stats import ks_2samp  \n",
    "\n",
    "\n",
    "#perform Kolmogorov-Smirnov test\n",
    "t_value,p_value = ks_2samp(f1_results['AdaBoost']-f1_results_noise_3['AdaBoost'], f1_results.drop(columns=['AdaBoost']).mean(axis=1)-f1_results_noise_3.drop(columns=['AdaBoost']).mean(axis=1))\n",
    "\n",
    "\n",
    "print('p-value for two tailed KS test is %f'%p_value)\n",
    "\n",
    "alpha = 0.05\n",
    "  \n",
    "if p_value<=alpha:\n",
    "\n",
    "    print('Since p-value(=%f)'%p_value,'<','alpha(=%.2f)'%alpha,'''We reject the null hypothesis H0. So we conclude that the effect of noise in models efficiency at %.2f level of significance.'''%alpha)\n",
    "\n",
    "else:\n",
    "\n",
    "    print('Since p-value(=%f)'%p_value,'>','alpha(=%.2f)'%alpha,'''We do not reject the null hypothesis H0. So we conclude that the effect of noise do not change the models efficiency at %.2f level of significance.''' %alpha)"
   ]
  },
  {
   "cell_type": "markdown",
   "id": "b69f2696",
   "metadata": {},
   "source": [
    "### K-S for 20% noise"
   ]
  },
  {
   "cell_type": "code",
   "execution_count": 65,
   "id": "4a3ee931",
   "metadata": {},
   "outputs": [
    {
     "name": "stdout",
     "output_type": "stream",
     "text": [
      "p-value for two tailed KS test is 1.000000\n",
      "Since p-value(=1.000000) > alpha(=0.05) We do not reject the null hypothesis H0. So we conclude that the effect of noise do not change the models efficiency at 0.05 level of significance.\n"
     ]
    }
   ],
   "source": [
    "from scipy.stats import ks_2samp  \n",
    "\n",
    "\n",
    "#perform Kolmogorov-Smirnov test\n",
    "t_value,p_value = ks_2samp(f1_results['AdaBoost']-f1_results_noise_4['AdaBoost'], f1_results.drop(columns=['AdaBoost']).mean(axis=1)-f1_results_noise_4.drop(columns=['AdaBoost']).mean(axis=1))\n",
    "\n",
    "\n",
    "print('p-value for two tailed KS test is %f'%p_value)\n",
    "\n",
    "alpha = 0.05\n",
    "  \n",
    "if p_value<=alpha:\n",
    "\n",
    "    print('Since p-value(=%f)'%p_value,'<','alpha(=%.2f)'%alpha,'''We reject the null hypothesis H0. So we conclude that the effect of noise in models efficiency at %.2f level of significance.'''%alpha)\n",
    "\n",
    "else:\n",
    "\n",
    "    print('Since p-value(=%f)'%p_value,'>','alpha(=%.2f)'%alpha,'''We do not reject the null hypothesis H0. So we conclude that the effect of noise do not change the models efficiency at %.2f level of significance.''' %alpha)\n"
   ]
  },
  {
   "cell_type": "markdown",
   "id": "8906a352",
   "metadata": {},
   "source": [
    "## Pearson correlation "
   ]
  },
  {
   "cell_type": "markdown",
   "id": "564370f2",
   "metadata": {},
   "source": [
    "#### Adaboost Table"
   ]
  },
  {
   "cell_type": "code",
   "execution_count": 66,
   "id": "3159118f",
   "metadata": {},
   "outputs": [
    {
     "data": {
      "text/html": [
       "<div>\n",
       "<style scoped>\n",
       "    .dataframe tbody tr th:only-of-type {\n",
       "        vertical-align: middle;\n",
       "    }\n",
       "\n",
       "    .dataframe tbody tr th {\n",
       "        vertical-align: top;\n",
       "    }\n",
       "\n",
       "    .dataframe thead th {\n",
       "        text-align: right;\n",
       "    }\n",
       "</style>\n",
       "<table border=\"1\" class=\"dataframe\">\n",
       "  <thead>\n",
       "    <tr style=\"text-align: right;\">\n",
       "      <th></th>\n",
       "      <th>AdaBoost_initial</th>\n",
       "      <th>AdaBoost_noise_1</th>\n",
       "      <th>AdaBoost_noise_2</th>\n",
       "      <th>AdaBoost_noise_3</th>\n",
       "      <th>AdaBoost_noise_4</th>\n",
       "    </tr>\n",
       "  </thead>\n",
       "  <tbody>\n",
       "    <tr>\n",
       "      <th>0</th>\n",
       "      <td>0.973064</td>\n",
       "      <td>0.905993</td>\n",
       "      <td>0.695236</td>\n",
       "      <td>0.672642</td>\n",
       "      <td>0.611207</td>\n",
       "    </tr>\n",
       "    <tr>\n",
       "      <th>1</th>\n",
       "      <td>0.930471</td>\n",
       "      <td>0.849351</td>\n",
       "      <td>0.799267</td>\n",
       "      <td>0.753179</td>\n",
       "      <td>0.618004</td>\n",
       "    </tr>\n",
       "    <tr>\n",
       "      <th>2</th>\n",
       "      <td>0.946397</td>\n",
       "      <td>0.919731</td>\n",
       "      <td>0.635349</td>\n",
       "      <td>0.708384</td>\n",
       "      <td>0.578563</td>\n",
       "    </tr>\n",
       "    <tr>\n",
       "      <th>3</th>\n",
       "      <td>0.957749</td>\n",
       "      <td>0.890137</td>\n",
       "      <td>0.674562</td>\n",
       "      <td>0.787179</td>\n",
       "      <td>0.644040</td>\n",
       "    </tr>\n",
       "    <tr>\n",
       "      <th>4</th>\n",
       "      <td>0.932088</td>\n",
       "      <td>0.877643</td>\n",
       "      <td>0.674127</td>\n",
       "      <td>0.710243</td>\n",
       "      <td>0.597489</td>\n",
       "    </tr>\n",
       "    <tr>\n",
       "      <th>5</th>\n",
       "      <td>0.946397</td>\n",
       "      <td>0.919461</td>\n",
       "      <td>0.791970</td>\n",
       "      <td>0.729966</td>\n",
       "      <td>0.588701</td>\n",
       "    </tr>\n",
       "    <tr>\n",
       "      <th>6</th>\n",
       "      <td>0.931818</td>\n",
       "      <td>0.863740</td>\n",
       "      <td>0.671328</td>\n",
       "      <td>0.693804</td>\n",
       "      <td>0.580856</td>\n",
       "    </tr>\n",
       "    <tr>\n",
       "      <th>7</th>\n",
       "      <td>0.946128</td>\n",
       "      <td>0.885859</td>\n",
       "      <td>0.684207</td>\n",
       "      <td>0.758663</td>\n",
       "      <td>0.656287</td>\n",
       "    </tr>\n",
       "    <tr>\n",
       "      <th>8</th>\n",
       "      <td>0.959596</td>\n",
       "      <td>0.931818</td>\n",
       "      <td>0.791656</td>\n",
       "      <td>0.795960</td>\n",
       "      <td>0.585830</td>\n",
       "    </tr>\n",
       "    <tr>\n",
       "      <th>9</th>\n",
       "      <td>0.932088</td>\n",
       "      <td>0.875909</td>\n",
       "      <td>0.741431</td>\n",
       "      <td>0.748184</td>\n",
       "      <td>0.623036</td>\n",
       "    </tr>\n",
       "  </tbody>\n",
       "</table>\n",
       "</div>"
      ],
      "text/plain": [
       "   AdaBoost_initial  AdaBoost_noise_1  AdaBoost_noise_2  AdaBoost_noise_3  \\\n",
       "0          0.973064          0.905993          0.695236          0.672642   \n",
       "1          0.930471          0.849351          0.799267          0.753179   \n",
       "2          0.946397          0.919731          0.635349          0.708384   \n",
       "3          0.957749          0.890137          0.674562          0.787179   \n",
       "4          0.932088          0.877643          0.674127          0.710243   \n",
       "5          0.946397          0.919461          0.791970          0.729966   \n",
       "6          0.931818          0.863740          0.671328          0.693804   \n",
       "7          0.946128          0.885859          0.684207          0.758663   \n",
       "8          0.959596          0.931818          0.791656          0.795960   \n",
       "9          0.932088          0.875909          0.741431          0.748184   \n",
       "\n",
       "   AdaBoost_noise_4  \n",
       "0          0.611207  \n",
       "1          0.618004  \n",
       "2          0.578563  \n",
       "3          0.644040  \n",
       "4          0.597489  \n",
       "5          0.588701  \n",
       "6          0.580856  \n",
       "7          0.656287  \n",
       "8          0.585830  \n",
       "9          0.623036  "
      ]
     },
     "execution_count": 66,
     "metadata": {},
     "output_type": "execute_result"
    }
   ],
   "source": [
    "#create table\n",
    "d1 = {\n",
    "    'AdaBoost_initial': f1_results['AdaBoost'],\n",
    "    'AdaBoost_noise_1': f1_results_noise_1['AdaBoost'],\n",
    "    'AdaBoost_noise_2': f1_results_noise_2['AdaBoost'],\n",
    "    'AdaBoost_noise_3': f1_results_noise_3['AdaBoost'],\n",
    "    'AdaBoost_noise_4': f1_results_noise_4['AdaBoost']\n",
    "    }\n",
    "Adaboost_table = pd.DataFrame(d1)\n",
    "Adaboost_table"
   ]
  },
  {
   "cell_type": "code",
   "execution_count": 67,
   "id": "352dd23d",
   "metadata": {},
   "outputs": [],
   "source": [
    "# Correlation between f1score of Adaboost and noise increase \n",
    "\n",
    "a = Adaboost_table.iloc[:,:1].squeeze()\n",
    "     \n",
    "b = Adaboost_table['AdaBoost_noise_1'].squeeze()\n",
    "\n",
    "c = Adaboost_table['AdaBoost_noise_2'].squeeze()\n",
    "  \n",
    "d = Adaboost_table['AdaBoost_noise_3'].squeeze()    \n",
    "\n",
    "e = Adaboost_table['AdaBoost_noise_4'].squeeze()\n",
    "\n",
    "f1 = pd.concat([a,b,c,d,e])\n",
    "\n",
    "f1 = pd.DataFrame(f1)\n",
    "\n",
    "f1.rename(columns = {0:'f1'}, inplace = True)\n",
    "f1.reset_index(drop=True, inplace=True)\n",
    "\n",
    "\n",
    "\n",
    "noise_1 = [1 for i in range(10)]\n",
    "noise_2 = [2 for i in range(10)]\n",
    "noise_3 = [3 for i in range(10)]\n",
    "noise_4 = [4 for i in range(10)]\n",
    "noise_5 = [5 for i in range(10)]\n",
    "\n",
    "noise = noise_1+noise_2+noise_3+noise_4+noise_5\n",
    "\n",
    "noise = pd.DataFrame(noise)\n",
    "\n",
    "noise.rename(columns = {0:'noise'}, inplace = True)\n",
    "noise.reset_index(drop=True, inplace=True)\n",
    "\n",
    "df_cor = pd.concat([f1,noise], axis=1)"
   ]
  },
  {
   "cell_type": "code",
   "execution_count": 68,
   "id": "8b736e49",
   "metadata": {},
   "outputs": [
    {
     "data": {
      "text/plain": [
       "<matplotlib.collections.PathCollection at 0x233b5de48b0>"
      ]
     },
     "execution_count": 68,
     "metadata": {},
     "output_type": "execute_result"
    },
    {
     "data": {
      "image/png": "[encoded data removed]",
      "text/plain": [
       "<Figure size 1440x1440 with 1 Axes>"
      ]
     },
     "metadata": {},
     "output_type": "display_data"
    }
   ],
   "source": [
    "plt.scatter(df_cor.iloc[:,1].values.tolist(), df_cor.iloc[:,0].values.tolist())"
   ]
  },
  {
   "cell_type": "code",
   "execution_count": 69,
   "id": "50ec7e2d",
   "metadata": {},
   "outputs": [
    {
     "name": "stdout",
     "output_type": "stream",
     "text": [
      "Since p-value(=0.000000) < alpha(=0.05) We reject the null hypothesis H0. So we conclude that there is correlation -0.92 at 0.05 level of significance.\n",
      "-0.9191896611055759\n"
     ]
    }
   ],
   "source": [
    "from scipy.stats import pearsonr\n",
    "\n",
    "# Returns Pearson’s correlation coefficient,2-tailed p-value)\n",
    "\n",
    "\n",
    "# Hypothesis\n",
    "\n",
    "# H0: ρ = 0\n",
    "\n",
    "# H1: ρ <> 0\n",
    "\n",
    "\n",
    "corr, p_value = pearsonr(df_cor.iloc[:,1].values.tolist(), df_cor.iloc[:,0].values.tolist())\n",
    "\n",
    "alpha = 0.05\n",
    "  \n",
    "if p_value<=alpha:\n",
    "\n",
    "    print('Since p-value(=%f)'%p_value,'<','alpha(=%.2f)'%alpha,'''We reject the null hypothesis H0. So we conclude that there is correlation %.2f at %.2f level of significance.'''%(corr,alpha))\n",
    "\n",
    "else:\n",
    "\n",
    "    print('Since p-value(=%f)'%p_value,'>','alpha(=%.2f)'%alpha,'''We do not reject the null hypothesis H0. So we conclude that there is not correlation at %.2f level of significance.''' %alpha)\n",
    "print(corr)"
   ]
  },
  {
   "cell_type": "code",
   "execution_count": 70,
   "id": "08a02b4d",
   "metadata": {},
   "outputs": [
    {
     "data": {
      "text/html": [
       "<div>\n",
       "<style scoped>\n",
       "    .dataframe tbody tr th:only-of-type {\n",
       "        vertical-align: middle;\n",
       "    }\n",
       "\n",
       "    .dataframe tbody tr th {\n",
       "        vertical-align: top;\n",
       "    }\n",
       "\n",
       "    .dataframe thead th {\n",
       "        text-align: right;\n",
       "    }\n",
       "</style>\n",
       "<table border=\"1\" class=\"dataframe\">\n",
       "  <thead>\n",
       "    <tr style=\"text-align: right;\">\n",
       "      <th></th>\n",
       "      <th>Other_Algorithms_initial</th>\n",
       "      <th>Other_Algorithms_noise_1</th>\n",
       "      <th>Other_Algorithms_noise_2</th>\n",
       "      <th>Other_Algorithms_noise_3</th>\n",
       "      <th>Other_Algorithms_noise_4</th>\n",
       "    </tr>\n",
       "  </thead>\n",
       "  <tbody>\n",
       "    <tr>\n",
       "      <th>0</th>\n",
       "      <td>0.968869</td>\n",
       "      <td>0.941192</td>\n",
       "      <td>0.831001</td>\n",
       "      <td>0.756599</td>\n",
       "      <td>0.606808</td>\n",
       "    </tr>\n",
       "    <tr>\n",
       "      <th>1</th>\n",
       "      <td>0.942165</td>\n",
       "      <td>0.909264</td>\n",
       "      <td>0.840556</td>\n",
       "      <td>0.736116</td>\n",
       "      <td>0.621331</td>\n",
       "    </tr>\n",
       "    <tr>\n",
       "      <th>2</th>\n",
       "      <td>0.947771</td>\n",
       "      <td>0.929630</td>\n",
       "      <td>0.820625</td>\n",
       "      <td>0.734498</td>\n",
       "      <td>0.646871</td>\n",
       "    </tr>\n",
       "    <tr>\n",
       "      <th>3</th>\n",
       "      <td>0.950420</td>\n",
       "      <td>0.912538</td>\n",
       "      <td>0.874178</td>\n",
       "      <td>0.766944</td>\n",
       "      <td>0.575874</td>\n",
       "    </tr>\n",
       "    <tr>\n",
       "      <th>4</th>\n",
       "      <td>0.950279</td>\n",
       "      <td>0.928970</td>\n",
       "      <td>0.836108</td>\n",
       "      <td>0.772325</td>\n",
       "      <td>0.659169</td>\n",
       "    </tr>\n",
       "    <tr>\n",
       "      <th>5</th>\n",
       "      <td>0.951347</td>\n",
       "      <td>0.908165</td>\n",
       "      <td>0.852567</td>\n",
       "      <td>0.735799</td>\n",
       "      <td>0.593754</td>\n",
       "    </tr>\n",
       "    <tr>\n",
       "      <th>6</th>\n",
       "      <td>0.946162</td>\n",
       "      <td>0.928316</td>\n",
       "      <td>0.821615</td>\n",
       "      <td>0.726719</td>\n",
       "      <td>0.587457</td>\n",
       "    </tr>\n",
       "    <tr>\n",
       "      <th>7</th>\n",
       "      <td>0.956546</td>\n",
       "      <td>0.910551</td>\n",
       "      <td>0.855020</td>\n",
       "      <td>0.750143</td>\n",
       "      <td>0.626352</td>\n",
       "    </tr>\n",
       "    <tr>\n",
       "      <th>8</th>\n",
       "      <td>0.964731</td>\n",
       "      <td>0.955766</td>\n",
       "      <td>0.888403</td>\n",
       "      <td>0.789558</td>\n",
       "      <td>0.653171</td>\n",
       "    </tr>\n",
       "    <tr>\n",
       "      <th>9</th>\n",
       "      <td>0.937253</td>\n",
       "      <td>0.879259</td>\n",
       "      <td>0.795207</td>\n",
       "      <td>0.724549</td>\n",
       "      <td>0.564215</td>\n",
       "    </tr>\n",
       "  </tbody>\n",
       "</table>\n",
       "</div>"
      ],
      "text/plain": [
       "   Other_Algorithms_initial  Other_Algorithms_noise_1  \\\n",
       "0                  0.968869                  0.941192   \n",
       "1                  0.942165                  0.909264   \n",
       "2                  0.947771                  0.929630   \n",
       "3                  0.950420                  0.912538   \n",
       "4                  0.950279                  0.928970   \n",
       "5                  0.951347                  0.908165   \n",
       "6                  0.946162                  0.928316   \n",
       "7                  0.956546                  0.910551   \n",
       "8                  0.964731                  0.955766   \n",
       "9                  0.937253                  0.879259   \n",
       "\n",
       "   Other_Algorithms_noise_2  Other_Algorithms_noise_3  \\\n",
       "0                  0.831001                  0.756599   \n",
       "1                  0.840556                  0.736116   \n",
       "2                  0.820625                  0.734498   \n",
       "3                  0.874178                  0.766944   \n",
       "4                  0.836108                  0.772325   \n",
       "5                  0.852567                  0.735799   \n",
       "6                  0.821615                  0.726719   \n",
       "7                  0.855020                  0.750143   \n",
       "8                  0.888403                  0.789558   \n",
       "9                  0.795207                  0.724549   \n",
       "\n",
       "   Other_Algorithms_noise_4  \n",
       "0                  0.606808  \n",
       "1                  0.621331  \n",
       "2                  0.646871  \n",
       "3                  0.575874  \n",
       "4                  0.659169  \n",
       "5                  0.593754  \n",
       "6                  0.587457  \n",
       "7                  0.626352  \n",
       "8                  0.653171  \n",
       "9                  0.564215  "
      ]
     },
     "execution_count": 70,
     "metadata": {},
     "output_type": "execute_result"
    }
   ],
   "source": [
    "#create table\n",
    "d2 = {\n",
    "    'Other_Algorithms_initial': f1_results_other_algorithms,\n",
    "    'Other_Algorithms_noise_1': f1_results_noise_1_other_algorithms,\n",
    "    'Other_Algorithms_noise_2': f1_results_noise_2_other_algorithms,\n",
    "    'Other_Algorithms_noise_3': f1_results_noise_3_other_algorithms,\n",
    "    'Other_Algorithms_noise_4': f1_results_noise_4_other_algorithms\n",
    "    }\n",
    "Other_Algorithms_table = pd.DataFrame(d2)\n",
    "Other_Algorithms_table"
   ]
  },
  {
   "cell_type": "code",
   "execution_count": 71,
   "id": "bea4224e",
   "metadata": {},
   "outputs": [],
   "source": [
    "# Correlation between f1score of Other algorithms mean value and noise increase \n",
    "\n",
    "a = Other_Algorithms_table.iloc[:,:1].squeeze()\n",
    "     \n",
    "b = Other_Algorithms_table['Other_Algorithms_noise_1'].squeeze()\n",
    "\n",
    "c = Other_Algorithms_table['Other_Algorithms_noise_2'].squeeze()\n",
    "  \n",
    "d = Other_Algorithms_table['Other_Algorithms_noise_3'].squeeze()    \n",
    "\n",
    "e = Other_Algorithms_table['Other_Algorithms_noise_4'].squeeze()\n",
    "\n",
    "f1 = pd.concat([a,b,c,d,e])\n",
    "\n",
    "f1 = pd.DataFrame(f1)\n",
    "\n",
    "f1.rename(columns = {0:'f1'}, inplace = True)\n",
    "f1.reset_index(drop=True, inplace=True)\n",
    "\n",
    "\n",
    "noise_1 = [1 for i in range(10)]\n",
    "noise_2 = [2 for i in range(10)]\n",
    "noise_3 = [3 for i in range(10)]\n",
    "noise_4 = [4 for i in range(10)]\n",
    "noise_5 = [5 for i in range(10)]\n",
    "\n",
    "noise = noise_1+noise_2+noise_3+noise_4+noise_5\n",
    "\n",
    "noise = pd.DataFrame(noise)\n",
    "\n",
    "noise.rename(columns = {0:'noise'}, inplace = True)\n",
    "noise.reset_index(drop=True, inplace=True)\n",
    "\n",
    "\n",
    "df_cor = pd.concat([f1,noise], axis=1)"
   ]
  },
  {
   "cell_type": "code",
   "execution_count": 72,
   "id": "e78930d4",
   "metadata": {},
   "outputs": [
    {
     "data": {
      "text/plain": [
       "<matplotlib.collections.PathCollection at 0x233b670d4c0>"
      ]
     },
     "execution_count": 72,
     "metadata": {},
     "output_type": "execute_result"
    },
    {
     "data": {
      "image/png": "[encoded data removed]",
      "text/plain": [
       "<Figure size 1440x1440 with 1 Axes>"
      ]
     },
     "metadata": {},
     "output_type": "display_data"
    }
   ],
   "source": [
    "plt.scatter(df_cor.iloc[:,1].values.tolist(), df_cor.iloc[:,0].values.tolist())"
   ]
  },
  {
   "cell_type": "code",
   "execution_count": 73,
   "id": "5b7ed507",
   "metadata": {},
   "outputs": [
    {
     "name": "stdout",
     "output_type": "stream",
     "text": [
      "Since p-value(=0.000000) < alpha(=0.05) We reject the null hypothesis H0. So we conclude that there is correlation -0.96 at 0.05 level of significance.\n",
      "-0.9595744246749203\n"
     ]
    }
   ],
   "source": [
    "from scipy.stats import pearsonr\n",
    "\n",
    "# Returns Pearson’s correlation coefficient,2-tailed p-value)\n",
    "\n",
    "\n",
    "# Hypothesis\n",
    "\n",
    "# H0: ρ = 0\n",
    "\n",
    "# H1: ρ <> 0\n",
    "\n",
    "\n",
    "corr, p_value = pearsonr(df_cor.iloc[:,1].values.tolist(), df_cor.iloc[:,0].values.tolist())\n",
    "\n",
    "alpha = 0.05\n",
    "  \n",
    "if p_value<=alpha:\n",
    "\n",
    "    print('Since p-value(=%f)'%p_value,'<','alpha(=%.2f)'%alpha,'''We reject the null hypothesis H0. So we conclude that there is correlation %.2f at %.2f level of significance.'''%(corr,alpha))\n",
    "\n",
    "else:\n",
    "\n",
    "    print('Since p-value(=%f)'%p_value,'>','alpha(=%.2f)'%alpha,'''We do not reject the null hypothesis H0. So we conclude that there is not correlation at %.2f level of significance.''' %alpha)\n",
    "print(corr)"
   ]
  },
  {
   "cell_type": "code",
   "execution_count": null,
   "id": "ed556f94",
   "metadata": {},
   "outputs": [],
   "source": []
  }
 ],
 "metadata": {
  "kernelspec": {
   "display_name": "Python 3 (ipykernel)",
   "language": "python",
   "name": "python3"
  },
  "language_info": {
   "codemirror_mode": {
    "name": "ipython",
    "version": 3
   },
   "file_extension": ".py",
   "mimetype": "text/x-python",
   "name": "python",
   "nbconvert_exporter": "python",
   "pygments_lexer": "ipython3",
   "version": "3.9.7"
  }
 },
 "nbformat": 4,
 "nbformat_minor": 5
}
